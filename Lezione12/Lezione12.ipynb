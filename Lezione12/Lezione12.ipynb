{
 "cells": [
  {
   "cell_type": "markdown",
   "metadata": {},
   "source": [
    "## Lezione 12"
   ]
  },
  {
   "cell_type": "markdown",
   "metadata": {},
   "source": [
    "## Lettura e scrittura su file\n",
    "Usiamo il comando `open()` ed è normlmente usato con due argomenti\n",
    "- l'indirizzo del file\n",
    "- la modalità di accesso\n",
    "\n",
    "`open()` restituisce uno `Stream` (conosciuto anche come `file object`) che ha i seguenti metodi:\n",
    "- .close()\n",
    "- .read() e .write()\n",
    "- .readline()\n",
    "- .readlines()"
   ]
  },
  {
   "cell_type": "raw",
   "metadata": {},
   "source": [
    "    ========= ===============================================================\n",
    "    Modalità di accesso\n",
    "    --------- ---------------------------------------------------------------\n",
    "    'r'       lettura (reading) (default)\n",
    "    'w'       scrittura (writing)\n",
    "    'x'       crea un nuovo file e lo apre in scrittura\n",
    "    'a'       scrittura e se il file esiste aggiunge (append) il contenuto in coda al file\n",
    "    'b'       modalità binaria\n",
    "    't'       modalità testuale (default)\n",
    "    '+'       open a disk file for updating (reading and writing)\n",
    "    ========= ==============================================================="
   ]
  },
  {
   "cell_type": "markdown",
   "metadata": {},
   "source": [
    "#### Esempio: scriviamo su un file\n",
    "#### `.write(string)` (posso scrivere solo stringhe!!)\n",
    "(ritorna in output il numero di caratteri scritti)"
   ]
  },
  {
   "cell_type": "code",
   "execution_count": null,
   "metadata": {},
   "outputs": [],
   "source": [
    "file=open('file/provaScrittura2.txt','wt') # apro un file in modalità scrittura (w) testuale (t)\n",
    "file.write(\"ciao\\n\")   # scrivo sul file ciao e vado a capo con \\n\n",
    "file.write(\"come stai?\\n\") \n",
    "file.close()  # chiudo e salvo il file"
   ]
  },
  {
   "cell_type": "markdown",
   "metadata": {},
   "source": [
    "#### `.close()` mi permette di scrivere/leggere e rilasciare le risorse impegnate (per la scrittura/lettura)\n",
    "#### quando finisco di leggere/scrivere su un file devo **SEMPRE** chiuderlo!"
   ]
  },
  {
   "cell_type": "code",
   "execution_count": null,
   "metadata": {},
   "outputs": [],
   "source": [
    "file=open('file/provaScrittura2.txt','w')   # sto bloccando il file (solo io posso scriverci)\n",
    "file.write(\"ciao\\n\")\n",
    "file.write(\"come stai?\\n\")\n",
    "file.close()"
   ]
  },
  {
   "cell_type": "markdown",
   "metadata": {},
   "source": [
    "#### `.read()`"
   ]
  },
  {
   "cell_type": "code",
   "execution_count": null,
   "metadata": {},
   "outputs": [],
   "source": [
    "file=open('file/provaScrittura2.txt')# apro un file in modalità lettura\n",
    "contenuto = file.read() # contenuto è una stringa unica...\n",
    "contenuto"
   ]
  },
  {
   "cell_type": "code",
   "execution_count": null,
   "metadata": {},
   "outputs": [],
   "source": [
    "righe = contenuto.split(\"\\n\")\n",
    "print(righe)"
   ]
  },
  {
   "cell_type": "code",
   "execution_count": null,
   "metadata": {},
   "outputs": [],
   "source": [
    "righe = contenuto.split(\"\\n\") # uso split per creare una lista con le righe del testo\n",
    "file.close()            # esco dalla lettura del file e lo chiudo\n",
    "print(righe)"
   ]
  },
  {
   "cell_type": "markdown",
   "metadata": {},
   "source": [
    "#### `.readlines()`"
   ]
  },
  {
   "cell_type": "code",
   "execution_count": null,
   "metadata": {},
   "outputs": [],
   "source": [
    "file=open('file/provaScrittura2.txt','r')# apro un file in modalità lettura, la t è di default!\n",
    "righe = file.readlines() # readlines crea direttamente una lista con le righe del testo\n",
    "file.close()\n",
    "print(righe)"
   ]
  },
  {
   "cell_type": "markdown",
   "metadata": {},
   "source": [
    "#### `.readline()`"
   ]
  },
  {
   "cell_type": "code",
   "execution_count": null,
   "metadata": {},
   "outputs": [],
   "source": [
    "file=open('file/provaScrittura2.txt','r')# apro un file in modalità lettura\n",
    "# file=open('provaScrittura.txt') posso omettere la r che è il valore di default per la modalità\n",
    "print(file.readline()) # readline legge una riga del testo\n",
    "print(file.readline()) # se lo chiamo una seconda volta legge la riga successiva e così via\n",
    "print(file.readline())\n",
    "print(file.readline()) # se chiamo il metodo readline() più volte rispetto alle righe del testo\n",
    "file.close()           # python non \"si arrabbia\" ma non ritorna nulla. "
   ]
  },
  {
   "cell_type": "markdown",
   "metadata": {},
   "source": [
    "### `with` keyword (auto closable)"
   ]
  },
  {
   "cell_type": "code",
   "execution_count": null,
   "metadata": {},
   "outputs": [],
   "source": [
    "# posso evitare di chiudere un file usando il comando with. Il file viene chiuso automaticamente \n",
    "# appena la computazione esce dallo scope del with!!! \n",
    "with open('file/provaScrittura2.txt') as file:\n",
    "    print(file.readlines())"
   ]
  },
  {
   "cell_type": "markdown",
   "metadata": {},
   "source": [
    "### Ciclo for su uno Stream"
   ]
  },
  {
   "cell_type": "code",
   "execution_count": null,
   "metadata": {},
   "outputs": [],
   "source": [
    "with open('file/provaScrittura2.txt') as file:\n",
    "    for line in file:\n",
    "        print(line)         "
   ]
  },
  {
   "cell_type": "markdown",
   "metadata": {},
   "source": [
    "### Esercizio 1\n",
    "Contiamo quante volte ogni parola è presente nel testo 'file/loremipsum.txt'.  "
   ]
  },
  {
   "cell_type": "code",
   "execution_count": null,
   "metadata": {},
   "outputs": [],
   "source": [
    "with open('file/loremipsum.txt') as file:\n",
    "    contenuto=file.read()\n",
    "parole = contenuto.replace(\"\\n\",\" \").replace(\",\",\"\").replace(\".\",\"\").split(\" \")[:-1]\n",
    "parole_lower = [parola.lower() for parola in parole]\n",
    "diz={}\n",
    "for a in parole_lower:\n",
    "    diz[a] = diz.get(a,0)+1\n",
    "print(diz)"
   ]
  },
  {
   "cell_type": "markdown",
   "metadata": {},
   "source": [
    "### Esercizio 2\n",
    "Costruiamo un dizionario con chiavi la lettere iniziali e con valore la parole di lunghezza maggiore contenute nel testo 'file/loremipsum.txt' che iniziano con quelle lettere. "
   ]
  },
  {
   "cell_type": "code",
   "execution_count": null,
   "metadata": {},
   "outputs": [],
   "source": [
    "# Scrivi Qui"
   ]
  },
  {
   "cell_type": "markdown",
   "metadata": {},
   "source": [
    "### Esercizio 3\n",
    "definire una funzione che prende in input una stringa e sostituisce se presenti la lettera\n",
    "- r con da d (e viceversa)\n",
    "- b con la c (e viceversa)\n",
    "- tutte le vocali con la z\n",
    "- ritorna in output la stringa dopo le sostituizioni\n",
    "\n",
    "esempio:`esercizio3(\"abracadabra\") ->  zcdzbzrzcdz`"
   ]
  }
 ],
 "metadata": {
  "kernelspec": {
   "display_name": "Python 3",
   "language": "python",
   "name": "python3"
  },
  "language_info": {
   "codemirror_mode": {
    "name": "ipython",
    "version": 3
   },
   "file_extension": ".py",
   "mimetype": "text/x-python",
   "name": "python",
   "nbconvert_exporter": "python",
   "pygments_lexer": "ipython3",
   "version": "3.6.9"
  }
 },
 "nbformat": 4,
 "nbformat_minor": 4
}
