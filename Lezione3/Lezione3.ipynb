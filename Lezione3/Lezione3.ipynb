{
 "cells": [
  {
   "cell_type": "markdown",
   "metadata": {},
   "source": [
    "# LEZIONE 3"
   ]
  },
  {
   "cell_type": "markdown",
   "metadata": {},
   "source": [
    "### Altre operazioni con le stringhe: `.count()`, `.replace()` e `.split()`"
   ]
  },
  {
   "cell_type": "code",
   "execution_count": 1,
   "metadata": {},
   "outputs": [
    {
     "name": "stdout",
     "output_type": "stream",
     "text": [
      "s =  Pippo\n",
      "s.count('p'):  2\n",
      "\n",
      "s_new = s.replace('p','d')\n",
      "s =  Pippo\n",
      "s_new =  Piddo\n"
     ]
    }
   ],
   "source": [
    "s = 'Pippo'\n",
    "print('s = ',s)\n",
    "print(\"s.count('p'): \",s.count('p'))  # Python è case-sesitive, quindi P non è uguale a p!!\n",
    "s_new = s.replace('p','d')\n",
    "print(\"\")\n",
    "print(\"s_new = s.replace('p','d')\")\n",
    "print('s = ',s)\n",
    "print('s_new = ',s_new)"
   ]
  },
  {
   "cell_type": "markdown",
   "metadata": {},
   "source": [
    "#### Le stringhe sono immutabili non posso cambiare i loro elementi"
   ]
  },
  {
   "cell_type": "code",
   "execution_count": null,
   "metadata": {},
   "outputs": [],
   "source": [
    "s = 'ciao'\n",
    "s[2] = 'r'"
   ]
  },
  {
   "cell_type": "markdown",
   "metadata": {},
   "source": [
    "#### Esercizio 1\n",
    "Considerate la stringa \"ciao\". Trovate il modo di sostituire la \"a\" con la \"r\" senza usare la funzione replace. "
   ]
  },
  {
   "cell_type": "code",
   "execution_count": null,
   "metadata": {},
   "outputs": [],
   "source": [
    "# Scrivi qui"
   ]
  },
  {
   "cell_type": "markdown",
   "metadata": {},
   "source": [
    "## Definire delle funzioni"
   ]
  },
  {
   "cell_type": "code",
   "execution_count": 44,
   "metadata": {},
   "outputs": [],
   "source": [
    "def f(x):  # x è l'argomento della funzione. L'argomento al quale si applica f().\n",
    "    \"\"\"Questa è la docstring!\"\"\"  # non è obbligatorio, rappresenta la docstring della funzione. \n",
    "    a = 2*x\n",
    "    return a # serve per fare terminare la computazione di f e ritornare il valore."
   ]
  },
  {
   "cell_type": "code",
   "execution_count": 15,
   "metadata": {},
   "outputs": [
    {
     "data": {
      "text/plain": [
       "20"
      ]
     },
     "execution_count": 15,
     "metadata": {},
     "output_type": "execute_result"
    }
   ],
   "source": [
    "f(10)"
   ]
  },
  {
   "cell_type": "code",
   "execution_count": 51,
   "metadata": {},
   "outputs": [
    {
     "data": {
      "text/plain": [
       "68"
      ]
     },
     "execution_count": 51,
     "metadata": {},
     "output_type": "execute_result"
    }
   ],
   "source": [
    "f(x=34)"
   ]
  },
  {
   "cell_type": "code",
   "execution_count": 16,
   "metadata": {},
   "outputs": [
    {
     "name": "stdout",
     "output_type": "stream",
     "text": [
      "Help on function f in module __main__:\n",
      "\n",
      "f(x)\n",
      "    Questa è la docstring!\n",
      "\n"
     ]
    }
   ],
   "source": [
    "help(f) # il module __main__ corrisponde a queto foglio di lavoro. "
   ]
  },
  {
   "cell_type": "code",
   "execution_count": 36,
   "metadata": {},
   "outputs": [
    {
     "data": {
      "text/plain": [
       "function"
      ]
     },
     "execution_count": 36,
     "metadata": {},
     "output_type": "execute_result"
    }
   ],
   "source": [
    "type(f) # le function sono degli oggetti di tipo function "
   ]
  },
  {
   "cell_type": "code",
   "execution_count": 18,
   "metadata": {},
   "outputs": [
    {
     "ename": "TypeError",
     "evalue": "f() takes 1 positional argument but 2 were given",
     "output_type": "error",
     "traceback": [
      "\u001b[0;31m---------------------------------------------------------------------------\u001b[0m",
      "\u001b[0;31mTypeError\u001b[0m                                 Traceback (most recent call last)",
      "\u001b[0;32m<ipython-input-18-753ce57e187d>\u001b[0m in \u001b[0;36m<module>\u001b[0;34m\u001b[0m\n\u001b[0;32m----> 1\u001b[0;31m \u001b[0mf\u001b[0m\u001b[0;34m(\u001b[0m\u001b[0;36m1\u001b[0m\u001b[0;34m,\u001b[0m\u001b[0;36m1\u001b[0m\u001b[0;34m)\u001b[0m \u001b[0;31m# mi ritorna in TypeError!\u001b[0m\u001b[0;34m\u001b[0m\u001b[0;34m\u001b[0m\u001b[0m\n\u001b[0m",
      "\u001b[0;31mTypeError\u001b[0m: f() takes 1 positional argument but 2 were given"
     ]
    }
   ],
   "source": [
    "f(1,1) # mi ritorna in TypeError!"
   ]
  },
  {
   "cell_type": "markdown",
   "metadata": {},
   "source": [
    "### Due tipi di funzioni \n",
    "In altri linguaggi si distingue tra **funzioni** e **procedure**. Le prime ritornano un valore, le seconde no (effettuano solo una computazione).\n",
    "In Python non c'è differenza. Le funzioni che non hanno un return, di default ritornano `None` (ovvero un oggetto che rappresenta il nulla).\n",
    "Quindi le procedure vengono considerate funzioni che ritornano un valore nullo. "
   ]
  },
  {
   "cell_type": "code",
   "execution_count": 37,
   "metadata": {},
   "outputs": [
    {
     "name": "stdout",
     "output_type": "stream",
     "text": [
      "ciao come va?\n",
      "None\n"
     ]
    }
   ],
   "source": [
    "# print è una funzione che non ritorna un valore...\n",
    "valore = print(\"ciao come va?\")\n",
    "print(valore)"
   ]
  },
  {
   "cell_type": "code",
   "execution_count": 38,
   "metadata": {},
   "outputs": [
    {
     "name": "stdout",
     "output_type": "stream",
     "text": [
      "None\n"
     ]
    }
   ],
   "source": [
    "def procedura():\n",
    "    a = 12\n",
    "valore = procedura()\n",
    "print(valore)"
   ]
  },
  {
   "cell_type": "code",
   "execution_count": 39,
   "metadata": {},
   "outputs": [
    {
     "name": "stdout",
     "output_type": "stream",
     "text": [
      "None\n"
     ]
    }
   ],
   "source": [
    "print(valore)"
   ]
  },
  {
   "cell_type": "markdown",
   "metadata": {},
   "source": [
    "### Esercizio 1\n",
    "Definire la funzione `somma(x,y)` che torna la somma tra x e y "
   ]
  },
  {
   "cell_type": "code",
   "execution_count": 40,
   "metadata": {},
   "outputs": [],
   "source": [
    "# Scrivi qui"
   ]
  },
  {
   "cell_type": "markdown",
   "metadata": {},
   "source": [
    "### Esercizio 2\n",
    "Definire una funzione che prende come argomento una parola e una lettera.   \n",
    "Ritorna quante volte quella lettera è contenuta nella parola.  \n",
    "**Nota:** a volte userò input come sinonimo di argomento. "
   ]
  },
  {
   "cell_type": "code",
   "execution_count": 41,
   "metadata": {},
   "outputs": [],
   "source": [
    "# scrivi qui"
   ]
  },
  {
   "cell_type": "markdown",
   "metadata": {},
   "source": [
    "### Argomenti con valori di Default in una funzione\n",
    "Possimo definire dei valori di default per gli argomenti "
   ]
  },
  {
   "cell_type": "code",
   "execution_count": 46,
   "metadata": {},
   "outputs": [],
   "source": [
    "def somma(a,b=1,c=1): \n",
    "    return a+b+c"
   ]
  },
  {
   "cell_type": "code",
   "execution_count": 48,
   "metadata": {},
   "outputs": [
    {
     "name": "stdout",
     "output_type": "stream",
     "text": [
      "2\n"
     ]
    }
   ],
   "source": [
    "print(somma(0)) # se non specifico b e c vengono passati i valori di default. "
   ]
  },
  {
   "cell_type": "code",
   "execution_count": 57,
   "metadata": {},
   "outputs": [
    {
     "name": "stdout",
     "output_type": "stream",
     "text": [
      "45\n",
      "45\n",
      "45\n",
      "45\n",
      "45\n"
     ]
    }
   ],
   "source": [
    "# cosa posso fare?\n",
    "print(somma(1,10,34))\n",
    "print(somma(1,10,c=34))\n",
    "print(somma(1,b=10,c=34))\n",
    "print(somma(a=1,b=10,c=34))\n",
    "print(somma(b=10,c=34, a=1)) "
   ]
  },
  {
   "cell_type": "code",
   "execution_count": 1,
   "metadata": {},
   "outputs": [
    {
     "ename": "SyntaxError",
     "evalue": "positional argument follows keyword argument (<ipython-input-1-56e44286aa5a>, line 2)",
     "output_type": "error",
     "traceback": [
      "\u001b[0;36m  File \u001b[0;32m\"<ipython-input-1-56e44286aa5a>\"\u001b[0;36m, line \u001b[0;32m2\u001b[0m\n\u001b[0;31m    print(somma(a=1,b=10,34)) # usare un argomento posizionale dopo uno di tipo \"keyword\"\u001b[0m\n\u001b[0m                        ^\u001b[0m\n\u001b[0;31mSyntaxError\u001b[0m\u001b[0;31m:\u001b[0m positional argument follows keyword argument\n"
     ]
    }
   ],
   "source": [
    "# cosa NON posso fare?\n",
    "print(somma(a=1,b=10,34)) # usare un argomento posizionale dopo uno di tipo \"keyword\" "
   ]
  },
  {
   "cell_type": "markdown",
   "metadata": {},
   "source": [
    "### Scope di una funzione\n",
    "_scope_: lo spazio dove le variabili hanno validità"
   ]
  },
  {
   "cell_type": "code",
   "execution_count": 6,
   "metadata": {},
   "outputs": [
    {
     "name": "stdout",
     "output_type": "stream",
     "text": [
      "fun(1) = 2\n"
     ]
    },
    {
     "ename": "NameError",
     "evalue": "name 'a' is not defined",
     "output_type": "error",
     "traceback": [
      "\u001b[0;31m---------------------------------------------------------------------------\u001b[0m",
      "\u001b[0;31mNameError\u001b[0m                                 Traceback (most recent call last)",
      "\u001b[0;32m<ipython-input-6-1fc85a44661a>\u001b[0m in \u001b[0;36m<module>\u001b[0;34m\u001b[0m\n\u001b[1;32m      3\u001b[0m     \u001b[0;32mreturn\u001b[0m \u001b[0mx\u001b[0m \u001b[0;34m+\u001b[0m \u001b[0ma\u001b[0m\u001b[0;34m\u001b[0m\u001b[0;34m\u001b[0m\u001b[0m\n\u001b[1;32m      4\u001b[0m \u001b[0mprint\u001b[0m\u001b[0;34m(\u001b[0m\u001b[0;34m'fun(1) ='\u001b[0m\u001b[0;34m,\u001b[0m\u001b[0mfun\u001b[0m\u001b[0;34m(\u001b[0m\u001b[0;36m1\u001b[0m\u001b[0;34m)\u001b[0m\u001b[0;34m)\u001b[0m\u001b[0;34m\u001b[0m\u001b[0;34m\u001b[0m\u001b[0m\n\u001b[0;32m----> 5\u001b[0;31m \u001b[0mprint\u001b[0m\u001b[0;34m(\u001b[0m\u001b[0ma\u001b[0m\u001b[0;34m)\u001b[0m\u001b[0;34m\u001b[0m\u001b[0;34m\u001b[0m\u001b[0m\n\u001b[0m",
      "\u001b[0;31mNameError\u001b[0m: name 'a' is not defined"
     ]
    }
   ],
   "source": [
    "def fun(x):\n",
    "    a = 1 # visibile solo dentro la funzione!              \n",
    "    return x + a\n",
    "print('fun(1) =',fun(1))\n",
    "print(a)"
   ]
  },
  {
   "cell_type": "code",
   "execution_count": 11,
   "metadata": {},
   "outputs": [
    {
     "name": "stdout",
     "output_type": "stream",
     "text": [
      "fun(1) = 21\n"
     ]
    }
   ],
   "source": [
    "def fun(x):     \n",
    "    return x + 2*b\n",
    "print('fun(1) =',fun(1))"
   ]
  },
  {
   "cell_type": "code",
   "execution_count": 14,
   "metadata": {},
   "outputs": [
    {
     "name": "stdout",
     "output_type": "stream",
     "text": [
      "fun(1) = 21\n"
     ]
    }
   ],
   "source": [
    "c = 10\n",
    "def fun(x):     \n",
    "    return x + 2*c      # la funzione non trova c nel suo scope, quindi cerca nello scope esterno. \n",
    "print('fun(1) =',fun(1))"
   ]
  },
  {
   "cell_type": "markdown",
   "metadata": {},
   "source": [
    "#### Esercizio 3"
   ]
  },
  {
   "cell_type": "code",
   "execution_count": 15,
   "metadata": {},
   "outputs": [],
   "source": [
    "v = 10\n",
    "def esercizio3(x,y):\n",
    "    v = 2\n",
    "    return x*v+y\n",
    "\n",
    "# quanto vale v? \n",
    "# quanto vale esercizio3(1,1)?"
   ]
  },
  {
   "cell_type": "markdown",
   "metadata": {},
   "source": [
    "### global"
   ]
  },
  {
   "cell_type": "code",
   "execution_count": 25,
   "metadata": {},
   "outputs": [
    {
     "name": "stdout",
     "output_type": "stream",
     "text": [
      "v (prima) =  10\n",
      "w (prima) =  5\n",
      "v (dopo) =  2\n",
      "w (dopo) =  1\n"
     ]
    }
   ],
   "source": [
    "v = 10\n",
    "w = 5\n",
    "def esercizio3(x,y):\n",
    "    global v,w\n",
    "    v = 2\n",
    "    w = 1\n",
    "    return x*v+y*w\n",
    "\n",
    "print(\"v (prima) = \",v)\n",
    "print(\"w (prima) = \",w)\n",
    "esercizio3(1,2)\n",
    "print(\"v (dopo) = \",v)\n",
    "print(\"w (dopo) = \",w)"
   ]
  },
  {
   "cell_type": "markdown",
   "metadata": {},
   "source": [
    "### Usare funzioni dentro altre funzioni"
   ]
  },
  {
   "cell_type": "code",
   "execution_count": 7,
   "metadata": {},
   "outputs": [],
   "source": [
    "def resto(x):\n",
    "    def fun(y):     # Funzione definita dentro un'altra funzione!\n",
    "        return y%x\n",
    "    return fun      # Ritorna una funziona che verifica che ritorna il resto della divisione per x"
   ]
  },
  {
   "cell_type": "code",
   "execution_count": 2,
   "metadata": {},
   "outputs": [
    {
     "name": "stdout",
     "output_type": "stream",
     "text": [
      "12\n"
     ]
    }
   ],
   "source": [
    "def successore(x):\n",
    "    return x+1\n",
    "\n",
    "def n_successore(x):\n",
    "    def fun(y):\n",
    "        return x + y\n",
    "    return fun\n",
    "\n",
    "successore10 = n_successore(10) #successore10 è una funzione che prende un numero come input e ritorna 10 + quel numero.\n",
    "print(successore10(2))"
   ]
  },
  {
   "cell_type": "code",
   "execution_count": 6,
   "metadata": {},
   "outputs": [
    {
     "data": {
      "text/plain": [
       "2"
      ]
     },
     "execution_count": 6,
     "metadata": {},
     "output_type": "execute_result"
    }
   ],
   "source": [
    "a = 2\n",
    "def fun(x):\n",
    "    a = 1 \n",
    "    return x+a\n",
    "fun(1)"
   ]
  },
  {
   "cell_type": "markdown",
   "metadata": {},
   "source": [
    "###  A cosa servono le funzioni?"
   ]
  },
  {
   "cell_type": "code",
   "execution_count": 9,
   "metadata": {},
   "outputs": [
    {
     "name": "stdout",
     "output_type": "stream",
     "text": [
      "4:31\n"
     ]
    }
   ],
   "source": [
    "#scrivere codice in maniera comprensibile e pulita\n",
    "#esempio\n",
    "partenza = '12:52'\n",
    "arrivo = '17:23'\n",
    "orario_partenza = partenza.split(':')\n",
    "orario_arrivo = arrivo.split(':')\n",
    "tot = int(orario_arrivo[1])+int(orario_arrivo[0])*60 - (int(orario_partenza[1])+int(orario_partenza[0])*60)\n",
    "print('{}:{}'.format(tot//60,tot%60))"
   ]
  },
  {
   "cell_type": "code",
   "execution_count": 10,
   "metadata": {},
   "outputs": [
    {
     "name": "stdout",
     "output_type": "stream",
     "text": [
      "4:31\n"
     ]
    }
   ],
   "source": [
    "#inoltre evitiamo la duplicazione di codice. \n",
    "def minuti_totali(orario_string):\n",
    "    orario = orario_string.split(':')\n",
    "    return int(orario[1])+int(orario[0])*60 \n",
    "def to_string(minuti):\n",
    "    return '{}:{}'.format(minuti//60,minuti%60)\n",
    "\n",
    "partenza = '12:52'\n",
    "arrivo = '17:23'\n",
    "tot=minuti_totali(arrivo) - minuti_totali(partenza)\n",
    "print(to_string(tot))"
   ]
  },
  {
   "cell_type": "code",
   "execution_count": 1,
   "metadata": {},
   "outputs": [],
   "source": [
    "#definiamo una funzione  che sostituisce <carattere> nella <parola> nella posizione di indice <indice> \n",
    "def sostituzione(parola, carattere, indice):\n",
    "    prima = parola[:indice]\n",
    "    dopo = parola[indice+1:]\n",
    "    return prima+carattere+dopo"
   ]
  },
  {
   "cell_type": "code",
   "execution_count": 12,
   "metadata": {},
   "outputs": [
    {
     "name": "stdout",
     "output_type": "stream",
     "text": [
      "pirpo\n"
     ]
    }
   ],
   "source": [
    "a = sostituzione(\"pippo\",\"r\",2)\n",
    "print(a)"
   ]
  },
  {
   "cell_type": "markdown",
   "metadata": {},
   "source": [
    "## [Python Enhancement Proposals](https://www.python.org/dev/peps/)\n",
    "> PEP stands for Python Enhancement Proposal. A PEP is a design document providing information to the Python community, or describing a new feature for Python or its processes or environment. The PEP should provide a concise technical specification of the feature and a rationale for the feature.\n",
    "### Pep 8: Conding Style\n",
    "- [Official](https://www.python.org/dev/peps/pep-0008/)\n",
    "- [pep8.org](https://pep8.org/)\n"
   ]
  },
  {
   "cell_type": "markdown",
   "metadata": {},
   "source": [
    "## Booleani\n",
    "Insieme con due valori di verità: `True` e `False`  \n",
    "e quattro operazioni: `and`, `or`, `not`"
   ]
  },
  {
   "cell_type": "markdown",
   "metadata": {},
   "source": [
    "<table>\n",
    "<tr><td>\n",
    "    \n",
    "| X | ¬X |\n",
    "| - | -  |\n",
    "| True | False|\n",
    "| False | True |\n",
    "    \n",
    "</td><td>\n",
    "    \n",
    "| X | Y   | X and Y | X or Y| \n",
    "|------|------|-----|-----|\n",
    "|   True  | True | True | True|\n",
    "|   True  | False | False | True|\n",
    "|   False  | True | False | True|\n",
    "|   False  | False | False | False|\n",
    "    \n",
    "</td></tr> </table>"
   ]
  },
  {
   "cell_type": "code",
   "execution_count": 90,
   "metadata": {},
   "outputs": [
    {
     "name": "stdout",
     "output_type": "stream",
     "text": [
      "True\n",
      "False\n",
      "True\n",
      "True\n"
     ]
    }
   ],
   "source": [
    "a = True or False\n",
    "b = False and False \n",
    "c = False or True\n",
    "d = True and True\n",
    "print(a,b,c,d,sep='\\n')"
   ]
  },
  {
   "cell_type": "markdown",
   "metadata": {},
   "source": [
    "Anche i numeri hanno un valore di verità: `0` è `False` mentre tutto il resto `True` "
   ]
  },
  {
   "cell_type": "code",
   "execution_count": 80,
   "metadata": {},
   "outputs": [
    {
     "name": "stdout",
     "output_type": "stream",
     "text": [
      "bool(1) = True\n"
     ]
    }
   ],
   "source": [
    "print(\"bool(1)\",\"=\", bool(1))"
   ]
  },
  {
   "cell_type": "code",
   "execution_count": 81,
   "metadata": {},
   "outputs": [
    {
     "name": "stdout",
     "output_type": "stream",
     "text": [
      "bool(0) = False\n"
     ]
    }
   ],
   "source": [
    "espressione = \"bool(0)\"\n",
    "print(espressione,\"=\",eval(espressione))  # funzione eval(espressione) valuta <espressione> come codice Python!!"
   ]
  },
  {
   "cell_type": "code",
   "execution_count": 76,
   "metadata": {},
   "outputs": [
    {
     "name": "stdout",
     "output_type": "stream",
     "text": [
      "bool(\"ciccio\") = True\n"
     ]
    }
   ],
   "source": [
    "espressione = 'bool(\"ciccio\")'\n",
    "print(espressione,\"=\",eval(espressione))"
   ]
  },
  {
   "cell_type": "code",
   "execution_count": 77,
   "metadata": {},
   "outputs": [
    {
     "name": "stdout",
     "output_type": "stream",
     "text": [
      "bool('') = False\n"
     ]
    }
   ],
   "source": [
    "espressione = \"bool('')\"\n",
    "print(espressione,\"=\",eval(espressione))"
   ]
  },
  {
   "cell_type": "markdown",
   "metadata": {},
   "source": [
    "### Quiz: perché?"
   ]
  },
  {
   "cell_type": "code",
   "execution_count": 59,
   "metadata": {},
   "outputs": [
    {
     "name": "stdout",
     "output_type": "stream",
     "text": [
      "12.1 ns ± 0.11 ns per loop (mean ± std. dev. of 7 runs, 100000000 loops each)\n"
     ]
    }
   ],
   "source": [
    "%%timeit\n",
    "False or True"
   ]
  },
  {
   "cell_type": "code",
   "execution_count": 57,
   "metadata": {},
   "outputs": [
    {
     "name": "stdout",
     "output_type": "stream",
     "text": [
      "10.6 ns ± 0.151 ns per loop (mean ± std. dev. of 7 runs, 100000000 loops each)\n"
     ]
    }
   ],
   "source": [
    "%%timeit\n",
    "True or False"
   ]
  },
  {
   "cell_type": "markdown",
   "metadata": {},
   "source": [
    "### Short circuiting \n",
    "Python interrompe la valutazione di un espressione Booleana appena il valore di verità può essere determinato.  "
   ]
  },
  {
   "cell_type": "code",
   "execution_count": 91,
   "metadata": {},
   "outputs": [
    {
     "name": "stdout",
     "output_type": "stream",
     "text": [
      "True and False -> False\n",
      "True and 3 -> 3\n",
      "3 and True -> True\n",
      "True or 3 -> True\n",
      "3 or 4 -> 3\n",
      "0 or 4 -> 4\n",
      "True and False or 5 -> 5\n",
      "False and 1/0 -> False\n"
     ]
    },
    {
     "ename": "ZeroDivisionError",
     "evalue": "division by zero",
     "output_type": "error",
     "traceback": [
      "\u001b[0;31m---------------------------------------------------------------------------\u001b[0m",
      "\u001b[0;31mZeroDivisionError\u001b[0m                         Traceback (most recent call last)",
      "\u001b[0;32m<ipython-input-91-17c404e2f2b2>\u001b[0m in \u001b[0;36m<module>\u001b[0;34m\u001b[0m\n\u001b[1;32m      7\u001b[0m \u001b[0mprint\u001b[0m\u001b[0;34m(\u001b[0m\u001b[0;34m'True and False or 5 ->'\u001b[0m\u001b[0;34m,\u001b[0m\u001b[0;32mTrue\u001b[0m \u001b[0;32mand\u001b[0m \u001b[0;32mFalse\u001b[0m \u001b[0;32mor\u001b[0m \u001b[0;36m5\u001b[0m\u001b[0;34m)\u001b[0m\u001b[0;34m\u001b[0m\u001b[0;34m\u001b[0m\u001b[0m\n\u001b[1;32m      8\u001b[0m \u001b[0mprint\u001b[0m\u001b[0;34m(\u001b[0m\u001b[0;34m'False and 1/0 ->'\u001b[0m\u001b[0;34m,\u001b[0m \u001b[0;32mFalse\u001b[0m \u001b[0;32mand\u001b[0m \u001b[0;36m1\u001b[0m\u001b[0;34m/\u001b[0m\u001b[0;36m0\u001b[0m\u001b[0;34m)\u001b[0m\u001b[0;34m\u001b[0m\u001b[0;34m\u001b[0m\u001b[0m\n\u001b[0;32m----> 9\u001b[0;31m \u001b[0mprint\u001b[0m\u001b[0;34m(\u001b[0m\u001b[0;34m'False or 1/0 ->'\u001b[0m\u001b[0;34m,\u001b[0m\u001b[0;32mFalse\u001b[0m \u001b[0;32mor\u001b[0m \u001b[0;36m1\u001b[0m\u001b[0;34m/\u001b[0m\u001b[0;36m0\u001b[0m\u001b[0;34m)\u001b[0m\u001b[0;34m\u001b[0m\u001b[0;34m\u001b[0m\u001b[0m\n\u001b[0m",
      "\u001b[0;31mZeroDivisionError\u001b[0m: division by zero"
     ]
    }
   ],
   "source": [
    "print('True and False ->',True and False)\n",
    "print('True and 3 ->',True and 3)\n",
    "print('3 and True ->',3 and True)\n",
    "print('True or 3 ->',True or 3)\n",
    "print('3 or 4 ->',3 or 4)\n",
    "print('0 or 4 ->',0 or 4)\n",
    "print('True and False or 5 ->',True and False or 5)\n",
    "print('False and 1/0 ->', False and 1/0)\n",
    "print('False or 1/0 ->',False or 1/0)"
   ]
  },
  {
   "cell_type": "markdown",
   "metadata": {},
   "source": [
    "#### `True` e  `False` hanno i corrispettivo intero, float, string, etc.. "
   ]
  },
  {
   "cell_type": "code",
   "execution_count": 95,
   "metadata": {},
   "outputs": [
    {
     "data": {
      "text/plain": [
       "(1, 0, 1.0, 0.0, 'True', 'False')"
      ]
     },
     "execution_count": 95,
     "metadata": {},
     "output_type": "execute_result"
    }
   ],
   "source": [
    "int(True),int(False),float(True), float(False),str(True),str(False)"
   ]
  },
  {
   "cell_type": "markdown",
   "metadata": {},
   "source": [
    "### Esercizio 3"
   ]
  },
  {
   "cell_type": "code",
   "execution_count": 98,
   "metadata": {},
   "outputs": [],
   "source": [
    "#definiamo una funzione che ritorna x se x>43, zero altrilmenti\n",
    "def funzione(x):\n",
    "    pass\n",
    "funzione(45)"
   ]
  },
  {
   "cell_type": "markdown",
   "metadata": {},
   "source": [
    "### Esercizio 4 "
   ]
  },
  {
   "cell_type": "code",
   "execution_count": 100,
   "metadata": {},
   "outputs": [],
   "source": [
    "# definiamo una funzione tell_me(comando) che prende in input una striga <comando> e stampa a schermo \n",
    "# \"comando -> risultato\" dove <risultato> è il risultato della valutazione (in Python) di <comando>\n",
    "def tell_me(comando):\n",
    "    "
   ]
  },
  {
   "cell_type": "markdown",
   "metadata": {},
   "source": [
    "### Operatori Relazionali: `>`, `<` , `<=`, `>=` , `==`"
   ]
  },
  {
   "cell_type": "code",
   "execution_count": 101,
   "metadata": {},
   "outputs": [
    {
     "ename": "NameError",
     "evalue": "name 'tell_me' is not defined",
     "output_type": "error",
     "traceback": [
      "\u001b[0;31m---------------------------------------------------------------------------\u001b[0m",
      "\u001b[0;31mNameError\u001b[0m                                 Traceback (most recent call last)",
      "\u001b[0;32m<ipython-input-101-4fe4c221926e>\u001b[0m in \u001b[0;36m<module>\u001b[0;34m\u001b[0m\n\u001b[0;32m----> 1\u001b[0;31m \u001b[0mtell_me\u001b[0m\u001b[0;34m(\u001b[0m\u001b[0;34m\"1>2\"\u001b[0m\u001b[0;34m)\u001b[0m\u001b[0;34m\u001b[0m\u001b[0;34m\u001b[0m\u001b[0m\n\u001b[0m\u001b[1;32m      2\u001b[0m \u001b[0mtell_me\u001b[0m\u001b[0;34m(\u001b[0m\u001b[0;34m\"1>=2\"\u001b[0m\u001b[0;34m)\u001b[0m\u001b[0;34m\u001b[0m\u001b[0;34m\u001b[0m\u001b[0m\n\u001b[1;32m      3\u001b[0m \u001b[0mtell_me\u001b[0m\u001b[0;34m(\u001b[0m\u001b[0;34m\"1<=2<=10\"\u001b[0m\u001b[0;34m)\u001b[0m\u001b[0;34m\u001b[0m\u001b[0;34m\u001b[0m\u001b[0m\n\u001b[1;32m      4\u001b[0m \u001b[0mtell_me\u001b[0m\u001b[0;34m(\u001b[0m\u001b[0;34m\"1==10\"\u001b[0m\u001b[0;34m)\u001b[0m\u001b[0;34m\u001b[0m\u001b[0;34m\u001b[0m\u001b[0m\n",
      "\u001b[0;31mNameError\u001b[0m: name 'tell_me' is not defined"
     ]
    }
   ],
   "source": [
    "tell_me(\"1>2\")\n",
    "tell_me(\"1>=2\")\n",
    "tell_me(\"1<=2<=10\")\n",
    "tell_me(\"1==10\")"
   ]
  }
 ],
 "metadata": {
  "kernelspec": {
   "display_name": "Python 3",
   "language": "python",
   "name": "python3"
  },
  "language_info": {
   "codemirror_mode": {
    "name": "ipython",
    "version": 3
   },
   "file_extension": ".py",
   "mimetype": "text/x-python",
   "name": "python",
   "nbconvert_exporter": "python",
   "pygments_lexer": "ipython3",
   "version": "3.6.9"
  }
 },
 "nbformat": 4,
 "nbformat_minor": 4
}
