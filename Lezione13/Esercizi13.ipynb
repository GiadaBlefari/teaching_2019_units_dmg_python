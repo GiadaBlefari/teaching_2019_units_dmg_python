{
 "cells": [
  {
   "cell_type": "markdown",
   "metadata": {},
   "source": [
    "### Esercizi Conclusivi"
   ]
  },
  {
   "cell_type": "code",
   "execution_count": null,
   "metadata": {},
   "outputs": [],
   "source": [
    "# Esercizio 1 \n",
    "# Definire una funzione che che prende il file di testo (\"testo.txt\") e costruisce un dizionario con chiave le parole e come valore il numero di occorrenze\n",
    "# delle parole nel testo.\n",
    "# Se il testo fosse: \"Ciao amico mio ciao; ciao, Amico\" dovrebbe generare il seguente dizionario: {\"ciao\":3, \"amico\": 2, \"mio\": 1}"
   ]
  },
  {
   "cell_type": "code",
   "execution_count": null,
   "metadata": {},
   "outputs": [],
   "source": [
    "# Esercizio 2\n",
    "# Definire una funzione ricorsiva ed una funzione non ricorsiva. Entrambe prendono in input una stringa e ritornano la stringa rigirata. \n",
    "# Esempio: \"pippo\" -> \"oppip\".  "
   ]
  },
  {
   "cell_type": "code",
   "execution_count": null,
   "metadata": {},
   "outputs": [],
   "source": [
    "# Esercizio 3\n",
    "# Usare le list comprehension per definire i numeri dispari non divisibile per 7 compresi tra 45 e 253 (incluso)"
   ]
  },
  {
   "cell_type": "code",
   "execution_count": 1,
   "metadata": {},
   "outputs": [],
   "source": [
    "# Esercizio 4\n",
    "# Definire una funzione che implementi il \"Test di divisione per 7\" riportato di sequito.\n",
    "\n",
    "#Divisibilità per 7\n",
    "#Primo criterio (separazione dell'ultima cifra, quella delle unità):\n",
    "#Un numero è divisibile per 7 se la somma tra il numero ottenuto escludendo la cifra delle unità (prenumero) \n",
    "#e il quintuplo della cifra delle unità (coda numerica) è 7 o un multiplo di 7.\n",
    "\n",
    "#Esempio: 68089; calcoliamo 6808 + 9×5 = 6853; non sapendo se 6853 sia divisibile per 7 basta ripetere la procedura. 685 + 3×5 = 700,\n",
    "#che è evidentemente un multiplo di sette. Pertanto 68089 è multiplo di 7.\n",
    "\n",
    "# (DIFFICOLTA' AGGIUNTIVA) Provate a non usare il resto della divisione per 7 in Python... sapete solo che 7 è divisibile per 7..."
   ]
  },
  {
   "cell_type": "code",
   "execution_count": 2,
   "metadata": {},
   "outputs": [],
   "source": [
    "# Esercizio 5 \n",
    "# Definite una funzione che prende una lista di numeri interi e ritorna la lista dei numeri interi dove ad ogni elemento è stato sommato\n",
    "# l'indice di appartenenza alla lista. \n",
    "\n",
    "# Esempio [1,2,5,6] - > [1,3,7,9]. Considerando il 6 che ha indice 3 (ovvero è il 4 elemento della lista) otteniamo 9 (=6+3).  "
   ]
  }
 ],
 "metadata": {
  "kernelspec": {
   "display_name": "Python 3",
   "language": "python",
   "name": "python3"
  },
  "language_info": {
   "codemirror_mode": {
    "name": "ipython",
    "version": 3
   },
   "file_extension": ".py",
   "mimetype": "text/x-python",
   "name": "python",
   "nbconvert_exporter": "python",
   "pygments_lexer": "ipython3",
   "version": "3.6.9"
  }
 },
 "nbformat": 4,
 "nbformat_minor": 4
}
