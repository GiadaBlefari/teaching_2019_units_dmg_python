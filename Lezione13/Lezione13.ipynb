{
 "cells": [
  {
   "cell_type": "markdown",
   "metadata": {},
   "source": [
    "## Esercizi al Volo"
   ]
  },
  {
   "cell_type": "code",
   "execution_count": null,
   "metadata": {},
   "outputs": [],
   "source": [
    "# Esercizio 1 \n",
    "# Definire una funzione che prende come input una frase (insieme di stringhe intervallate \n",
    "# da uno spazio)\n",
    "# e ritorna un dizionario che ha come chiavi delle lettere e come valori la parola in frase \n",
    "# di lunghezza massima \n",
    "# che inizia proprio con quella lettera..\n",
    "# Esempio: \"mela pera macchina parmigiano console pittore piadina posizione carteggio foca\" \n",
    "# restituisce: \n",
    "# {\"m\": \"macchina\", \"p\": \"parmigiano\", \"c\": \"carteggio\", \"f\":\"foca\"}\n",
    "# a parità di lunghezza si preferisce la prima parola incontrata. \n",
    "\n",
    "def esercizio1(frase):\n",
    "    parole = frase.split()\n",
    "    diz = {}\n",
    "    sostituzione= lambda left, right: left if len(left)>len(right) else right\n",
    "    for parola in parole: \n",
    "        diz[parola[0]] = sostituzione(diz.get(parola[0],\"\"),parola)\n",
    "    return diz\n",
    "\n",
    "def esercizio1_bis(frase):\n",
    "    parole = frase.split()\n",
    "    diz = {}\n",
    "    sostituzione= lambda left, right: left if len(left)>len(right) else right\n",
    "    for parola in parole:\n",
    "        if parola[0] in diz:\n",
    "            diz[parola[0]] = sostituzione(diz[parola[0]],parola)\n",
    "        else:\n",
    "            diz[parola[0]] = parola\n",
    "    return diz \n",
    "esercizio1_bis(\"mela pera macchina parmigiano console pittore piadina posizione carteggio foca\")"
   ]
  },
  {
   "cell_type": "code",
   "execution_count": null,
   "metadata": {},
   "outputs": [],
   "source": [
    "# Esercizio 2\n",
    "# Definire una funzione che prende in input un insieme di numeri interi e ritorna \n",
    "# una insieme di tutte le combinazioni di due elementi (insieme di tuple) \n",
    "# {1,2,3} -> {(1,2),(1,3),(2,3)}\n",
    "\n",
    "def esercizio2(numeri):\n",
    "    return {(x,y) for x in numeri for y in numeri if x < y}\n",
    "\n",
    "esercizio2({1,2,3})"
   ]
  },
  {
   "cell_type": "code",
   "execution_count": null,
   "metadata": {},
   "outputs": [],
   "source": [
    "# Esercizio 3\n",
    "# Scrivere una funzione che prende in input due liste e ritorna True se le due liste hanno almeno un elemento in comune\n",
    "\n",
    "def esercizio3(left,right):\n",
    "    return len(set(left) & set(right))> 0  \n",
    "\n",
    "def esercizio3_bis(left,right):\n",
    "    for l in left:\n",
    "        for r in right: \n",
    "            if (r==l):\n",
    "                return True\n",
    "    return False \n",
    "\n",
    "esercizio3([1,2,4],[4,5,6])\n",
    "esercizio3_bis([1,2,4],[4,5,6])"
   ]
  },
  {
   "cell_type": "code",
   "execution_count": null,
   "metadata": {},
   "outputs": [],
   "source": [
    "# Esercizio 4 \n",
    "# Scrivere una funzione che prende in input una lista di elementi generici e ritorna la \n",
    "# lista degli elementi unici. Per esempio [1,1,\"pippo\",\"paperino\",\"pippo\"] diventa [1,\"pippo\",\"paperino\"]\n",
    "\n",
    "def esercizio4(lista):\n",
    "    return list(set(lista))\n",
    "\n",
    "def esercizio4_bis(lista):\n",
    "    unici = []\n",
    "    for l in lista: \n",
    "        if l not in unici:\n",
    "            unici.append(l)\n",
    "    return unici\n",
    "\n",
    "esercizio4_bis([1,1,\"pippo\",\"paperino\",\"pippo\"])"
   ]
  },
  {
   "cell_type": "code",
   "execution_count": null,
   "metadata": {},
   "outputs": [],
   "source": [
    "# Esercizio 5\n",
    "# definire una funzione che prende in input una lista di numeri interi e ritorna una lista di stringhe, \n",
    "# corrispondenti ai numeri scritti in italiano\n",
    "# es. [1,0,7,9,8] -> [\"uno\",\"zero\",\"sette\",\"nove\",\"otto\"] \n",
    "\n",
    "def esercizio5(lista):\n",
    "    diz = dict(zip(range(10), [\"zero\", \"uno\",\"due\",\"tre\",\"quattro\",\"cinque\",\"sei\",\"sette\",\"otto\",\"nove\"]))\n",
    "    return [diz[l] for l in lista]\n",
    "\n",
    "esercizio5([2,2,4])"
   ]
  },
  {
   "cell_type": "code",
   "execution_count": null,
   "metadata": {},
   "outputs": [],
   "source": [
    "# Esercizio 6 (lambda expression)\n",
    "# definire una funzione che prende in input una funzione f (che accetta numeri interi)  e ritorna la funzione g(n) = f(n)*f(n+1)\n",
    "\n",
    "def esercizio6(fun):\n",
    "    return lambda n : fun(n)*fun(n+1)\n",
    "f = lambda x : x*2\n",
    "g = esercizio6(f)\n",
    "\n",
    "g(2)"
   ]
  },
  {
   "cell_type": "code",
   "execution_count": null,
   "metadata": {},
   "outputs": [],
   "source": [
    "# Esercizio 7\n",
    "# Definiamo un generatore di numeri primi e utilizziamolo per definire una funzione che prende in input un numero n intero maggiore di zero e ritorna una\n",
    "# tupla dei primi n numeri dispari. \n",
    "\n",
    "def numeri_dispari():\n",
    "    counter =0 \n",
    "    while(True):\n",
    "        yield 2*counter + 1 \n",
    "        counter += 1  \n",
    "\n",
    "def esercizio7(n):\n",
    "    numeri = numeri_dispari()\n",
    "    return tuple([next(numeri) for i in range(n)])\n",
    "\n",
    "esercizio7(5)"
   ]
  },
  {
   "cell_type": "code",
   "execution_count": null,
   "metadata": {},
   "outputs": [],
   "source": [
    "#Esercizio8\n",
    "#definire una funzione ricorsiva che implementi la seguente successione: \n",
    "# a_0 = 1\n",
    "# a_1 = 1\n",
    "# a_n = 3*a_{n-1} +2*a_{n-2}\n",
    "\n",
    "def esercizio8(n):\n",
    "    if n<=1:\n",
    "        return 1\n",
    "    return 3*esercizio8(n-1) +2*esercizio8(n-2)"
   ]
  },
  {
   "cell_type": "code",
   "execution_count": null,
   "metadata": {},
   "outputs": [],
   "source": [
    "#Esercizio9 \n",
    "#definire una funzione che prende in input due liste di interi della medesima lunghezza, e ritorna come output una\n",
    "# una nuova lista che ha come elemento i-esimo il valore massimo tra i due elementi delle due liste della medesima posizione\n",
    "#i-esima. Se le liste sono entrambe vuote ritorno la lista vuota.\n",
    "#Esempi:\n",
    "#esercizio9([1,4,5,6],[4,1,2,6]) -> [4,4,5,6]\n",
    "#esercizio9([],[]) -> []\n",
    "\n",
    "massimo = lambda x,y : x if x>y else y \n",
    "def esercizio9(left,right):\n",
    "    return [massimo(left[i],right[i]) for i in range(len(left))]"
   ]
  }
 ],
 "metadata": {
  "kernelspec": {
   "display_name": "Python 3",
   "language": "python",
   "name": "python3"
  },
  "language_info": {
   "codemirror_mode": {
    "name": "ipython",
    "version": 3
   },
   "file_extension": ".py",
   "mimetype": "text/x-python",
   "name": "python",
   "nbconvert_exporter": "python",
   "pygments_lexer": "ipython3",
   "version": "3.6.9"
  }
 },
 "nbformat": 4,
 "nbformat_minor": 4
}
