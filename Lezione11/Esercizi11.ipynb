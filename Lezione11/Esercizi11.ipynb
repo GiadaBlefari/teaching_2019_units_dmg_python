{
 "cells": [
  {
   "cell_type": "markdown",
   "metadata": {},
   "source": [
    "## Assignment"
   ]
  },
  {
   "cell_type": "code",
   "execution_count": null,
   "metadata": {},
   "outputs": [],
   "source": [
    "# Esercizio 4\n",
    "# Definire una funzione che prende in input un dizionario contenente il nome di un oggetto rettangolare, memorizzato nella chiave 'nome'\n",
    "# i valori della base e dell'altezza, memorizzati rispettivamente nelle chiavi 'base' e 'altezza'. \n",
    "# Come output la funzione stampa a schermo \"l'oggetto <nome dell' oggetto>\" è troppo grande\" se l'area è maggiore o uguale a 1024, \n",
    "# \"l'oggetto <nome dell' oggetto> è troppo piccolo\" viceversa. \n",
    "\n",
    "# SCRIVI QUI"
   ]
  },
  {
   "cell_type": "code",
   "execution_count": null,
   "metadata": {},
   "outputs": [],
   "source": [
    "# Esercizio 6\n",
    "# Definire una funzione che prende come input una frase (insieme di stringhe intervallate \n",
    "# da uno spazio)\n",
    "# e ritorna un dizionario che ha come chiavi delle lettere e come valori la parola in frase \n",
    "# di lunghezza massima \n",
    "# che inizia proprio con quella lettera..\n",
    "# Esempio: \"mela pera macchina parmigiano console pittore piadina posizione carteggio foca\" \n",
    "# restituisce: \n",
    "# {\"m\": \"macchina\", \"p\": \"posizione\", \"c\": \"carteggio\", \"f\":\"foca\"}\n",
    "# a parità di lunghezza si preferisce la prima parola incontrata. \n",
    "\n",
    "# SCRIVI QUI"
   ]
  },
  {
   "cell_type": "code",
   "execution_count": null,
   "metadata": {},
   "outputs": [],
   "source": [
    "# ricordate zip si usa per \"unire - elemento per elemento\" due (o più) oggetti iterabili...\n",
    "dict(zip(range(0,10),[\"zero\",\"uno\",\"due\",\"tre\",\"quattro\",\"cinque\",\"sei\",\"sette\",\"otto\",\"nove\"])) "
   ]
  },
  {
   "cell_type": "code",
   "execution_count": null,
   "metadata": {},
   "outputs": [],
   "source": [
    "# Esercizio 7\n",
    "# definire una funzione che prende in input una lista di numeri interi e ritorna una lista di stringhe, \n",
    "# corrispondenti ai numeri scritti in italiano\n",
    "# es. [1,0,7,9,8] -> [\"uno\",\"zero\",\"sette\",\"nove\",\"otto\"] \n",
    "\n",
    "# SCRIVI QUI"
   ]
  },
  {
   "cell_type": "markdown",
   "metadata": {},
   "source": [
    "### Esercizi Lambda Expressions"
   ]
  },
  {
   "cell_type": "code",
   "execution_count": null,
   "metadata": {},
   "outputs": [],
   "source": [
    "# Esercizio 8\n",
    "# 1 - definiamo una lambda expression che prende in input un numero x e ritorna il quadrato. \n",
    "# 2 - definiamo una lambda expressione che prende in input due numeri x, y e ritorna la somma. \n",
    "# 3 - definiamo una lambda expressione che prende in input una funzione <f> \n",
    "# (che accetta numeri interi) e ritonra la funzione <g> conrrispondente a f(n)*f(n+1)\n",
    "\n",
    "# SCRIVI QUI"
   ]
  },
  {
   "cell_type": "markdown",
   "metadata": {},
   "source": [
    "### Esercizi Liste "
   ]
  },
  {
   "cell_type": "code",
   "execution_count": null,
   "metadata": {},
   "outputs": [],
   "source": [
    "# Esercizio 9\n",
    "# Definite una funzione che prende in input una stringa\n",
    "# rappresentate una sequenza di parentesi (es. \"()(())()\") e ritorna True se la sequenza è ben formata\n",
    "# False altrimenti. Ben formata significa che ogni parentesi aperta viene chiusa e ogni parentesi chiusa è stata \n",
    "# effettivamente aperta.\n",
    "# Esempi. \n",
    "# ()() -> True\n",
    "# (  -> False parentesi aperta e mai chiusa\n",
    "# )  -> False, parentesi chiusa e mai aperta\n",
    "# ())-> False l'ultima parentesi non è stata aperta\n",
    "\n",
    "# SCRIVI QUI"
   ]
  },
  {
   "cell_type": "code",
   "execution_count": null,
   "metadata": {},
   "outputs": [],
   "source": [
    "# Esercizio 10\n",
    "# Definiamo una funzione che prende in input una lista di numeri interi e ritorna quanti \n",
    "# sono i numeri che si ripetono almeno una volta\n",
    "# es. [1,5,6,8,6,5] -> 2 \n",
    "\n",
    "# SCRIVI QUI"
   ]
  },
  {
   "cell_type": "code",
   "execution_count": null,
   "metadata": {},
   "outputs": [],
   "source": [
    "# Esercizio 11\n",
    "# definire una funzione che prende in input una lista di numeri interi e ritorna come output\n",
    "# la lista senza ripetizioni dei numeri che si ripetono almeno una volta. Se non ve ne sono la funzione\n",
    "# ritorna la lista vuoota.\n",
    "# Esempi: \n",
    "# esercizio5([1,2,3,4,1,3]) -> [1,3]\n",
    "# esercizio5([1,2,3,4,5,6]) -> []\n",
    "\n",
    "# SCRIVI QUI"
   ]
  },
  {
   "cell_type": "markdown",
   "metadata": {},
   "source": [
    "### Esercizi List Comprehension"
   ]
  },
  {
   "cell_type": "code",
   "execution_count": null,
   "metadata": {},
   "outputs": [],
   "source": [
    "# Esercizio 12\n",
    "# Definire una funzione che prende in input un insieme di numeri interi e ritorna \n",
    "# una insieme di tutte le combinazioni di due elementi (insieme di tuple) \n",
    "# {1,2,3} -> {(1,2),(1,3),(2,3)}\n",
    "\n",
    "# SCRIVI QUI"
   ]
  },
  {
   "cell_type": "code",
   "execution_count": null,
   "metadata": {},
   "outputs": [],
   "source": [
    "# Esercizio 13\n",
    "# Usare la funzione al punto 2 dell'esercizio precedente per definire tutte le tuple (a,b,c)\n",
    "# di numeri interi positivi tali che a+b=c e c<204\n",
    "\n",
    "# SCRIVI QUI"
   ]
  },
  {
   "cell_type": "code",
   "execution_count": null,
   "metadata": {},
   "outputs": [],
   "source": [
    "# Esercizio 14\n",
    "# Definite una funzione che prende in input una lista di parole L e ritorna una lista di interi rappresentante \n",
    "# la lunghezza delle parole di L.\n",
    "# es. [\"ciccio\",\"pino\",\"ma\"] -> [6,4,2]\n",
    "\n",
    "# SCRIVI QUI"
   ]
  },
  {
   "cell_type": "markdown",
   "metadata": {},
   "source": [
    "### Altri esercizi"
   ]
  },
  {
   "cell_type": "code",
   "execution_count": null,
   "metadata": {},
   "outputs": [],
   "source": [
    "# Esercizio 15 (**)\n",
    "# definire una funzione che prende in input un numero intero e restituisce la scomposizione in fattori primi. \n",
    "# esempio: scomposizione(20) -> 2**2*5\n",
    "# scomposizione fattori primi\n",
    "\n",
    "# SCRIVI QUI"
   ]
  },
  {
   "cell_type": "code",
   "execution_count": null,
   "metadata": {},
   "outputs": [],
   "source": [
    "# Esercizio 16 (**)\n",
    "# Definite un generatore di numeri primi\n",
    "\n",
    "# SCRIVI QUI"
   ]
  }
 ],
 "metadata": {
  "kernelspec": {
   "display_name": "Python 3",
   "language": "python",
   "name": "python3"
  },
  "language_info": {
   "codemirror_mode": {
    "name": "ipython",
    "version": 3
   },
   "file_extension": ".py",
   "mimetype": "text/x-python",
   "name": "python",
   "nbconvert_exporter": "python",
   "pygments_lexer": "ipython3",
   "version": "3.6.9"
  }
 },
 "nbformat": 4,
 "nbformat_minor": 4
}
