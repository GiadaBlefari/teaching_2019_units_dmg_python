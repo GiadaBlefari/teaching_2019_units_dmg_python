{
 "cells": [
  {
   "cell_type": "markdown",
   "metadata": {},
   "source": [
    "### Esercizio 0\n",
    "Definiamo una funzione che trasforma un numero intero in binario"
   ]
  },
  {
   "cell_type": "code",
   "execution_count": 15,
   "metadata": {},
   "outputs": [
    {
     "data": {
      "text/plain": [
       "'11'"
      ]
     },
     "execution_count": 15,
     "metadata": {},
     "output_type": "execute_result"
    }
   ],
   "source": [
    "def binario(n):\n",
    "    if(n==0):\n",
    "        return '0'\n",
    "    s = \"\"\n",
    "    while(n!=0):\n",
    "        s=str(n%2)+s\n",
    "        n=n//2\n",
    "    return s\n",
    "\n",
    "binario(3)"
   ]
  },
  {
   "cell_type": "code",
   "execution_count": 26,
   "metadata": {},
   "outputs": [
    {
     "data": {
      "text/plain": [
       "'0'"
      ]
     },
     "execution_count": 26,
     "metadata": {},
     "output_type": "execute_result"
    }
   ],
   "source": [
    "def binario_ricorsivo(n, res = \"\"):\n",
    "    res = str(n%2)+res\n",
    "    if(n//2==0):\n",
    "        return res\n",
    "    return binario_ricorsivo(n//2, res)\n",
    "\n",
    "binario_ricorsivo(0)"
   ]
  },
  {
   "cell_type": "code",
   "execution_count": 19,
   "metadata": {},
   "outputs": [
    {
     "data": {
      "text/plain": [
       "'110'"
      ]
     },
     "execution_count": 19,
     "metadata": {},
     "output_type": "execute_result"
    }
   ],
   "source": [
    "def binario_ricorsivo_2(n):\n",
    "    if(n==0):\n",
    "        return \"\"\n",
    "    return binario_ricorsivo(n//2) +  str(n%2)\n",
    "\n",
    "binario_ricorsivo_2(6)"
   ]
  },
  {
   "cell_type": "markdown",
   "metadata": {},
   "source": [
    "### Esercizio 1 - Biblioteca! - Scarichiamo un po' di libri [**legalmente**]\n",
    "La Springer ha pubbicato 408 libri in versione gratuita (guardate il file excel). Ecco la [lista](https://towardsdatascience.com/springer-has-released-65-machine-learning-and-data-books-for-free-961f8181f189)  dei 65 libri a tema machine learning/data science/computer science\n",
    "\n",
    "Creiamo una script per scaricare i libri e collezionarli nella nostra biblioteca digitale!!\n",
    "\n",
    "**TODO LIST**\n",
    "- codice Javascript per estrarre la lista dei titoli e dei link!\n",
    "- modifichiamo i link per avvedere direttamente al pdf (o all epub) \n",
    "- scarichiamo una libreria (wget) tramite pip\n",
    "- scarichiamo i libri nella cartella books"
   ]
  },
  {
   "cell_type": "raw",
   "metadata": {},
   "source": [
    "Andando sulla pagina in questione https://towardsdatascience.com/springer-has-released-65-machine-learning-and-data-books-for-free-961f8181f189\n",
    "utilizziamo un codice JavaScript per collezionare la lista dei link e dei nomi dei libri gratuiti. \n",
    "Condice JS: \n",
    "titoli = document.querySelectorAll(\"strong.hl.id\")\n",
    "book = document.querySelectorAll(\"a.cq.gv.ie.if.ig.ih\")\n",
    "Alla fine dopo un copia e incolla dalla console del vostro browser dovreste ottenere i seguenti dati:"
   ]
  },
  {
   "cell_type": "code",
   "execution_count": null,
   "metadata": {},
   "outputs": [],
   "source": [
    "book = [\"http://link.springer.com/openurl?genre=book&isbn=978-0-387-84858-7\",\"http://link.springer.com/openurl?genre=book&isbn=978-0-387-88698-5\", \"http://link.springer.com/openurl?genre=book&isbn=978-0-387-93837-0\", \"http://link.springer.com/openurl?genre=book&isbn=978-3-662-44874-8\", \"http://link.springer.com/openurl?genre=book&isbn=978-3-319-03762-2\", \"http://link.springer.com/openurl?genre=book&isbn=978-3-319-18842-3\", \"http://link.springer.com/openurl?genre=book&isbn=978-3-319-48936-0\", \"http://link.springer.com/openurl?genre=book&isbn=978-3-319-01851-5\", \"http://link.springer.com/openurl?genre=book&isbn=978-3-319-13072-9\", \"http://link.springer.com/openurl?genre=book&isbn=978-3-319-02099-0\", \"http://link.springer.com/openurl?genre=book&isbn=978-3-319-23042-9\", \"http://link.springer.com/openurl?genre=book&isbn=978-3-319-47831-9\", \"http://link.springer.com/openurl?genre=book&isbn=978-3-319-46162-5\", \"http://link.springer.com/openurl?genre=book&isbn=978-1-4471-7307-6\", \"http://link.springer.com/openurl?genre=book&isbn=978-1-84882-935-0\", \"http://link.springer.com/openurl?genre=book&isbn=978-3-319-14142-8\", \"http://link.springer.com/openurl?genre=book&isbn=978-3-540-77974-2\", \"http://link.springer.com/openurl?genre=book&isbn=978-3-319-54413-7\", \"http://link.springer.com/openurl?genre=book&isbn=978-1-4939-2122-5\", \"http://link.springer.com/openurl?genre=book&isbn=978-1-4939-2614-5\", \"http://link.springer.com/openurl?genre=book&isbn=978-3-319-23428-1\", \"http://link.springer.com/openurl?genre=book&isbn=978-94-007-1211-9\", \"http://link.springer.com/openurl?genre=book&isbn=978-3-319-27104-0\", \"http://link.springer.com/openurl?genre=book&isbn=978-3-319-55444-0\", \"http://link.springer.com/openurl?genre=book&isbn=978-3-319-63913-0\", \"http://link.springer.com/openurl?genre=book&isbn=978-3-319-44561-8\", \"http://link.springer.com/openurl?genre=book&isbn=978-3-319-29854-2\", \"http://link.springer.com/openurl?genre=book&isbn=978-1-4471-6419-7\", \"http://link.springer.com/openurl?genre=book&isbn=978-1-4939-6572-4\", \"http://link.springer.com/openurl?genre=book&isbn=978-1-84800-322-4\", \"http://link.springer.com/openurl?genre=book&isbn=978-1-4614-6940-7\", \"http://link.springer.com/openurl?genre=book&isbn=978-3-319-11080-6\", \"http://link.springer.com/openurl?genre=book&isbn=978-3-319-24346-7\", \"http://link.springer.com/openurl?genre=book&isbn=978-1-4613-0041-0\", \"http://link.springer.com/openurl?genre=book&isbn=978-1-4939-2712-8\", \"http://link.springer.com/openurl?genre=book&isbn=978-1-4614-7630-6\", \"http://link.springer.com/openurl?genre=book&isbn=978-1-4614-6227-9\", \"http://link.springer.com/openurl?genre=book&isbn=978-1-4614-7138-7\", \"http://link.springer.com/openurl?genre=book&isbn=978-3-319-44048-4\", \"http://link.springer.com/openurl?genre=book&isbn=978-3-319-12493-3\", \"http://link.springer.com/openurl?genre=book&isbn=978-1-84628-642-1\", \"http://link.springer.com/openurl?genre=book&isbn=978-3-319-19425-7\", \"http://link.springer.com/openurl?genre=book&isbn=978-1-84628-168-6\", \"http://link.springer.com/openurl?genre=book&isbn=978-3-319-14240-1\", \"http://link.springer.com/openurl?genre=book&isbn=978-3-319-15195-3\", \"http://link.springer.com/openurl?genre=book&isbn=978-3-319-24280-4\", \"http://link.springer.com/openurl?genre=book&isbn=978-3-319-50017-1\", \"http://link.springer.com/openurl?genre=book&isbn=978-1-4614-6849-3\", \"http://link.springer.com/openurl?genre=book&isbn=978-3-319-18398-5\", \"http://link.springer.com/openurl?genre=book&isbn=978-1-4471-5601-7\", \"http://link.springer.com/openurl?genre=book&isbn=978-1-4471-6684-9\", \"http://link.springer.com/openurl?genre=book&isbn=978-1-4614-8687-9\", \"http://link.springer.com/openurl?genre=book&isbn=978-3-642-20144-8\", \"http://link.springer.com/openurl?genre=book&isbn=978-3-319-70790-7\", \"http://link.springer.com/openurl?genre=book&isbn=978-3-319-58487-4\", \"http://link.springer.com/openurl?genre=book&isbn=978-3-319-73004-2\", \"http://link.springer.com/openurl?genre=book&isbn=978-3-319-78361-1\", \"http://link.springer.com/openurl?genre=book&isbn=978-3-319-91041-3\", \"http://link.springer.com/openurl?genre=book&isbn=978-3-319-94463-0\", \"http://link.springer.com/openurl?genre=book&isbn=978-3-319-72347-1\", \"http://link.springer.com/openurl?genre=book&isbn=978-3-319-91155-7\", \"http://link.springer.com/openurl?genre=book&isbn=978-3-030-01279-3\", \"http://link.springer.com/openurl?genre=book&isbn=978-3-030-20290-3\", \"http://link.springer.com/openurl?genre=book&isbn=978-3-030-25943-3\"]\n",
    "titoli = [\"The Elements of Statistical Learning\", \"Introductory Time Series with R\", \"A Beginner’s Guide to R\", \"Introduction to Evolutionary Computing\", \"Data Analysis\", \"Linear and Nonlinear Programming\", \"Introduction to Partial Differential Equations\", \"Fundamentals of Robotic Mechanical Systems\", \"Data Structures and Algorithms with Python\", \"Introduction to Partial Differential Equations\", \"Methods of Mathematical Modelling\", \"LaTeX in 24 Hours\", \"Introduction to Statistics and Data Analysis\", \"Principles of Data Mining\", \"Computer Vision\", \"Data Mining\", \"Computational Geometry\", \"Robotics, Vision and Control\", \"Statistical Analysis and Data Display\", \"Statistics and Data Analysis for Financial Engineering\", \"Stochastic Processes and Calculus\", \"Statistical Analysis of Clinical Data on a Pocket Calculator\", \"Clinical Data Analysis on a Pocket Calculator\", \"The Data Science Design Manual\", \"An Introduction to Machine Learning\", \"Guide to Discrete Mathematics\", \"Introduction to Time Series and Forecasting\", \"Multivariate Calculus and Geometry\", \"Statistics and Analysis of Scientific Data\", \"Modelling Computing Systems\", \"Search Methodologies\", \"Linear Algebra Done Right\", \"Linear Algebra\", \"Algebra\", \"Understanding Analysis\", \"Linear Programming\", \"Understanding Statistics Using R\", \"An Introduction to Statistical Learning\", \"Statistical Learning from a Regression Perspective\", \"Applied Partial Differential Equations\", \"Robotics\", \"Regression Modeling Strategies\", \"A Modern Introduction to Probability and Statistics\", \"The Python Workbook\", \"Machine Learning in Medicine — a Complete Overview\", \"Object-Oriented Analysis, Design and Implementation\", \"Introduction to Data Science\", \"Applied Predictive Modeling\", \"Python For ArcGIS\", \"Concise Guide to Databases\", \"Digital Image Processing\", \"Bayesian Essentials with R\", \"Robotics, Vision and Control\", \"Foundations of Programming Languages\", \"Introduction to Artificial Intelligence\", \"Introduction to Deep Learning\", \"Linear Algebra and Analytic Geometry for Physical Sciences\", \"Applied Linear Algebra\", \"Neural Networks and Deep Learning\", \"Data Science and Predictive Analytics\", \"Analysis for Computer Scientists\", \"Excel Data Analysis\", \"A Beginners Guide to Python 3 Programming\", \"Advanced Guide to Python 3 Programming\"]\n",
    "isbn = [book_link.split(\"=\")[-1] for book_link in book]\n",
    "link_download = [\"https://link.springer.com/content/pdf/10.1007%2F{isbn_key}.pdf\".format(isbn_key=codice_isbn) for codice_isbn in isbn] \n",
    "titoli_senza_spazi = [titolo.replace(\" \",\"_\") for titolo in titoli]\n",
    "\n",
    "\n",
    "from wget import download as dwl\n",
    "\n",
    "# Esempio di utilizzo di wget per scaricare un file nella cartella Book e rinominarlo come \"a.pdf\"!\n",
    "# wget.download(\"https://link.springer.com/content/pdf/10.1007%2F978-0-387-88698-5.pdf\",out=\"Books/a.pdf\")\n",
    "    \n",
    "for link,titolo in zip(link_download,titoli_senza_spazi):\n",
    "    try:\n",
    "        dwl(link,\"Books/{}.pdf\".format(titolo))\n",
    "    except:\n",
    "        print(\"Problem nello scaricare Books/{}.pdf\".format(titolo))"
   ]
  },
  {
   "cell_type": "markdown",
   "metadata": {},
   "source": [
    "### Esercizi Dizionari"
   ]
  },
  {
   "cell_type": "code",
   "execution_count": null,
   "metadata": {},
   "outputs": [],
   "source": [
    "# Esercizio 2\n",
    "# creare una funzione che prende in input un dizionario del tipo\n",
    "# studente = {\"nome\": \"Mario\", \"cognome\": \"Luigi\", \"voto\": 12 }\n",
    "# e stampa a schermo: \n",
    "\n",
    "# \"lo studente <nome> <cognome> non ha passato l'esame\"\n",
    "# se il voto è minore di 18, \n",
    "\n",
    "# lo studente <nome> <cognome> ha passato l'esame\". \n",
    "# se il voto è maggiore o uguale a 18.\n",
    "\n",
    "\n",
    "studente = {\"nome\": \"Mario\", \"cognome\": \"Luigi\", \"voto\": 12 }\n",
    "\n",
    "def esercizio1(dizionario):\n",
    "    if dizionario['voto'] < 18:\n",
    "        print(\"lo studente {} {}  non ha passato l'esame\".format(dizionario['nome'],dizionario['cognome']))\n",
    "    else:\n",
    "        print(\"lo studente {} {}  ha passato l'esame\".format(dizionario['nome'],dizionario['cognome']))       \n",
    "        \n",
    "        "
   ]
  },
  {
   "cell_type": "code",
   "execution_count": 56,
   "metadata": {},
   "outputs": [
    {
     "data": {
      "text/plain": [
       "{'nome': 'pippopluto', 'valore': 1}"
      ]
     },
     "execution_count": 56,
     "metadata": {},
     "output_type": "execute_result"
    }
   ],
   "source": [
    "# Esercizio 3\n",
    "# Definire una funzione che prende in input due dizionari <left> e <right> che hanno una chiave \"nome\" \n",
    "# di tipo stringa e una chiave valore di tipo intero. La funzione ritorna come putput un nuovo \n",
    "# dizionario con il nome la concatenazione dei nomi e come valore la somma modulo 5 di <left> e <right>\n",
    "\n",
    "left = {\"nome\":\"pippo\",\"valore\":5}\n",
    "right = {\"nome\":\"pluto\",\"valore\":6}\n",
    "\n",
    "def esercizio3(left,right):\n",
    "    diz = {}\n",
    "    diz[\"nome\"] = left[\"nome\"]+right[\"nome\"]\n",
    "    diz[\"valore\"] = (left[\"valore\"] + right[\"valore\"])%5\n",
    "    return diz\n",
    "\n",
    "def esercizio3_bis(left,right):\n",
    "    nome = left[\"nome\"]+right[\"nome\"]\n",
    "    valore = (left[\"valore\"] + right[\"valore\"])%5\n",
    "    return {\"nome\": nome, \"valore\":valore}\n",
    "\n",
    "esercizio3_bis(left,right)\n",
    "    "
   ]
  },
  {
   "cell_type": "code",
   "execution_count": null,
   "metadata": {},
   "outputs": [],
   "source": [
    "diz = {\"a\":2,\"b\":8}\n",
    "diz.items()  # diz.items() produce un oggetto di tipo dict_items!! "
   ]
  },
  {
   "cell_type": "code",
   "execution_count": 60,
   "metadata": {},
   "outputs": [
    {
     "data": {
      "text/plain": [
       "{'ciccio': 27, 'p': 12, 'q': 7}"
      ]
     },
     "execution_count": 60,
     "metadata": {},
     "output_type": "execute_result"
    }
   ],
   "source": [
    "# Esercizio 5\n",
    "# Definire una funzione  che prende due dizionari con chiavi a piacere e valori degli interi e\n",
    "# ritorna un nuovo\n",
    "# dizionario che ha entrambe le chiavi dei dizionari, se una chiave è presente \n",
    "# in entrambi i dizionari\n",
    "# effettua le somme dei valori. \n",
    "# es. {\"ciccio\":25, \"p\": 12} {\"ciccio\":2, \"q\":7} -> { \"ciccio\": 27, \"p\":12, \"q\":7}  \n",
    "\n",
    "# SCRIVI QUI\n",
    "\n",
    "def merge(diz1,diz2):\n",
    "    diz_merge={}\n",
    "    for key in diz1:\n",
    "        diz_merge[key] = diz1[key]\n",
    "    for key in diz2:\n",
    "        if (key in diz_merge):\n",
    "            diz_merge[key]+=diz2[key]\n",
    "        else:\n",
    "            diz_merge[key] = diz2[key]\n",
    "    return diz_merge\n",
    "    \n",
    "        \n",
    "merge({\"ciccio\":25, \"p\": 12},{\"ciccio\":2, \"q\":7})"
   ]
  },
  {
   "cell_type": "code",
   "execution_count": null,
   "metadata": {},
   "outputs": [],
   "source": [
    "def merge(diz1,diz2):\n",
    "    diz_merge = {}\n",
    "    for key, value in  diz1.items():\n",
    "        diz_merge[key] = value\n",
    "    for key, value in  diz2.items():\n",
    "        diz_merge[key]= diz_merge.get(key,0)+ value\n",
    "    return diz_merge"
   ]
  }
 ],
 "metadata": {
  "kernelspec": {
   "display_name": "Python 3",
   "language": "python",
   "name": "python3"
  },
  "language_info": {
   "codemirror_mode": {
    "name": "ipython",
    "version": 3
   },
   "file_extension": ".py",
   "mimetype": "text/x-python",
   "name": "python",
   "nbconvert_exporter": "python",
   "pygments_lexer": "ipython3",
   "version": "3.6.9"
  }
 },
 "nbformat": 4,
 "nbformat_minor": 4
}
