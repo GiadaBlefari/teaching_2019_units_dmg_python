{
 "cells": [
  {
   "cell_type": "markdown",
   "metadata": {},
   "source": [
    "### Esercizio 0\n",
    "Definiamo una funzione che trasforma un numero intero in binario"
   ]
  },
  {
   "cell_type": "code",
   "execution_count": 1,
   "metadata": {},
   "outputs": [],
   "source": [
    "# SCRIVI QUI"
   ]
  },
  {
   "cell_type": "markdown",
   "metadata": {},
   "source": [
    "### Esercizio 1 - Biblioteca! - Scarichiamo un po' di libri [**legalmente**]\n",
    "La Springer ha pubbicato 408 libri in versione gratuita (guardate il file excel). Ecco la [lista](https://towardsdatascience.com/springer-has-released-65-machine-learning-and-data-books-for-free-961f8181f189)  dei 65 libri a tema machibe learning/data science/computer science\n",
    "\n",
    "Creiamo una script per scaricare i libri e collezionarli nella nostra biblioteca digitale!!\n",
    "\n",
    "**TODO LIST**\n",
    "- codice Javascript per estrarre la lista dei titoli e dei link!\n",
    "- modifichiamo i link per avvedere direttamente al pdf (o all epub) \n",
    "- scarichiamo una libreria (wget) tramite pip\n",
    "- scarichiamo i libri nella cartella books"
   ]
  },
  {
   "cell_type": "raw",
   "metadata": {},
   "source": [
    "Andando sulla pagina in questione https://towardsdatascience.com/springer-has-released-65-machine-learning-and-data-books-for-free-961f8181f189\n",
    "utilizziamo un codice javascript per collezionare la lista dei link e dei nomi dei libri gratuiti. \n",
    "Condice JS: \n",
    "titoli = document.querySelectorAll(\"strong.hl.id\")\n",
    "Alla fine dovremmo ottenere i seguenti dati:"
   ]
  },
  {
   "cell_type": "code",
   "execution_count": 13,
   "metadata": {},
   "outputs": [],
   "source": [
    "book = [\"http://link.springer.com/openurl?genre=book&isbn=978-0-387-88698-5\", \"http://link.springer.com/openurl?genre=book&isbn=978-0-387-93837-0\", \"http://link.springer.com/openurl?genre=book&isbn=978-3-662-44874-8\", \"http://link.springer.com/openurl?genre=book&isbn=978-3-319-03762-2\", \"http://link.springer.com/openurl?genre=book&isbn=978-3-319-18842-3\", \"http://link.springer.com/openurl?genre=book&isbn=978-3-319-48936-0\", \"http://link.springer.com/openurl?genre=book&isbn=978-3-319-01851-5\", \"http://link.springer.com/openurl?genre=book&isbn=978-3-319-13072-9\", \"http://link.springer.com/openurl?genre=book&isbn=978-3-319-02099-0\", \"http://link.springer.com/openurl?genre=book&isbn=978-3-319-23042-9\", \"http://link.springer.com/openurl?genre=book&isbn=978-3-319-47831-9\", \"http://link.springer.com/openurl?genre=book&isbn=978-3-319-46162-5\", \"http://link.springer.com/openurl?genre=book&isbn=978-1-4471-7307-6\", \"http://link.springer.com/openurl?genre=book&isbn=978-1-84882-935-0\", \"http://link.springer.com/openurl?genre=book&isbn=978-3-319-14142-8\", \"http://link.springer.com/openurl?genre=book&isbn=978-3-540-77974-2\", \"http://link.springer.com/openurl?genre=book&isbn=978-3-319-54413-7\", \"http://link.springer.com/openurl?genre=book&isbn=978-1-4939-2122-5\", \"http://link.springer.com/openurl?genre=book&isbn=978-1-4939-2614-5\", \"http://link.springer.com/openurl?genre=book&isbn=978-3-319-23428-1\", \"http://link.springer.com/openurl?genre=book&isbn=978-94-007-1211-9\", \"http://link.springer.com/openurl?genre=book&isbn=978-3-319-27104-0\", \"http://link.springer.com/openurl?genre=book&isbn=978-3-319-55444-0\", \"http://link.springer.com/openurl?genre=book&isbn=978-3-319-63913-0\", \"http://link.springer.com/openurl?genre=book&isbn=978-3-319-44561-8\", \"http://link.springer.com/openurl?genre=book&isbn=978-3-319-29854-2\", \"http://link.springer.com/openurl?genre=book&isbn=978-1-4471-6419-7\", \"http://link.springer.com/openurl?genre=book&isbn=978-1-4939-6572-4\", \"http://link.springer.com/openurl?genre=book&isbn=978-1-84800-322-4\", \"http://link.springer.com/openurl?genre=book&isbn=978-1-4614-6940-7\", \"http://link.springer.com/openurl?genre=book&isbn=978-3-319-11080-6\", \"http://link.springer.com/openurl?genre=book&isbn=978-3-319-24346-7\", \"http://link.springer.com/openurl?genre=book&isbn=978-1-4613-0041-0\", \"http://link.springer.com/openurl?genre=book&isbn=978-1-4939-2712-8\", \"http://link.springer.com/openurl?genre=book&isbn=978-1-4614-7630-6\", \"http://link.springer.com/openurl?genre=book&isbn=978-1-4614-6227-9\", \"http://link.springer.com/openurl?genre=book&isbn=978-1-4614-7138-7\", \"http://link.springer.com/openurl?genre=book&isbn=978-3-319-44048-4\", \"http://link.springer.com/openurl?genre=book&isbn=978-3-319-12493-3\", \"http://link.springer.com/openurl?genre=book&isbn=978-1-84628-642-1\", \"http://link.springer.com/openurl?genre=book&isbn=978-3-319-19425-7\", \"http://link.springer.com/openurl?genre=book&isbn=978-1-84628-168-6\", \"http://link.springer.com/openurl?genre=book&isbn=978-3-319-14240-1\", \"http://link.springer.com/openurl?genre=book&isbn=978-3-319-15195-3\", \"http://link.springer.com/openurl?genre=book&isbn=978-3-319-24280-4\", \"http://link.springer.com/openurl?genre=book&isbn=978-3-319-50017-1\", \"http://link.springer.com/openurl?genre=book&isbn=978-1-4614-6849-3\", \"http://link.springer.com/openurl?genre=book&isbn=978-3-319-18398-5\", \"http://link.springer.com/openurl?genre=book&isbn=978-1-4471-5601-7\", \"http://link.springer.com/openurl?genre=book&isbn=978-1-4471-6684-9\", \"http://link.springer.com/openurl?genre=book&isbn=978-1-4614-8687-9\", \"http://link.springer.com/openurl?genre=book&isbn=978-3-642-20144-8\", \"http://link.springer.com/openurl?genre=book&isbn=978-3-319-70790-7\", \"http://link.springer.com/openurl?genre=book&isbn=978-3-319-58487-4\", \"http://link.springer.com/openurl?genre=book&isbn=978-3-319-73004-2\", \"http://link.springer.com/openurl?genre=book&isbn=978-3-319-78361-1\", \"http://link.springer.com/openurl?genre=book&isbn=978-3-319-91041-3\", \"http://link.springer.com/openurl?genre=book&isbn=978-3-319-94463-0\", \"http://link.springer.com/openurl?genre=book&isbn=978-3-319-72347-1\", \"http://link.springer.com/openurl?genre=book&isbn=978-3-319-91155-7\", \"http://link.springer.com/openurl?genre=book&isbn=978-3-030-01279-3\", \"http://link.springer.com/openurl?genre=book&isbn=978-3-030-20290-3\", \"http://link.springer.com/openurl?genre=book&isbn=978-3-030-25943-3\"]\n",
    "titoli = [\"The Elements of Statistical Learning\", \"Introductory Time Series with R\", \"A Beginner’s Guide to R\", \"Introduction to Evolutionary Computing\", \"Data Analysis\", \"Linear and Nonlinear Programming\", \"Introduction to Partial Differential Equations\", \"Fundamentals of Robotic Mechanical Systems\", \"Data Structures and Algorithms with Python\", \"Introduction to Partial Differential Equations\", \"Methods of Mathematical Modelling\", \"LaTeX in 24 Hours\", \"Introduction to Statistics and Data Analysis\", \"Principles of Data Mining\", \"Computer Vision\", \"Data Mining\", \"Computational Geometry\", \"Robotics, Vision and Control\", \"Statistical Analysis and Data Display\", \"Statistics and Data Analysis for Financial Engineering\", \"Stochastic Processes and Calculus\", \"Statistical Analysis of Clinical Data on a Pocket Calculator\", \"Clinical Data Analysis on a Pocket Calculator\", \"The Data Science Design Manual\", \"An Introduction to Machine Learning\", \"Guide to Discrete Mathematics\", \"Introduction to Time Series and Forecasting\", \"Multivariate Calculus and Geometry\", \"Statistics and Analysis of Scientific Data\", \"Modelling Computing Systems\", \"Search Methodologies\", \"Linear Algebra Done Right\", \"Linear Algebra\", \"Algebra\", \"Understanding Analysis\", \"Linear Programming\", \"Understanding Statistics Using R\", \"An Introduction to Statistical Learning\", \"Statistical Learning from a Regression Perspective\", \"Applied Partial Differential Equations\", \"Robotics\", \"Regression Modeling Strategies\", \"A Modern Introduction to Probability and Statistics\", \"The Python Workbook\", \"Machine Learning in Medicine — a Complete Overview\", \"Object-Oriented Analysis, Design and Implementation\", \"Introduction to Data Science\", \"Applied Predictive Modeling\", \"Python For ArcGIS\", \"Concise Guide to Databases\", \"Digital Image Processing\", \"Bayesian Essentials with R\", \"Robotics, Vision and Control\", \"Foundations of Programming Languages\", \"Introduction to Artificial Intelligence\", \"Introduction to Deep Learning\", \"Linear Algebra and Analytic Geometry for Physical Sciences\", \"Applied Linear Algebra\", \"Neural Networks and Deep Learning\", \"Data Science and Predictive Analytics\", \"Analysis for Computer Scientists\", \"Excel Data Analysis\", \"A Beginners Guide to Python 3 Programming\", \"Advanced Guide to Python 3 Programming\"]"
   ]
  },
  {
   "cell_type": "code",
   "execution_count": 14,
   "metadata": {},
   "outputs": [
    {
     "data": {
      "text/plain": [
       "'Books/a (1).pdf'"
      ]
     },
     "execution_count": 14,
     "metadata": {},
     "output_type": "execute_result"
    }
   ],
   "source": [
    "# Esempio di utilizzo di wget!\n",
    "import wget\n",
    "wget.download(\"https://link.springer.com/content/pdf/10.1007%2F978-0-387-88698-5.pdf\",out=\"Books/a.pdf\")"
   ]
  },
  {
   "cell_type": "code",
   "execution_count": null,
   "metadata": {},
   "outputs": [],
   "source": [
    "# SCRIVI QUI"
   ]
  },
  {
   "cell_type": "markdown",
   "metadata": {},
   "source": [
    "### Esercizi Dizionari"
   ]
  },
  {
   "cell_type": "code",
   "execution_count": null,
   "metadata": {},
   "outputs": [],
   "source": [
    "# Esercizio 2\n",
    "# creare una funzione che prende in input un dizionario del tipo\n",
    "# studente = {\"nome\": \"Mario\", \"cognome\": \"Luigi\", \"voto\": 12 }\n",
    "# e stampa a schermo: \n",
    "\n",
    "# \"lo studente <nome> <cognome> non ha passato l'esame\"\n",
    "# se il voto è minore di 18, \n",
    "\n",
    "# lo studente <nome> <cognome> ha passato l'esame\". \n",
    "# se il voto è maggiore o uguale a 18.\n",
    "\n",
    "# SCRIVI QUI"
   ]
  },
  {
   "cell_type": "code",
   "execution_count": 15,
   "metadata": {},
   "outputs": [],
   "source": [
    "# Esercizio 3\n",
    "# Definire una funzione che prende in input due dizionari <left> e <right> che hanno una chiave \"nome\" \n",
    "# di tipo stringa e una chiave valore di tipo intero. La funzione ritorna come putput un nuovo \n",
    "# dizionario con il nome la concatenazione dei nomi e come valore la somma modulo 5 di <left> e <right>"
   ]
  },
  {
   "cell_type": "code",
   "execution_count": 16,
   "metadata": {},
   "outputs": [
    {
     "name": "stdout",
     "output_type": "stream",
     "text": [
      "l'oggetto rettangolo è troppo piccolo\n"
     ]
    }
   ],
   "source": [
    "# Esercizio 4\n",
    "# Definire una funzione che prende in input un dizionario contenente il nome di un oggetto rettangolare, memorizzato nella chiave 'nome'\n",
    "# i valori della base e dell'altezza, memorizzati rispettivamente nelle chiavi 'base' e 'altezza'. \n",
    "# Come output la funzione stampa a schermo \"l'oggetto <nome dell' oggetto>\" è troppo grande\" se l'area è maggiore o uguale a 1024, \n",
    "# \"l'oggetto <nome dell' oggetto> è troppo piccolo\" viceversa. \n",
    "\n",
    "# SCRIVI QUI"
   ]
  },
  {
   "cell_type": "code",
   "execution_count": null,
   "metadata": {},
   "outputs": [],
   "source": [
    "diz = {\"a\":2,\"b\":8}\n",
    "diz.items()  # diz.items() produce un oggetto di tipo dict_items!! "
   ]
  },
  {
   "cell_type": "code",
   "execution_count": 17,
   "metadata": {},
   "outputs": [
    {
     "data": {
      "text/plain": [
       "{'ciccio': 27, 'p': 12, 'q': 7}"
      ]
     },
     "execution_count": 17,
     "metadata": {},
     "output_type": "execute_result"
    }
   ],
   "source": [
    "# Esercizio 5\n",
    "# Definire una funzione  che prende due dizionari con chiavi a piacere e valori degli interi e\n",
    "# ritorna un nuovo\n",
    "# dizionario che ha entrambe le chiavi dei dizionari, se una chiave è presente \n",
    "# in entrambi i dizionari\n",
    "# effettua le somme dei valori. \n",
    "# es. {\"ciccio\":25, \"p\": 12} {\"ciccio\":2, \"q\":7} -> { \"ciccio\": 27, \"p\":12, \"q\":7}  \n",
    "\n",
    "# SCRIVI QUI\n"
   ]
  },
  {
   "cell_type": "code",
   "execution_count": 18,
   "metadata": {},
   "outputs": [
    {
     "data": {
      "text/plain": [
       "{'m': 'macchina', 'p': 'parmigiano', 'c': 'carteggio', 'f': 'foca'}"
      ]
     },
     "execution_count": 18,
     "metadata": {},
     "output_type": "execute_result"
    }
   ],
   "source": [
    "# Esercizio 6\n",
    "# Definire una funzione che prende come input una frase (insieme di stringhe intervallate \n",
    "# da uno spazio)\n",
    "# e ritorna un dizionario che ha come chiavi delle lettere e come valori la parola in frase \n",
    "# di lunghezza massima \n",
    "# che inizia proprio con quella lettera..\n",
    "# Esempio: \"mela pera macchina parmigiano console pittore piadina posizione carteggio foca\" \n",
    "# restituisce: \n",
    "# {\"m\": \"macchina\", \"p\": \"posizione\", \"c\": \"carteggio\", \"f\":\"foca\"}\n",
    "# a parità di lunghezza si preferisce la prima parola incontrata. \n",
    "\n",
    "# SCRIVI QUI"
   ]
  },
  {
   "cell_type": "code",
   "execution_count": null,
   "metadata": {},
   "outputs": [],
   "source": [
    "# ricordate zip si usa per \"unire - elemento per elemento\" due (o più) oggetti iterabili...\n",
    "dict(zip(range(0,10),[\"zero\",\"uno\",\"due\",\"tre\",\"quattro\",\"cinque\",\"sei\",\"sette\",\"otto\",\"nove\"])) "
   ]
  },
  {
   "cell_type": "code",
   "execution_count": null,
   "metadata": {},
   "outputs": [],
   "source": [
    "# Esercizio 7\n",
    "# definire una funzione che prende in input una lista di numeri interi e ritorna una lista di stringhe, \n",
    "# corrispondenti ai numeri scritti in italiano\n",
    "# es. [1,0,7,9,8] -> [\"uno\",\"zero\",\"sette\",\"nove\",\"otto\"] \n",
    "\n",
    "# SCRIVI QUI"
   ]
  },
  {
   "cell_type": "markdown",
   "metadata": {},
   "source": [
    "### Esercizi Lambda Expressions"
   ]
  },
  {
   "cell_type": "code",
   "execution_count": null,
   "metadata": {},
   "outputs": [],
   "source": [
    "# Esercizio 8\n",
    "# 1 - definiamo una lambda expression che prende in input un numero x e ritorna il quadrato. \n",
    "# 2 - definiamo una lambda expressione che prende in input due numeri x, y e ritorna la somma. \n",
    "# 3 - definiamo una lambda expressione che prende in input una funzione <f> \n",
    "# (che accetta numeri interi) e ritonra la funzione <g> conrrispondente a f(n)*f(n+1)\n",
    "\n",
    "# SCRIVI QUI"
   ]
  },
  {
   "cell_type": "markdown",
   "metadata": {},
   "source": [
    "### Esercizi Liste "
   ]
  },
  {
   "cell_type": "code",
   "execution_count": 22,
   "metadata": {},
   "outputs": [
    {
     "data": {
      "text/plain": [
       "False"
      ]
     },
     "execution_count": 22,
     "metadata": {},
     "output_type": "execute_result"
    }
   ],
   "source": [
    "# Esercizio 9\n",
    "# Definite una funzione che prende in input una stringa\n",
    "# rappresentate una sequenza di parentesi (es. \"()(())()\") e ritorna True se la sequenza è ben formata\n",
    "# False altrimenti. Ben formata significa che ogni parentesi aperta viene chiusa e ogni parentesi chiusa è stata \n",
    "# effettivamente aperta.\n",
    "# Esempi. \n",
    "# ()() -> True\n",
    "# (  -> False parentesi aperta e mai chiusa\n",
    "# )  -> False, parentesi chiusa e mai aperta\n",
    "# ())-> False l'ultima parentesi non è stata aperta\n",
    "\n",
    "# SCRIVI QUI"
   ]
  },
  {
   "cell_type": "code",
   "execution_count": null,
   "metadata": {},
   "outputs": [],
   "source": [
    "# Esercizio 10\n",
    "# Definiamo una funzione che prende in input una lista di numeri interi e ritorna quanti \n",
    "# sono i numeri che si ripetono almeno una volta\n",
    "# es. [1,5,6,8,6,5] -> 2 \n",
    "\n",
    "# SCRIVI QUI"
   ]
  },
  {
   "cell_type": "code",
   "execution_count": 20,
   "metadata": {},
   "outputs": [],
   "source": [
    "# Esercizio 11\n",
    "# definire una funzione che prende in input una lista di numeri interi e ritorna come output\n",
    "# la lista senza ripetizioni dei numeri che si ripetono almeno una volta. Se non ve ne sono la funzione\n",
    "# ritorna la lista vuoota.\n",
    "# Esempi: \n",
    "# esercizio5([1,2,3,4,1,3]) -> [1,3]\n",
    "# esercizio5([1,2,3,4,5,6]) -> []\n",
    "\n",
    "# SCRIVI QUI"
   ]
  },
  {
   "cell_type": "markdown",
   "metadata": {},
   "source": [
    "### Esercizi List Comprehension"
   ]
  },
  {
   "cell_type": "code",
   "execution_count": null,
   "metadata": {},
   "outputs": [],
   "source": [
    "# Esercizio 12\n",
    "# Definire una funzione che prende in input un insieme di numeri interi e ritorna \n",
    "# una insieme di tutte le combinazioni di due elementi (insieme di tuple) \n",
    "# {1,2,3} -> {(1,2),(1,3),(2,3)}\n",
    "\n",
    "# SCRIVI QUI"
   ]
  },
  {
   "cell_type": "code",
   "execution_count": 19,
   "metadata": {},
   "outputs": [],
   "source": [
    "# Esercizio 13\n",
    "# Usare la funzione al punto 2 dell'esercizio precedente per definire tutte le tuple (a,b,c)\n",
    "# di numeri interi positivi tali che a+b=c e c<204\n",
    "\n",
    "# SCRIVI QUI"
   ]
  },
  {
   "cell_type": "code",
   "execution_count": 21,
   "metadata": {},
   "outputs": [
    {
     "data": {
      "text/plain": [
       "[6, 4, 2]"
      ]
     },
     "execution_count": 21,
     "metadata": {},
     "output_type": "execute_result"
    }
   ],
   "source": [
    "# Esercizio 14\n",
    "# Definite una funzione che prende in input una lista di parole L e ritorna una lista di interi rappresentante \n",
    "# la lunghezza delle parole di L.\n",
    "# es. [\"ciccio\",\"pino\",\"ma\"] -> [6,4,2]\n",
    "\n",
    "# SCRIVI QUI"
   ]
  },
  {
   "cell_type": "markdown",
   "metadata": {},
   "source": [
    "### Altri esercizi"
   ]
  },
  {
   "cell_type": "code",
   "execution_count": null,
   "metadata": {},
   "outputs": [],
   "source": [
    "# Esercizio 15\n",
    "# definire una funzione che prende in input un numero intero e restituisce la scomposizione in fattori primi. \n",
    "# esempio: scomposizione(20) -> 2**2*5\n",
    "# scomposizione fattori primi\n",
    "\n",
    "# SCRIVI QUI"
   ]
  },
  {
   "cell_type": "code",
   "execution_count": null,
   "metadata": {},
   "outputs": [],
   "source": [
    "# Esercizio 16\n",
    "# Definite un generatore di numeri primi\n",
    "\n",
    "# SCRIVI QUI"
   ]
  }
 ],
 "metadata": {
  "kernelspec": {
   "display_name": "Python 3",
   "language": "python",
   "name": "python3"
  },
  "language_info": {
   "codemirror_mode": {
    "name": "ipython",
    "version": 3
   },
   "file_extension": ".py",
   "mimetype": "text/x-python",
   "name": "python",
   "nbconvert_exporter": "python",
   "pygments_lexer": "ipython3",
   "version": "3.6.9"
  }
 },
 "nbformat": 4,
 "nbformat_minor": 4
}
