{
 "cells": [
  {
   "cell_type": "markdown",
   "metadata": {},
   "source": [
    "### Domanda: Implementazione liste in Python?\n",
    "Dipende da qualche implementazione di Python state parlando.. \n",
    "\n",
    "https://github.com/python/cpython/blob/master/Objects/listobject.c\n",
    "\n",
    "Esistono diverse implementazioni di Python: [CPython](https://github.com/python/cpython) e [JPython](https://github.com/jythontools/jython) le pricipali. "
   ]
  },
  {
   "cell_type": "markdown",
   "metadata": {},
   "source": [
    "### Ordinamento di stringhe\n",
    "Ordinamento rispetto a UNICODE per singoli caratteri `ord()`"
   ]
  },
  {
   "cell_type": "code",
   "execution_count": 1,
   "metadata": {},
   "outputs": [
    {
     "data": {
      "text/plain": [
       "True"
      ]
     },
     "execution_count": 1,
     "metadata": {},
     "output_type": "execute_result"
    }
   ],
   "source": [
    "\"A\"<\"a\"  # perché ord(\"A\")<ord(\"a\")"
   ]
  },
  {
   "cell_type": "markdown",
   "metadata": {},
   "source": [
    "Ordinamento sull parole"
   ]
  },
  {
   "cell_type": "code",
   "execution_count": 13,
   "metadata": {},
   "outputs": [
    {
     "data": {
      "text/plain": [
       "True"
      ]
     },
     "execution_count": 13,
     "metadata": {},
     "output_type": "execute_result"
    }
   ],
   "source": [
    "\"Ciccio\"<\"Spiccione\"  # confrontano lettera per lettera.."
   ]
  },
  {
   "cell_type": "code",
   "execution_count": 15,
   "metadata": {},
   "outputs": [
    {
     "data": {
      "text/plain": [
       "True"
      ]
     },
     "execution_count": 15,
     "metadata": {},
     "output_type": "execute_result"
    }
   ],
   "source": [
    "\"CAROLino\"<\"CARON\""
   ]
  },
  {
   "cell_type": "markdown",
   "metadata": {},
   "source": [
    "## Esercizi 8: Soluzioni"
   ]
  },
  {
   "cell_type": "markdown",
   "metadata": {},
   "source": [
    "### Esercizio 1\n",
    "Scrivere una funzione che prende in input una lista di coppie (tuple di due elementi), per esempio `[(1,2),(4,5),(8,1)]`, e ritorna la lista delle coppie ordinate rispetto al valore crescente del loro ultimo elemento, ovvero `[(8,1),(1,2),(4,5)]`"
   ]
  },
  {
   "cell_type": "code",
   "execution_count": 47,
   "metadata": {},
   "outputs": [],
   "source": [
    "# SCRIVI QUI"
   ]
  },
  {
   "cell_type": "markdown",
   "metadata": {},
   "source": [
    "#### E se volessi mantenere intatta `l` e generare una nuova lista ordinata? "
   ]
  },
  {
   "cell_type": "code",
   "execution_count": 46,
   "metadata": {},
   "outputs": [],
   "source": [
    "# SCRIVI QUI"
   ]
  },
  {
   "cell_type": "markdown",
   "metadata": {},
   "source": [
    "### Esercizio 4\n",
    "Una tupla annidata è una tupla che ha degli elementi che sono delle tuple, per esempio `((1,2),3,(4,(5,6)))` è una tupla annidata perché ha come elementi `(1,2)` e `(4,(5,6))`. A sua volta `(4,(5,6))` è una tupla annidata.\n",
    "Definite una funzione che prende in input una tupla e ritorni se è annidata. Cercate su google e poi nella documentazione di Python se esiste un modo per determinare se un oggetto è di un certo tipo. A voi serve capire se un oggetto è una tupla!"
   ]
  },
  {
   "cell_type": "code",
   "execution_count": 40,
   "metadata": {},
   "outputs": [],
   "source": [
    "# SCRIVI QUI"
   ]
  },
  {
   "cell_type": "markdown",
   "metadata": {},
   "source": [
    "### Esercizio 8\n",
    "Considerate l'esercizio 4. Definiamo il grado di annidamento come il numero massimo di annidamenti multipli contenuti nella tupla. Per esempio `((1,2),3,(4,(5,6)))` ha un grado di annidamento pari a 2 perché contiene una tupla annidata `(4,(5,6))` che ha a sua volta un tupla al suo intero, ovvero `(5,6)`. La tuple `(1,2)` ha grado di annidamento pari a 0 perchè non ha tuple annidate al suo interno, invece `(4,(5,6))` ha grado di annidamento pari a 1 percè contiene `(5,6)`.  \n",
    "Scrivete una funzione ricorsiva che calcoli il grado di annidamento di una tupla."
   ]
  },
  {
   "cell_type": "code",
   "execution_count": 44,
   "metadata": {},
   "outputs": [],
   "source": [
    "# SCRIVI QUI"
   ]
  },
  {
   "cell_type": "markdown",
   "metadata": {},
   "source": [
    "### Generatori\n",
    "Un oggetto che restituisce oggetti tramite il metodo `.__next__()`, invocato tramite la funzioncina `next()`\\\n",
    "Creiamo un generatore di numeri dispari"
   ]
  },
  {
   "cell_type": "code",
   "execution_count": 48,
   "metadata": {},
   "outputs": [],
   "source": [
    "def dispari():\n",
    "    i=1\n",
    "    while(True):\n",
    "        yield i     # parola chiave\n",
    "        i = i + 2\n",
    "generatore_dispari = dispari()"
   ]
  },
  {
   "cell_type": "code",
   "execution_count": 49,
   "metadata": {},
   "outputs": [
    {
     "data": {
      "text/plain": [
       "1"
      ]
     },
     "execution_count": 49,
     "metadata": {},
     "output_type": "execute_result"
    }
   ],
   "source": [
    "generatore_dispari.__next__() # non fatelo, usate next()!"
   ]
  },
  {
   "cell_type": "code",
   "execution_count": 33,
   "metadata": {},
   "outputs": [
    {
     "data": {
      "text/plain": [
       "85"
      ]
     },
     "execution_count": 33,
     "metadata": {},
     "output_type": "execute_result"
    }
   ],
   "source": [
    "next(generatore_dispari)"
   ]
  },
  {
   "cell_type": "code",
   "execution_count": 34,
   "metadata": {},
   "outputs": [
    {
     "name": "stdout",
     "output_type": "stream",
     "text": [
      "87 89 91 93 95 97 99 101 103 105 107 109 111 113 115 117 119 121 123 125 "
     ]
    }
   ],
   "source": [
    "for i in range(20):\n",
    "    print(next(generatore_dispari), end = \" \")"
   ]
  },
  {
   "cell_type": "code",
   "execution_count": 37,
   "metadata": {},
   "outputs": [
    {
     "ename": "StopIteration",
     "evalue": "",
     "output_type": "error",
     "traceback": [
      "\u001b[0;31m---------------------------------------------------------------------------\u001b[0m",
      "\u001b[0;31mStopIteration\u001b[0m                             Traceback (most recent call last)",
      "\u001b[0;32m<ipython-input-37-c84f1d444b26>\u001b[0m in \u001b[0;36m<module>\u001b[0;34m\u001b[0m\n\u001b[1;32m      6\u001b[0m \u001b[0mgeneratore_dispari\u001b[0m \u001b[0;34m=\u001b[0m \u001b[0mdispari\u001b[0m\u001b[0;34m(\u001b[0m\u001b[0;36m2\u001b[0m\u001b[0;34m)\u001b[0m\u001b[0;34m\u001b[0m\u001b[0;34m\u001b[0m\u001b[0m\n\u001b[1;32m      7\u001b[0m \u001b[0mnext\u001b[0m\u001b[0;34m(\u001b[0m\u001b[0mgeneratore_dispari\u001b[0m\u001b[0;34m)\u001b[0m\u001b[0;34m\u001b[0m\u001b[0;34m\u001b[0m\u001b[0m\n\u001b[0;32m----> 8\u001b[0;31m \u001b[0mnext\u001b[0m\u001b[0;34m(\u001b[0m\u001b[0mgeneratore_dispari\u001b[0m\u001b[0;34m)\u001b[0m\u001b[0;34m\u001b[0m\u001b[0;34m\u001b[0m\u001b[0m\n\u001b[0m\u001b[1;32m      9\u001b[0m \u001b[0;34m\u001b[0m\u001b[0m\n",
      "\u001b[0;31mStopIteration\u001b[0m: "
     ]
    }
   ],
   "source": [
    "def dispari(n):\n",
    "    i=1\n",
    "    while(i<n):\n",
    "        yield i     # parola chiave\n",
    "        i = i + 2\n",
    "generatore_dispari = dispari(2)\n",
    "next(generatore_dispari)\n",
    "next(generatore_dispari)"
   ]
  },
  {
   "cell_type": "markdown",
   "metadata": {},
   "source": [
    "#### Ciclo for su generatori"
   ]
  },
  {
   "cell_type": "code",
   "execution_count": 39,
   "metadata": {},
   "outputs": [
    {
     "name": "stdout",
     "output_type": "stream",
     "text": [
      "1 3 5 7 9 11 13 15 17 19 21 23 25 27 29 31 33 35 37 39 41 43 45 47 49 51 53 55 57 59 61 63 65 67 69 71 73 75 77 79 "
     ]
    }
   ],
   "source": [
    "for i in dispari(80):\n",
    "    print(i,end =\" \")"
   ]
  },
  {
   "cell_type": "markdown",
   "metadata": {},
   "source": [
    "### Esercizio : Generatore di numeri primi"
   ]
  },
  {
   "cell_type": "code",
   "execution_count": 50,
   "metadata": {},
   "outputs": [],
   "source": [
    "# SCRIVI QUI"
   ]
  },
  {
   "cell_type": "markdown",
   "metadata": {},
   "source": [
    "### List comprehension"
   ]
  },
  {
   "cell_type": "code",
   "execution_count": null,
   "metadata": {},
   "outputs": [],
   "source": [
    "# esercizio salviamo in una lista i numeri dispari compresi tra 12 e 79 (incluso)\n",
    "numeri_dispari=[]\n",
    "for i in range(12,80):     # occhio 79 incluso!!\n",
    "    if i%2==1:\n",
    "        numeri_dispari.append(i)\n",
    "print(numeri_dispari)       "
   ]
  },
  {
   "cell_type": "code",
   "execution_count": null,
   "metadata": {},
   "outputs": [],
   "source": [
    "# la list comprehension è un modo molto veloce per risolvere l'esercizio precedente\n",
    "numeri_dispari = [i for i in range(12,80) if i%2==1] \n",
    "print(numeri_dispari)"
   ]
  },
  {
   "cell_type": "markdown",
   "metadata": {},
   "source": [
    "#### Per definire una lista usando la List comprehension basta includere in delle parentesi quadre la definizione dell'elemento appartenente alla lista.\n",
    "Se vogliamo definire la lista dei numeri dispari compresi tra 20 e 133 (incluso) scriverò  \n",
    "`[n dove n è compreso tra 20 e 133 ed è dispari]` ovvero `[n for n in range(20,134) if n%2==1]`"
   ]
  },
  {
   "cell_type": "code",
   "execution_count": 24,
   "metadata": {},
   "outputs": [
    {
     "name": "stdout",
     "output_type": "stream",
     "text": [
      "[[3, 4, 5], [4, 3, 5], [5, 12, 13], [6, 8, 10], [7, 24, 25], [8, 6, 10], [8, 15, 17], [9, 12, 15], [9, 40, 41], [10, 24, 26], [11, 60, 61], [12, 5, 13], [12, 9, 15], [12, 16, 20], [12, 35, 37], [13, 84, 85], [14, 48, 50], [15, 8, 17], [15, 20, 25], [15, 36, 39], [16, 12, 20], [16, 30, 34], [16, 63, 65], [18, 24, 30], [18, 80, 82], [20, 15, 25], [20, 21, 29], [20, 48, 52], [21, 20, 29], [21, 28, 35], [21, 72, 75], [24, 7, 25], [24, 10, 26], [24, 18, 30], [24, 32, 40], [24, 45, 51], [24, 70, 74], [25, 60, 65], [27, 36, 45], [28, 21, 35], [28, 45, 53], [30, 16, 34], [30, 40, 50], [30, 72, 78], [32, 24, 40], [32, 60, 68], [33, 44, 55], [33, 56, 65], [35, 12, 37], [36, 15, 39], [36, 27, 45], [36, 48, 60], [36, 77, 85], [39, 52, 65], [39, 80, 89], [40, 9, 41], [40, 30, 50], [40, 42, 58], [40, 75, 85], [42, 40, 58], [42, 56, 70], [44, 33, 55], [45, 24, 51], [45, 28, 53], [45, 60, 75], [48, 14, 50], [48, 20, 52], [48, 36, 60], [48, 55, 73], [48, 64, 80], [51, 68, 85], [52, 39, 65], [55, 48, 73], [56, 33, 65], [56, 42, 70], [60, 11, 61], [60, 25, 65], [60, 32, 68], [60, 45, 75], [60, 63, 87], [63, 16, 65], [63, 60, 87], [64, 48, 80], [68, 51, 85], [70, 24, 74], [72, 21, 75], [72, 30, 78], [75, 40, 85], [77, 36, 85], [80, 18, 82], [80, 39, 89], [84, 13, 85]]\n"
     ]
    }
   ],
   "source": [
    "# altro esempio: le terne pitagoriche\n",
    "terne = [[a,b,c] for a in range(1,90) for b in range(1,90) for c in range(1,90) if a**2+b**2==c**2]\n",
    "print(terne)"
   ]
  },
  {
   "cell_type": "markdown",
   "metadata": {},
   "source": [
    "### Esercizio\n",
    "Definire una funzione che prende in input una lista di numeri e un threshold e ritorna i numeri in lista maggiori di threshold.  \n",
    "Esempio:  \n",
    "funzione([1,23,7,6,5,2,30],5) -> [1,7,6,2,30] "
   ]
  },
  {
   "cell_type": "code",
   "execution_count": 33,
   "metadata": {},
   "outputs": [],
   "source": [
    "# SCRIVI QUI"
   ]
  },
  {
   "cell_type": "markdown",
   "metadata": {},
   "source": [
    "### Esercizio"
   ]
  },
  {
   "cell_type": "code",
   "execution_count": 51,
   "metadata": {},
   "outputs": [],
   "source": [
    "# Esercizio:\n",
    "# Definiamo una funzione che prende in input una lista di tuple. \n",
    "# Ogni tupla è formata da due stringhe nome e cognome. \n",
    "# La funzione restituisce una lista di stringhe, dove la stringa i-esima \n",
    "# è la concatenazione di nome e cognome della tupla i-esima.\n",
    "# es. [(\"mario\",\"rossi\"),(\"luigi\", \"bianchi\")] -> [\"mario rossi\", \"luigi bianchi\"]\n",
    "\n",
    "#SCRIVI QUI"
   ]
  },
  {
   "cell_type": "markdown",
   "metadata": {},
   "source": [
    "## Insiemi\n",
    "Collezione di oggetti unici e immutabili! "
   ]
  },
  {
   "cell_type": "code",
   "execution_count": null,
   "metadata": {},
   "outputs": [],
   "source": [
    "s = {\"a\",\"b\",\"a\"}\n",
    "print(s)"
   ]
  },
  {
   "cell_type": "code",
   "execution_count": null,
   "metadata": {},
   "outputs": [],
   "source": [
    "len(s)  #cardinalità dell'insieme s\n",
    "x in s     #verifica x come membro di s\n",
    "x not in s #verifica che x non sia un membro di s\n",
    "s.issubset(t) # s<= t verifica se ogni elemento in s è in t\n",
    "s.issuperset(t) # s >= t verifica se ogni elemento in t è in s\n",
    "s.union(t) # s | t nuovo insieme con elementi sia di s che di t\n",
    "s.intersection(t) #s & t nuovo insieme con elementi comuni tra s e t\n",
    "s.difference(t) #s - t nuovo insieme con elementi in s ma non in t\n",
    "s.symmetric_difference(t)# s ^ t nuovo insieme con gli elementi di s o t ma non entrambi"
   ]
  },
  {
   "cell_type": "code",
   "execution_count": null,
   "metadata": {},
   "outputs": [],
   "source": [
    "s = {1,2,5} \n",
    "b = {5,6}\n",
    "c = s.union(b)\n",
    "i = s & b   # scrittura alternativa.\n",
    "print(i)"
   ]
  },
  {
   "cell_type": "code",
   "execution_count": null,
   "metadata": {},
   "outputs": [],
   "source": [
    "# ricordate gli insiemi posso contenere solo oggetti immutabili...\n",
    "# a è una lista ovvero un oggetto mutabile e non può essere un elemento di un insieme...\n",
    "a = [1,2,3]\n",
    "c = {a, 3}\n",
    "a in c "
   ]
  },
  {
   "cell_type": "markdown",
   "metadata": {},
   "source": [
    "### Set comprehension\n",
    "similmente alla lista posso definire gli insiemi in modo rapido.... "
   ]
  },
  {
   "cell_type": "code",
   "execution_count": null,
   "metadata": {},
   "outputs": [],
   "source": [
    " a = {a + b +c  for a in range(1,90) for b in range(1,90) for c in range(1,90) if a**2+b**2==c**2}"
   ]
  },
  {
   "cell_type": "code",
   "execution_count": null,
   "metadata": {},
   "outputs": [],
   "source": [
    "print(a)"
   ]
  },
  {
   "cell_type": "markdown",
   "metadata": {},
   "source": [
    "## Dizionari "
   ]
  },
  {
   "cell_type": "code",
   "execution_count": 22,
   "metadata": {},
   "outputs": [
    {
     "data": {
      "text/plain": [
       "dict"
      ]
     },
     "execution_count": 22,
     "metadata": {},
     "output_type": "execute_result"
    }
   ],
   "source": [
    "dizionario_vuoto = dict() # dizionario vuoto\n",
    "#oppure \n",
    "dizionario_vuoto_2 = {}  # Quindi la domanda sorge spontanea come definisco un insieme vuoto? :( \n",
    "type(dizionario_vuoto_2)"
   ]
  },
  {
   "cell_type": "markdown",
   "metadata": {},
   "source": [
    "#### Un dizionario è un'insieme di coppie chiave:valore, le chiavi posso un qualsiasi oggetto immutabile (stringhe, numeri,tuple,..)"
   ]
  },
  {
   "cell_type": "code",
   "execution_count": 24,
   "metadata": {},
   "outputs": [
    {
     "name": "stdout",
     "output_type": "stream",
     "text": [
      "{'Antonio': 27, 'Erica': 30, 'Luca': 20, 'Caterina': 18}\n",
      "{'nome': 'Mario', 'cognome': 'Rossi', 'età': 20}\n"
     ]
    }
   ],
   "source": [
    "voti = {'Antonio':27, 'Erica':30, 'Luca':20, 'Caterina':18 }\n",
    "persona = {'nome':'Mario', 'cognome':'Rossi', 'età':20} \n",
    "\n",
    "print(voti)\n",
    "print(persona)"
   ]
  },
  {
   "cell_type": "markdown",
   "metadata": {},
   "source": [
    "#### Le chiavi di un dizionario devono essere oggetti immutabili!"
   ]
  },
  {
   "cell_type": "code",
   "execution_count": 14,
   "metadata": {},
   "outputs": [
    {
     "ename": "TypeError",
     "evalue": "unhashable type: 'list'",
     "output_type": "error",
     "traceback": [
      "\u001b[1;31m---------------------------------------------------------------------------\u001b[0m",
      "\u001b[1;31mTypeError\u001b[0m                                 Traceback (most recent call last)",
      "\u001b[1;32m<ipython-input-14-12aa9fadbef8>\u001b[0m in \u001b[0;36m<module>\u001b[1;34m\u001b[0m\n\u001b[0;32m      1\u001b[0m \u001b[1;31m#se uso come chiave una lista... ottengo l'errore \"unhashable type...\"\u001b[0m\u001b[1;33m\u001b[0m\u001b[1;33m\u001b[0m\u001b[1;33m\u001b[0m\u001b[0m\n\u001b[1;32m----> 2\u001b[1;33m \u001b[0mdizionario\u001b[0m \u001b[1;33m=\u001b[0m \u001b[1;33m{\u001b[0m\u001b[1;33m[\u001b[0m\u001b[1;36m1\u001b[0m\u001b[1;33m,\u001b[0m\u001b[1;36m2\u001b[0m\u001b[1;33m]\u001b[0m\u001b[1;33m:\u001b[0m\u001b[1;36m3\u001b[0m\u001b[1;33m}\u001b[0m\u001b[1;33m\u001b[0m\u001b[1;33m\u001b[0m\u001b[0m\n\u001b[0m",
      "\u001b[1;31mTypeError\u001b[0m: unhashable type: 'list'"
     ]
    }
   ],
   "source": [
    "#se uso come chiave una lista... ottengo l'errore \"unhashable type...\"\n",
    "dizionario = {[1,2]:3}"
   ]
  },
  {
   "cell_type": "markdown",
   "metadata": {},
   "source": [
    "### Operazioni Elementari con i Dizionari\n",
    "#### Accedere agli elementi di un dizionario"
   ]
  },
  {
   "cell_type": "code",
   "execution_count": 27,
   "metadata": {},
   "outputs": [
    {
     "name": "stdout",
     "output_type": "stream",
     "text": [
      "27\n"
     ]
    }
   ],
   "source": [
    "voti = {'Antonio':27, 'Erica':30, 'Luca':20, 'Caterina':18 }\n",
    "print(voti['Antonio'])"
   ]
  },
  {
   "cell_type": "markdown",
   "metadata": {},
   "source": [
    "#### Modificare gli elementi di un dizionario"
   ]
  },
  {
   "cell_type": "code",
   "execution_count": 29,
   "metadata": {},
   "outputs": [
    {
     "name": "stdout",
     "output_type": "stream",
     "text": [
      "{'Antonio': 27, 'Erica': 30, 'Luca': 20, 'Caterina': 18}\n",
      "{'Antonio': 30, 'Erica': 30, 'Luca': 20, 'Caterina': 18}\n"
     ]
    }
   ],
   "source": [
    "voti = {'Antonio':27, 'Erica':30, 'Luca':20, 'Caterina':18 }\n",
    "print(voti)\n",
    "voti['Antonio'] = 30  # modifico il voto di Antonio\n",
    "print(voti)"
   ]
  },
  {
   "cell_type": "markdown",
   "metadata": {},
   "source": [
    "#### Aggiungere un elemento a un dizionario\n"
   ]
  },
  {
   "cell_type": "code",
   "execution_count": 30,
   "metadata": {},
   "outputs": [
    {
     "name": "stdout",
     "output_type": "stream",
     "text": [
      "{'Antonio': 27, 'Erica': 30, 'Luca': 20, 'Caterina': 18, 'Laura': 29}\n"
     ]
    }
   ],
   "source": [
    "voti = {'Antonio':27, 'Erica':30, 'Luca':20, 'Caterina':18 }\n",
    "voti['Laura'] = 29\n",
    "print(voti)"
   ]
  },
  {
   "cell_type": "markdown",
   "metadata": {},
   "source": [
    "#### Cancellare un elemento"
   ]
  },
  {
   "cell_type": "code",
   "execution_count": 16,
   "metadata": {},
   "outputs": [
    {
     "name": "stdout",
     "output_type": "stream",
     "text": [
      "{'Erica': 30, 'Luca': 20, 'Caterina': 18}\n"
     ]
    }
   ],
   "source": [
    "voti = {'Antonio':27, 'Erica':30, 'Luca':20, 'Caterina':18 }\n",
    "del(voti['Antonio'])\n",
    "print(voti)"
   ]
  },
  {
   "cell_type": "markdown",
   "metadata": {},
   "source": [
    "#### Altri metodi"
   ]
  },
  {
   "cell_type": "code",
   "execution_count": 52,
   "metadata": {},
   "outputs": [
    {
     "data": {
      "text/plain": [
       "3"
      ]
     },
     "execution_count": 52,
     "metadata": {},
     "output_type": "execute_result"
    }
   ],
   "source": [
    "len(voti) # Lunghezza di un dizionario: il numero di coppie chiave-valore"
   ]
  },
  {
   "cell_type": "code",
   "execution_count": 53,
   "metadata": {},
   "outputs": [
    {
     "data": {
      "text/plain": [
       "['Erica', 'Luca', 'Caterina']"
      ]
     },
     "execution_count": 53,
     "metadata": {},
     "output_type": "execute_result"
    }
   ],
   "source": [
    "list(voti.keys()) # costruisco la lista delle chiavi del dizionario "
   ]
  },
  {
   "cell_type": "code",
   "execution_count": 54,
   "metadata": {},
   "outputs": [
    {
     "data": {
      "text/plain": [
       "[30, 20, 18]"
      ]
     },
     "execution_count": 54,
     "metadata": {},
     "output_type": "execute_result"
    }
   ],
   "source": [
    "list(voti.values()) # lista valori del dizionario"
   ]
  },
  {
   "cell_type": "code",
   "execution_count": 55,
   "metadata": {},
   "outputs": [
    {
     "data": {
      "text/plain": [
       "[('Erica', 30), ('Luca', 20), ('Caterina', 18)]"
      ]
     },
     "execution_count": 55,
     "metadata": {},
     "output_type": "execute_result"
    }
   ],
   "source": [
    "list(voti.items()) # lista valori delle coppie chiave - valore"
   ]
  },
  {
   "cell_type": "code",
   "execution_count": 56,
   "metadata": {},
   "outputs": [
    {
     "data": {
      "text/plain": [
       "False"
      ]
     },
     "execution_count": 56,
     "metadata": {},
     "output_type": "execute_result"
    }
   ],
   "source": [
    "'Ludovica' in voti.keys() # Chiedo se la chiave 'Ludovica' è presente nel dizionario\n",
    "#posso anche scrivere direttamente\n",
    "'Ludovica' in voti"
   ]
  },
  {
   "cell_type": "code",
   "execution_count": 41,
   "metadata": {},
   "outputs": [
    {
     "data": {
      "text/plain": [
       "False"
      ]
     },
     "execution_count": 41,
     "metadata": {},
     "output_type": "execute_result"
    }
   ],
   "source": [
    "voti1 = {'Antonio':27, 'Erica':30, 'Luca':20, 'Caterina':18 }\n",
    "voti2 = {'Antonio':27, 'Erica':30, 'Lucia':20, 'Caterina':30 }\n",
    "voti1 == voti2   # controlla se due dizionari sono uguali, ovvero hanno le stesse coppie chiave - valore"
   ]
  },
  {
   "cell_type": "markdown",
   "metadata": {},
   "source": [
    "#### Metodo get"
   ]
  },
  {
   "cell_type": "code",
   "execution_count": 19,
   "metadata": {},
   "outputs": [
    {
     "data": {
      "text/plain": [
       "27"
      ]
     },
     "execution_count": 19,
     "metadata": {},
     "output_type": "execute_result"
    }
   ],
   "source": [
    "voti = {'Antonio':27, 'Erica':30, 'Luca':20, 'Caterina':18 }\n",
    "\n",
    "voti.get('Antonio',12) # restituiscie il valore associato alla chiave 'Antonio' se presente, 12 altrimenti"
   ]
  },
  {
   "cell_type": "code",
   "execution_count": 20,
   "metadata": {},
   "outputs": [
    {
     "data": {
      "text/plain": [
       "25"
      ]
     },
     "execution_count": 20,
     "metadata": {},
     "output_type": "execute_result"
    }
   ],
   "source": [
    "voti.get('Luigi',25)"
   ]
  },
  {
   "cell_type": "code",
   "execution_count": 22,
   "metadata": {},
   "outputs": [
    {
     "data": {
      "text/plain": [
       "True"
      ]
     },
     "execution_count": 22,
     "metadata": {},
     "output_type": "execute_result"
    }
   ],
   "source": [
    "# Esercizio insieme.\n",
    "# Definiamo una funzione che prende in input due stringhe e restituisce True se una è \n",
    "# anagramma dell'altra,\n",
    "# False altrimenti\n",
    "# Indizio: costruiamo una funzioni che conti le lettere presenti in una stringa...\n",
    "\n",
    "def anagramma(parola1, parola2):\n",
    "    return crea_dizionario_smart(parola1) == crea_dizionario_smart(parola2)\n",
    "\n",
    "def crea_dizionario(parola):\n",
    "    diz = {}\n",
    "    for lettera in parola:\n",
    "        if lettera not in diz:\n",
    "            diz[lettera] = 1\n",
    "        else:\n",
    "            diz[lettera] = diz[lettera] + 1\n",
    "    return diz\n",
    "\n",
    "def crea_dizionario_smart(parola):\n",
    "    diz = {}\n",
    "    for lettera in parola:\n",
    "        diz[lettera] = diz.get(lettera,0)+1\n",
    "    \n",
    "\n",
    "anagramma(\"ciccio\",\"cccciio\")"
   ]
  },
  {
   "cell_type": "markdown",
   "metadata": {},
   "source": [
    "### Esercizio"
   ]
  },
  {
   "cell_type": "code",
   "execution_count": 53,
   "metadata": {},
   "outputs": [],
   "source": [
    "# Definire una funzione che prende come input una frase (insieme di stringhe intervallate \n",
    "#da uno spazio)\n",
    "# e ritorna un dizionario che ha come chiavi delle lettere e come valori la parola in frase \n",
    "#di lunghezza massima \n",
    "# che inizia proprio con quella lettera..\n",
    "# Esempio: \"mela pera macchina parmigiano console pittore piadina posizione carteggio foca\" \n",
    "#restituisce: \n",
    "# {\"m\": \"macchina\", \"p\": \"posizione\", \"c\": \"carteggio\", \"f\":\"foca\"}\n",
    "# a parità di lunghezza si preferisce la prima parola incontrata.\n",
    "\n",
    "# SCRIVI QUI"
   ]
  }
 ],
 "metadata": {
  "kernelspec": {
   "display_name": "Python 3",
   "language": "python",
   "name": "python3"
  },
  "language_info": {
   "codemirror_mode": {
    "name": "ipython",
    "version": 3
   },
   "file_extension": ".py",
   "mimetype": "text/x-python",
   "name": "python",
   "nbconvert_exporter": "python",
   "pygments_lexer": "ipython3",
   "version": "3.6.9"
  }
 },
 "nbformat": 4,
 "nbformat_minor": 4
}
