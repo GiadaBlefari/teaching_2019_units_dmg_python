{
 "cells": [
  {
   "cell_type": "markdown",
   "metadata": {},
   "source": [
    "## Regole di ingaggio\n",
    "- partecipare almeno a 14 ore di lezione (a partire da ora)\n",
    "- vi lascerò degli assignments da svolgere sulla piattaforma teams"
   ]
  },
  {
   "cell_type": "markdown",
   "metadata": {},
   "source": [
    "# Lezione 2"
   ]
  },
  {
   "cell_type": "markdown",
   "metadata": {},
   "source": [
    "### Argomenti:\n",
    "- Idle (Python Shell)\n",
    "- differenza tra shell ed editor di testo\n",
    "- indentazione"
   ]
  },
  {
   "cell_type": "markdown",
   "metadata": {},
   "source": [
    "#### Esercizio 1\n",
    "Utilizzate la funzione `help` o il `?` per imparare qualcosa sulla funzione `type`\n"
   ]
  },
  {
   "cell_type": "code",
   "execution_count": 6,
   "metadata": {},
   "outputs": [],
   "source": [
    "# scrivi qui"
   ]
  },
  {
   "cell_type": "markdown",
   "metadata": {},
   "source": [
    "### Piccolo Inciso: output di una cella vs no-output vs print "
   ]
  },
  {
   "cell_type": "code",
   "execution_count": 6,
   "metadata": {},
   "outputs": [
    {
     "name": "stdout",
     "output_type": "stream",
     "text": [
      "10\n"
     ]
    }
   ],
   "source": [
    "print(10)"
   ]
  },
  {
   "cell_type": "code",
   "execution_count": 7,
   "metadata": {},
   "outputs": [
    {
     "data": {
      "text/plain": [
       "10"
      ]
     },
     "execution_count": 7,
     "metadata": {},
     "output_type": "execute_result"
    }
   ],
   "source": [
    "10"
   ]
  },
  {
   "cell_type": "code",
   "execution_count": 8,
   "metadata": {},
   "outputs": [],
   "source": [
    "a = 1 "
   ]
  },
  {
   "cell_type": "markdown",
   "metadata": {},
   "source": [
    "# Operatore di assegnazione\n",
    "Per assegnare un valore a una variabile usiamo l'uguale `=`"
   ]
  },
  {
   "cell_type": "code",
   "execution_count": 40,
   "metadata": {},
   "outputs": [],
   "source": [
    "x = 1+1"
   ]
  },
  {
   "cell_type": "markdown",
   "metadata": {},
   "source": [
    "A destra dell'operatore di assegnazione c'è un'espressione (`1+1`) che deve essere calcolata\n",
    "\n",
    "`x` è una variabile che si riferisce a un indirizzo di memoria RAM"
   ]
  },
  {
   "cell_type": "code",
   "execution_count": 31,
   "metadata": {},
   "outputs": [
    {
     "data": {
      "text/plain": [
       "140710160278032"
      ]
     },
     "execution_count": 31,
     "metadata": {},
     "output_type": "execute_result"
    }
   ],
   "source": [
    "# se usiamo la funzione id() possiamo conoscere l'indirizzo di memoria dove punta x\n",
    "id(x)"
   ]
  },
  {
   "cell_type": "markdown",
   "metadata": {},
   "source": [
    "#### Little _intergalactic_ boxes"
   ]
  },
  {
   "cell_type": "code",
   "execution_count": 9,
   "metadata": {},
   "outputs": [],
   "source": [
    "x = 42 \n",
    "y = x \n",
    "# quanto vale y? \n",
    "y = 10 \n",
    "# quanto vale x? "
   ]
  },
  {
   "cell_type": "markdown",
   "metadata": {},
   "source": [
    "# Tipi\n",
    "ogni cosa in Python ha un tipo: intero, stringa, classe, funzione, floating-point (abbreviato float, obbero un numero a virgola mobile), etc."
   ]
  },
  {
   "cell_type": "code",
   "execution_count": 14,
   "metadata": {},
   "outputs": [
    {
     "name": "stdout",
     "output_type": "stream",
     "text": [
      "<class 'int'>\n",
      "<class 'str'>\n",
      "<class 'float'>\n",
      "<class 'bool'> <class 'bool'>\n",
      "<built-in function print>\n"
     ]
    }
   ],
   "source": [
    "print(type(3))                 #intero\n",
    "print(type(\"s\"))               #stringa: successione di caratteri\n",
    "print(type(2.3))               #floating-point\n",
    "print(type(True),type(False))  #booleani\n",
    "print(print)                   #funzioni"
   ]
  },
  {
   "cell_type": "markdown",
   "metadata": {},
   "source": [
    "abbiamo usato la funzione `type()` che ritorna il tipo dell'oggetto passato in input"
   ]
  },
  {
   "cell_type": "markdown",
   "metadata": {},
   "source": [
    "#### Tipizzazione Dinamica\n",
    "Python è un linguaggio con tipizzazione dinamica"
   ]
  },
  {
   "cell_type": "code",
   "execution_count": 2,
   "metadata": {},
   "outputs": [
    {
     "name": "stdout",
     "output_type": "stream",
     "text": [
      "il tipo di x è <class 'int'> e il suo valore 3\n",
      "il tipo di x è <class 'str'> e il suo valore ciao\n"
     ]
    }
   ],
   "source": [
    "# tipizzazione dinamica\n",
    "x = 3 # assegno a x un intero, x quindi è una variabile di tipo intero.\n",
    "print(\"il tipo di x è\", type(x), \"e il suo valore\", x)\n",
    "x = \"ciao\"\n",
    "print(\"il tipo di x è\", type(x), \"e il suo valore\", x) "
   ]
  },
  {
   "cell_type": "markdown",
   "metadata": {},
   "source": [
    "C invece è un linguaggio con tipizzazione statica, una cosa del genere sarebbe illegale: "
   ]
  },
  {
   "cell_type": "raw",
   "metadata": {},
   "source": [
    "int x;  --> In C devo dichiarare il tipo della variabile. \n",
    "x = 5;   \n",
    "x = \"ciao\";    --> ILLEGALE! Il compilatore si \"arrabbia\" in questo punto. "
   ]
  },
  {
   "cell_type": "markdown",
   "metadata": {},
   "source": [
    "### Built-in functions\n",
    "[link](https://docs.python.org/3.8/library/functions.html) alla documentazione ufficiale\n",
    "\n",
    "<img src=\"img/built_in_functions.png\" width=\"600\" align = \"left\"/>"
   ]
  },
  {
   "cell_type": "markdown",
   "metadata": {},
   "source": [
    "### Interi/Float\n",
    "possiamo definire interi tramite assegnazione ad una variabile o tramite la built-in function `int()`"
   ]
  },
  {
   "cell_type": "code",
   "execution_count": 4,
   "metadata": {},
   "outputs": [],
   "source": [
    "x = 5 # oppure"
   ]
  },
  {
   "cell_type": "code",
   "execution_count": 6,
   "metadata": {},
   "outputs": [
    {
     "data": {
      "text/plain": [
       "int"
      ]
     },
     "execution_count": 6,
     "metadata": {},
     "output_type": "execute_result"
    }
   ],
   "source": [
    "y = int(\"5\")\n",
    "type(y)"
   ]
  },
  {
   "cell_type": "code",
   "execution_count": null,
   "metadata": {},
   "outputs": [],
   "source": [
    "# divisione ritorna un floating point (abbreviato float). \n",
    "8/5 #"
   ]
  },
  {
   "cell_type": "code",
   "execution_count": 15,
   "metadata": {},
   "outputs": [
    {
     "data": {
      "text/plain": [
       "2.0"
      ]
     },
     "execution_count": 15,
     "metadata": {},
     "output_type": "execute_result"
    }
   ],
   "source": [
    "8/4 # è sempre un float (anche se la divisione tra 8 e 4 matematicamente produce un intero) "
   ]
  },
  {
   "cell_type": "code",
   "execution_count": 16,
   "metadata": {},
   "outputs": [
    {
     "data": {
      "text/plain": [
       "float"
      ]
     },
     "execution_count": 16,
     "metadata": {},
     "output_type": "execute_result"
    }
   ],
   "source": [
    "type(8/4) #come verificabile usando la funzione type()"
   ]
  },
  {
   "cell_type": "code",
   "execution_count": null,
   "metadata": {},
   "outputs": [],
   "source": [
    "# divisione intera\n",
    "8//5 #è la divisione tra interi, e quindi è un intero"
   ]
  },
  {
   "cell_type": "code",
   "execution_count": null,
   "metadata": {},
   "outputs": [],
   "source": [
    "# resto\n",
    "8%5 #è il resto della divisione tra 8 e 5, ed è un intero "
   ]
  },
  {
   "cell_type": "code",
   "execution_count": 19,
   "metadata": {},
   "outputs": [
    {
     "name": "stdout",
     "output_type": "stream",
     "text": [
      "8/5=1*5+3\n"
     ]
    }
   ],
   "source": [
    "print(\"8/5=\",8//5,\"*5+\",8%5,sep=\"\")"
   ]
  },
  {
   "cell_type": "code",
   "execution_count": null,
   "metadata": {},
   "outputs": [],
   "source": [
    "# elevazione a potenza\n",
    "2**5 # in python la potenza si fa con due asterischi"
   ]
  },
  {
   "cell_type": "code",
   "execution_count": null,
   "metadata": {},
   "outputs": [],
   "source": [
    "2**1024  # questo risultato non è rappresentabile in nessun altro linguaggio di programmazione"
   ]
  },
  {
   "cell_type": "markdown",
   "metadata": {},
   "source": [
    "Gli interi in Python non hanno limite di grandezza!!! "
   ]
  },
  {
   "cell_type": "markdown",
   "metadata": {},
   "source": [
    "I float invece si ..."
   ]
  },
  {
   "cell_type": "code",
   "execution_count": 23,
   "metadata": {},
   "outputs": [
    {
     "ename": "OverflowError",
     "evalue": "(34, 'Numerical result out of range')",
     "output_type": "error",
     "traceback": [
      "\u001b[0;31m---------------------------------------------------------------------------\u001b[0m",
      "\u001b[0;31mOverflowError\u001b[0m                             Traceback (most recent call last)",
      "\u001b[0;32m<ipython-input-23-ad0936eef388>\u001b[0m in \u001b[0;36m<module>\u001b[0;34m\u001b[0m\n\u001b[0;32m----> 1\u001b[0;31m \u001b[0;36m2.0\u001b[0m\u001b[0;34m**\u001b[0m\u001b[0;36m1024\u001b[0m\u001b[0;34m\u001b[0m\u001b[0;34m\u001b[0m\u001b[0m\n\u001b[0m",
      "\u001b[0;31mOverflowError\u001b[0m: (34, 'Numerical result out of range')"
     ]
    }
   ],
   "source": [
    "2.0**1024"
   ]
  },
  {
   "cell_type": "markdown",
   "metadata": {},
   "source": [
    "### Stringhe\n",
    "Sequenza immutabile di caratteri (Unicode points)\n",
    "> Unicode è un sistema di codifica che assegna un **numero** univoco ad ogni carattere usato per la scrittura di testi, in maniera indipendente dalla lingua, dalla piattaforma informatica e dal programma utilizzato.0 ([Wikipedia](https://it.wikipedia.org/wiki/Unicode))\n",
    "\n",
    "Esempio se volete generare il carattere `~` digitate `alt+126`. 126 è il numero associato al carattere unicode ~  \n",
    "\n",
    "[Unicode Table](https://www.rapidtables.com/code/text/unicode-characters.html)"
   ]
  },
  {
   "cell_type": "code",
   "execution_count": 7,
   "metadata": {},
   "outputs": [
    {
     "data": {
      "text/plain": [
       "126"
      ]
     },
     "execution_count": 7,
     "metadata": {},
     "output_type": "execute_result"
    }
   ],
   "source": [
    "ord(\"~\") #Return the Unicode code point for a one-character string."
   ]
  },
  {
   "cell_type": "code",
   "execution_count": 8,
   "metadata": {},
   "outputs": [
    {
     "data": {
      "text/plain": [
       "'~'"
      ]
     },
     "execution_count": 8,
     "metadata": {},
     "output_type": "execute_result"
    }
   ],
   "source": [
    "chr(126) #funzione inversa di ord()"
   ]
  },
  {
   "cell_type": "code",
   "execution_count": 26,
   "metadata": {},
   "outputs": [
    {
     "data": {
      "text/plain": [
       "'parola'"
      ]
     },
     "execution_count": 26,
     "metadata": {},
     "output_type": "execute_result"
    }
   ],
   "source": [
    "\"parola\" #doppi apici"
   ]
  },
  {
   "cell_type": "code",
   "execution_count": 27,
   "metadata": {},
   "outputs": [
    {
     "data": {
      "text/plain": [
       "'parola'"
      ]
     },
     "execution_count": 27,
     "metadata": {},
     "output_type": "execute_result"
    }
   ],
   "source": [
    "'parola' # singolo apice"
   ]
  },
  {
   "cell_type": "code",
   "execution_count": 12,
   "metadata": {},
   "outputs": [
    {
     "data": {
      "text/plain": [
       "' scrivere \\nsu più\\nrighe '"
      ]
     },
     "execution_count": 12,
     "metadata": {},
     "output_type": "execute_result"
    }
   ],
   "source": [
    "# Triple quote\n",
    "''' scrivere \n",
    "su più\n",
    "righe '''"
   ]
  },
  {
   "cell_type": "markdown",
   "metadata": {},
   "source": [
    "#### Esercizio 2\n",
    "provate a definire la stringa:\n",
    "- _non c'è tempo da perdere_ \n",
    "- _Mi disse: \"ciao\"_\n"
   ]
  },
  {
   "cell_type": "code",
   "execution_count": null,
   "metadata": {},
   "outputs": [],
   "source": [
    "#scrivi qui "
   ]
  },
  {
   "cell_type": "markdown",
   "metadata": {},
   "source": [
    "### Metodo `.format()`"
   ]
  },
  {
   "cell_type": "code",
   "execution_count": 22,
   "metadata": {},
   "outputs": [
    {
     "name": "stdout",
     "output_type": "stream",
     "text": [
      "Il mio nome è Simone ed ho 34 anni\n"
     ]
    }
   ],
   "source": [
    "frase = \"Il mio nome è {} ed ho {} anni\" # le {} sono delle ancore (placeholder) alle quali posso associare dei\n",
    "                                         # valori usando .format()\n",
    "frase_completa = frase.format(\"Simone\",34)\n",
    "print(frase_completa)"
   ]
  },
  {
   "cell_type": "code",
   "execution_count": 24,
   "metadata": {},
   "outputs": [
    {
     "name": "stdout",
     "output_type": "stream",
     "text": [
      "sono le ore 5:36\n"
     ]
    }
   ],
   "source": [
    "print(\"sono le ore {}:{}\".format(5,36))"
   ]
  },
  {
   "cell_type": "markdown",
   "metadata": {},
   "source": [
    "####  Esercizio 3\n",
    "Scrivere l'equivalente di 538 minuti nel formato 12h:32min.   \n",
    "Crea una nuva cella qui sotto per risolvere l'esercizio!"
   ]
  },
  {
   "cell_type": "markdown",
   "metadata": {},
   "source": [
    "### Sempre sul metodo `format`"
   ]
  },
  {
   "cell_type": "code",
   "execution_count": 1,
   "metadata": {},
   "outputs": [
    {
     "name": "stdout",
     "output_type": "stream",
     "text": [
      "sono le ore 5:36\n"
     ]
    }
   ],
   "source": [
    "#puè essere utile associare una chiave all'ancora {} scrivendo \n",
    "# al suo interno una chiave univoca {A} è un ancora con chiave A.\n",
    "print(\"sono le ore {A}:{B}\".format(A=5,B=36))"
   ]
  },
  {
   "cell_type": "code",
   "execution_count": 5,
   "metadata": {},
   "outputs": [
    {
     "name": "stdout",
     "output_type": "stream",
     "text": [
      "\\/\\/\n"
     ]
    }
   ],
   "source": [
    "print(\"{B}{A}{B}{A}\".format(A=\"/\",B=\"\\\\\")) #notare il doppio \"\\\\\""
   ]
  },
  {
   "cell_type": "markdown",
   "metadata": {},
   "source": [
    "### Operazione con le Stringhe"
   ]
  },
  {
   "cell_type": "code",
   "execution_count": 27,
   "metadata": {},
   "outputs": [
    {
     "name": "stdout",
     "output_type": "stream",
     "text": [
      "ciao come stai?\n",
      "ciaociaociao\n"
     ]
    }
   ],
   "source": [
    "#concatenazione (+)\n",
    "concatenazione = \"ciao \"+ \"come stai?\"\n",
    "print(concatenazione)\n",
    "\n",
    "#moltiplicazione (*)\n",
    "moltiplicazione = \"ciao\"\n",
    "print(3*moltiplicazione)"
   ]
  },
  {
   "cell_type": "markdown",
   "metadata": {},
   "source": [
    "Non tutte le operazione algebriche sono permesse...."
   ]
  },
  {
   "cell_type": "markdown",
   "metadata": {},
   "source": [
    "#### L'elevazione a potenza non è permessa!\n",
    "Mi ritorna un errore ti tipo: `TypeError`"
   ]
  },
  {
   "cell_type": "code",
   "execution_count": 28,
   "metadata": {},
   "outputs": [
    {
     "ename": "TypeError",
     "evalue": "unsupported operand type(s) for ** or pow(): 'str' and 'int'",
     "output_type": "error",
     "traceback": [
      "\u001b[0;31m---------------------------------------------------------------------------\u001b[0m",
      "\u001b[0;31mTypeError\u001b[0m                                 Traceback (most recent call last)",
      "\u001b[0;32m<ipython-input-28-7e9c1870d904>\u001b[0m in \u001b[0;36m<module>\u001b[0;34m\u001b[0m\n\u001b[0;32m----> 1\u001b[0;31m \u001b[0mprint\u001b[0m\u001b[0;34m(\u001b[0m\u001b[0;34m'ciao'\u001b[0m\u001b[0;34m**\u001b[0m\u001b[0;36m5\u001b[0m\u001b[0;34m)\u001b[0m\u001b[0;34m\u001b[0m\u001b[0;34m\u001b[0m\u001b[0m\n\u001b[0m",
      "\u001b[0;31mTypeError\u001b[0m: unsupported operand type(s) for ** or pow(): 'str' and 'int'"
     ]
    }
   ],
   "source": [
    "print('ciao'**5)"
   ]
  },
  {
   "cell_type": "markdown",
   "metadata": {},
   "source": [
    "#### Anche la sottrazione non è permessa!\n"
   ]
  },
  {
   "cell_type": "code",
   "execution_count": 32,
   "metadata": {},
   "outputs": [
    {
     "ename": "TypeError",
     "evalue": "unsupported operand type(s) for -: 'str' and 'str'",
     "output_type": "error",
     "traceback": [
      "\u001b[1;31m---------------------------------------------------------------------------\u001b[0m",
      "\u001b[1;31mTypeError\u001b[0m                                 Traceback (most recent call last)",
      "\u001b[1;32m<ipython-input-32-e0cf1138dd85>\u001b[0m in \u001b[0;36m<module>\u001b[1;34m\u001b[0m\n\u001b[1;32m----> 1\u001b[1;33m \u001b[1;34m\"a\"\u001b[0m\u001b[1;33m-\u001b[0m\u001b[1;34m\"b\"\u001b[0m\u001b[1;33m\u001b[0m\u001b[1;33m\u001b[0m\u001b[0m\n\u001b[0m",
      "\u001b[1;31mTypeError\u001b[0m: unsupported operand type(s) for -: 'str' and 'str'"
     ]
    }
   ],
   "source": [
    "\"a\"-\"b\""
   ]
  },
  {
   "cell_type": "markdown",
   "metadata": {},
   "source": [
    "#### Le stringhe sono delle sequenze (iterable)"
   ]
  },
  {
   "cell_type": "markdown",
   "metadata": {},
   "source": [
    "<img src=\"img/hello.png\" width=\"600\" align = \"left\"/>"
   ]
  },
  {
   "cell_type": "code",
   "execution_count": 14,
   "metadata": {},
   "outputs": [],
   "source": [
    "s ='Hello World'"
   ]
  },
  {
   "cell_type": "code",
   "execution_count": 13,
   "metadata": {},
   "outputs": [
    {
     "data": {
      "text/plain": [
       "'H'"
      ]
     },
     "execution_count": 13,
     "metadata": {},
     "output_type": "execute_result"
    }
   ],
   "source": [
    "s[0]     #  primo elemento della stringa"
   ]
  },
  {
   "cell_type": "code",
   "execution_count": null,
   "metadata": {},
   "outputs": [],
   "source": [
    "s[3]    #  quarto elemento della stringa"
   ]
  },
  {
   "cell_type": "code",
   "execution_count": null,
   "metadata": {},
   "outputs": [],
   "source": [
    "len(s) # lunghezza di una stringa, il numero di caratteri!"
   ]
  },
  {
   "cell_type": "code",
   "execution_count": null,
   "metadata": {},
   "outputs": [],
   "source": [
    "s[len(s)-1] #ultimo elemento"
   ]
  },
  {
   "cell_type": "code",
   "execution_count": null,
   "metadata": {},
   "outputs": [],
   "source": [
    "s[-1]  #  ultimo elemento della stringa"
   ]
  },
  {
   "cell_type": "code",
   "execution_count": 15,
   "metadata": {},
   "outputs": [
    {
     "data": {
      "text/plain": [
       "'l'"
      ]
     },
     "execution_count": 15,
     "metadata": {},
     "output_type": "execute_result"
    }
   ],
   "source": [
    "s[-2]  #  penultimo elemento della stringa"
   ]
  },
  {
   "cell_type": "markdown",
   "metadata": {},
   "source": [
    "#### Slicing: selezionare una sottostringa [vale per le sequenze]\n",
    "`s[indice_incluso:indice_escluso:passo]`"
   ]
  },
  {
   "cell_type": "markdown",
   "metadata": {},
   "source": [
    "<img src=\"img/hello_short.png\" width=\"200\" align = \"left\"/>"
   ]
  },
  {
   "cell_type": "code",
   "execution_count": 17,
   "metadata": {},
   "outputs": [
    {
     "name": "stdout",
     "output_type": "stream",
     "text": [
      "s =  Hello\n",
      "s[2:4] : ll\n",
      "s[2:] : llo\n",
      "s[:4] : Hell\n"
     ]
    }
   ],
   "source": [
    "s = \"Hello\"\n",
    "print('s = ',s)\n",
    "print('s[2:4] :',s[2:4]) # l'elemento di indice 4 è ESCLUSO!!!!\n",
    "print('s[2:] :',s[2:])   # se non metto nulla si intende fino alla fine\n",
    "print('s[:4] :',s[:4])   # o dall'inizio"
   ]
  },
  {
   "cell_type": "markdown",
   "metadata": {},
   "source": [
    "<img src=\"img/hello.png\" width=\"600\" align = \"left\"/>"
   ]
  },
  {
   "cell_type": "code",
   "execution_count": 19,
   "metadata": {},
   "outputs": [
    {
     "name": "stdout",
     "output_type": "stream",
     "text": [
      "s =  Hello World\n",
      "s[1:10:2] : el ol\n",
      "s[2::2] : loWrd\n",
      "s[10:7:-1] : dlr\n",
      "s[::-1] : dlroW olleH\n"
     ]
    }
   ],
   "source": [
    "s = \"Hello World\"\n",
    "print('s = ',s)\n",
    "print('s[1:10:2] :',s[1:10:2])\n",
    "print('s[2::2] :',s[2::2]) # selezionare gli elementi partendo da quello di indice 2 fino alla fine\n",
    "                           # con intervallo di 2\n",
    "print('s[10:7:-1] :',s[10:7:-1])\n",
    "print('s[::-1] :',s[::-1])"
   ]
  },
  {
   "cell_type": "markdown",
   "metadata": {},
   "source": [
    "### Lunghezza di una stringa [vale per gli array]\n"
   ]
  },
  {
   "cell_type": "code",
   "execution_count": 20,
   "metadata": {},
   "outputs": [
    {
     "name": "stdout",
     "output_type": "stream",
     "text": [
      "len(s):  11\n"
     ]
    }
   ],
   "source": [
    "print('len(s): ', len(s))    # calcolare la lunghezza di un array"
   ]
  },
  {
   "cell_type": "markdown",
   "metadata": {},
   "source": [
    "# Passare input da testiera - funzione `input()`"
   ]
  },
  {
   "cell_type": "code",
   "execution_count": 16,
   "metadata": {},
   "outputs": [
    {
     "name": "stdin",
     "output_type": "stream",
     "text": [
      "Inserisci un numero:  12\n"
     ]
    }
   ],
   "source": [
    "x = input('Inserisci un numero: ')"
   ]
  },
  {
   "cell_type": "code",
   "execution_count": 17,
   "metadata": {},
   "outputs": [
    {
     "name": "stdout",
     "output_type": "stream",
     "text": [
      "Il numero inserito è: 12\n"
     ]
    }
   ],
   "source": [
    "print(\"Il numero inserito è:\", x)"
   ]
  },
  {
   "cell_type": "markdown",
   "metadata": {},
   "source": [
    "#### Tutto quello che passiamo da tastiera all funzione `input` viene memorizzato come stringa!\n"
   ]
  },
  {
   "cell_type": "code",
   "execution_count": 18,
   "metadata": {},
   "outputs": [
    {
     "data": {
      "text/plain": [
       "str"
      ]
     },
     "execution_count": 18,
     "metadata": {},
     "output_type": "execute_result"
    }
   ],
   "source": [
    "type(x)"
   ]
  }
 ],
 "metadata": {
  "kernelspec": {
   "display_name": "Python 3",
   "language": "python",
   "name": "python3"
  },
  "language_info": {
   "codemirror_mode": {
    "name": "ipython",
    "version": 3
   },
   "file_extension": ".py",
   "mimetype": "text/x-python",
   "name": "python",
   "nbconvert_exporter": "python",
   "pygments_lexer": "ipython3",
   "version": "3.6.9"
  },
  "widgets": {
   "application/vnd.jupyter.widget-state+json": {
    "state": {},
    "version_major": 1,
    "version_minor": 0
   }
  }
 },
 "nbformat": 4,
 "nbformat_minor": 4
}
