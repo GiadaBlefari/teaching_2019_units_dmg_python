{
 "cells": [
  {
   "cell_type": "markdown",
   "metadata": {},
   "source": [
    "## Esercizi delle Lezione 1 e 2"
   ]
  },
  {
   "cell_type": "markdown",
   "metadata": {},
   "source": [
    "#### Esercizio 1 "
   ]
  },
  {
   "cell_type": "code",
   "execution_count": null,
   "metadata": {},
   "outputs": [],
   "source": [
    "x = 10\n",
    "y = 7 \n",
    "# Assegna ad una variabile (resto) il resto della divisione tra x e y, \n",
    "# ad un'altra variabile (quoziente) il quoziente e a un'altra (divisione_float) il valore floating-point della divisione.  "
   ]
  },
  {
   "cell_type": "markdown",
   "metadata": {},
   "source": [
    "#### Esercizio 2\n",
    "Associa le seguenti frasi a delle variabili: \n",
    "- L'uomo mascherato era chimato \"Pino\"\n",
    "- Amor, ch'a nullo amato amar perdona\n",
    "- Amato: si riferisce a \"nullo\", per cui nel senso comune \"a nullo amato\" significa \"a nessuno che è amato\".\n"
   ]
  },
  {
   "cell_type": "markdown",
   "metadata": {},
   "source": [
    "#### Esercizio 3\n"
   ]
  },
  {
   "cell_type": "code",
   "execution_count": 1,
   "metadata": {},
   "outputs": [],
   "source": [
    "x = \"Carlo\"\n",
    "y = \"Luigi\"\n",
    "z = \"Mario\"\n",
    "# Per ogni modo che ti viene in mente, definisci una variabile con assegnata la seguente stringa: \n",
    "# \"<x> <y> e <z> sono tre amici. <y> è il più anziano.\" \n",
    "# dove <x> rappresenta il valore di x, \"Carlo\" in questo esempio. "
   ]
  },
  {
   "cell_type": "markdown",
   "metadata": {},
   "source": [
    "#### Esercizio 4"
   ]
  },
  {
   "cell_type": "code",
   "execution_count": null,
   "metadata": {},
   "outputs": [],
   "source": [
    "a = 3\n",
    "b = 5\n",
    "parola = \"ciao\"\n",
    "nome = \"Mario\"\n",
    "# Assegnate a una variabile la concatenazione di <a> volte <parola> e <b> volte <nome>\n",
    "# In questo esempio devo ottenere: \"ciao ciao ciao Mario Mario Mario Mario Mario\"\n",
    "# Tutto deve funzionare se cambio il valore delle variabili."
   ]
  },
  {
   "cell_type": "markdown",
   "metadata": {},
   "source": [
    "#### Esercizio 5"
   ]
  },
  {
   "cell_type": "code",
   "execution_count": null,
   "metadata": {},
   "outputs": [],
   "source": [
    "a = 3 \n",
    "b = \"Tre\"\n",
    "# Assegnate a una variabile la concatenazione tra <b> ed <a>, dovete ottenere una nuova stringa di valore: \"Tre 3\"\n",
    "# Coma mai se procedo con la concatenazione di stringhe ottengo un errore? \n",
    "# Come potrei risolvere il problema? \n",
    "# Ricorda che come int(\"10\") prende la stringa \"10\" e la trasforma in un intero di valore 10, esiste un modo per fare il contrario.\n",
    "# Prova a capire quale. "
   ]
  },
  {
   "cell_type": "markdown",
   "metadata": {},
   "source": [
    "#### Esercizio 6 "
   ]
  },
  {
   "cell_type": "code",
   "execution_count": 12,
   "metadata": {},
   "outputs": [],
   "source": [
    "frase = \"Supercalifragilistichespiralidoso\"\n",
    "# Usate lo slicing sulla variabile frase per creare delle variabili con associate le sottostringhe:\n",
    "# super \n",
    "# cali \n",
    "# fragili \n",
    "# spiralidoso\n",
    "# per ognuno di questi identificate tutti i modi possibili. \n",
    "\n",
    "#Esempio, per \"super\" ho indetificato 4 modi possibili:\n",
    "a = frase[0:5]\n",
    "a = frase[:5]\n",
    "a = frase[-33:-28]\n",
    "a = frase[-33:5]\n",
    "\n",
    "# Definite la stringa identificata dai caratteri di indice dispari di <frase>. "
   ]
  },
  {
   "cell_type": "markdown",
   "metadata": {},
   "source": [
    "#### Esercizio 7\n",
    "Rispondi alle seguenti domande:\n",
    "- Python è un linguaggio multi-paradigma. A lezioni abbiamo parlato di 3 paradigmi, quali?\n",
    "- A cosa serve il linguaggio Markdown? \n",
    "- Qual è l'origine del nome Python?\n",
    "- Cosa intendiamo per tipizzazione _dinamica_ e tipizzazione _statica_? \n",
    "- Quali sono le motivazioni che hanno portato Guido van Rossum ad introdurre un nuovo linguaggio? \n",
    "\n"
   ]
  },
  {
   "cell_type": "markdown",
   "metadata": {},
   "source": [
    "#### Esercizio 8"
   ]
  },
  {
   "cell_type": "code",
   "execution_count": 18,
   "metadata": {},
   "outputs": [],
   "source": [
    "x = 12 \n",
    "y = \"ciao\"\n",
    "# usa la funzione print per stampare a schermo: \n",
    "# \"ciao_12\"\n",
    "# \"ciao 12\"\n",
    "# \"ciao|12p\"\n",
    "# \"12ciao.\""
   ]
  }
 ],
 "metadata": {
  "kernelspec": {
   "display_name": "Python 3",
   "language": "python",
   "name": "python3"
  },
  "language_info": {
   "codemirror_mode": {
    "name": "ipython",
    "version": 3
   },
   "file_extension": ".py",
   "mimetype": "text/x-python",
   "name": "python",
   "nbconvert_exporter": "python",
   "pygments_lexer": "ipython3",
   "version": "3.6.9"
  }
 },
 "nbformat": 4,
 "nbformat_minor": 4
}
