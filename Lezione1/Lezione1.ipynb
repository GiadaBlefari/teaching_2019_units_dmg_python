{
 "cells": [
  {
   "cell_type": "markdown",
   "metadata": {},
   "source": [
    "# Lezione 1"
   ]
  },
  {
   "cell_type": "markdown",
   "metadata": {},
   "source": [
    "## Celle\n",
    "### Una cella può essere di tre tipi:\n",
    "- **Raw**: cella \"grezze\" puramente testuali\n",
    "- **Markdown**: adatta alla scrittura di testo\n",
    "- **Code**: adatta a scrivere codice\n",
    "\n",
    "(questa cella per esempio è di tipo Markdown!)\n",
    "\n",
    "Le cella di tipo Raw e Markdown non producono output quando vengono eseguite, le celle di tipo codice invece a seconda dei casi potrebbero produrre un risultato."
   ]
  },
  {
   "cell_type": "markdown",
   "metadata": {},
   "source": [
    "# Questo è un grosso titolo scritto in Markdown\n",
    "## Questo è un titolo scritto in Markdown\n",
    "### Questo è un altro titolo scritto in Markdown\n",
    "#### Questo è un piccolo titolo...\n",
    "##### e così via..\n",
    "\n",
    "**Frase in grassetto**  \n",
    "_Frase in corsivo_"
   ]
  },
  {
   "cell_type": "raw",
   "metadata": {},
   "source": [
    "# Questo è un grosso titolo scritto in Markdown\n",
    "## Questo è un titolo scritto in Markdown\n",
    "### Questo è un altro titolo scritto in Markdown\n",
    "#### Questo è un piccolo titolo...\n",
    "##### e così via..\n",
    "\n",
    "**Frase in grassetto**  \n",
    "_Frase in corsivo_"
   ]
  },
  {
   "cell_type": "markdown",
   "metadata": {},
   "source": [
    "## Esercizi per casa\n",
    "* [Tutorial](https://github.com/simonesilvetti/markdown_readme) su Markdown\n",
    "* [Video tutorial](https://www.youtube.com/watch?v=KDA6MKh03bw) su Jupyter notebook in italiano.\n",
    "* [Video tutorial](https://www.youtube.com/watch?v=7wfPqAyYADY) su Jupyter lab in inglese.\n"
   ]
  },
  {
   "cell_type": "code",
   "execution_count": null,
   "metadata": {},
   "outputs": [],
   "source": [
    "# Questo è un commento in una cella di tipo codice, non c'è output!!"
   ]
  },
  {
   "cell_type": "code",
   "execution_count": null,
   "metadata": {},
   "outputs": [],
   "source": [
    "pass # comando di Python che non fa nulla"
   ]
  },
  {
   "cell_type": "markdown",
   "metadata": {},
   "source": [
    "### Istruzione di stampa - funzione `print()`\n",
    "`print` è una funzione builtin di Python (ovvero appartenente al core di Python), eseguiamo la prossima cella per accedere al manuale/documentazione di tale funzione. \n",
    "Possiamo usare o il punto interrogativo seguito dal nome della funzione (`?print`) oppure la funzione `help` (`help(print)`). \n",
    "\n",
    "Considerate che `help` è una funzione standard di Python mentre `?` è una funzione di Jupyter (non funzionerà su idle)"
   ]
  },
  {
   "cell_type": "code",
   "execution_count": 2,
   "metadata": {},
   "outputs": [
    {
     "data": {
      "text/plain": [
       "\u001b[0;31mDocstring:\u001b[0m\n",
       "print(value, ..., sep=' ', end='\\n', file=sys.stdout, flush=False)\n",
       "\n",
       "Prints the values to a stream, or to sys.stdout by default.\n",
       "Optional keyword arguments:\n",
       "file:  a file-like object (stream); defaults to the current sys.stdout.\n",
       "sep:   string inserted between values, default a space.\n",
       "end:   string appended after the last value, default a newline.\n",
       "flush: whether to forcibly flush the stream.\n",
       "\u001b[0;31mType:\u001b[0m      builtin_function_or_method\n"
      ]
     },
     "metadata": {},
     "output_type": "display_data"
    }
   ],
   "source": [
    "?print"
   ]
  },
  {
   "cell_type": "code",
   "execution_count": 3,
   "metadata": {},
   "outputs": [
    {
     "name": "stdout",
     "output_type": "stream",
     "text": [
      "Help on built-in function print in module builtins:\n",
      "\n",
      "print(...)\n",
      "    print(value, ..., sep=' ', end='\\n', file=sys.stdout, flush=False)\n",
      "    \n",
      "    Prints the values to a stream, or to sys.stdout by default.\n",
      "    Optional keyword arguments:\n",
      "    file:  a file-like object (stream); defaults to the current sys.stdout.\n",
      "    sep:   string inserted between values, default a space.\n",
      "    end:   string appended after the last value, default a newline.\n",
      "    flush: whether to forcibly flush the stream.\n",
      "\n"
     ]
    }
   ],
   "source": [
    "help(print)"
   ]
  },
  {
   "cell_type": "code",
   "execution_count": null,
   "metadata": {},
   "outputs": [],
   "source": [
    "# stampo 3\n",
    "print(3)"
   ]
  },
  {
   "cell_type": "code",
   "execution_count": null,
   "metadata": {},
   "outputs": [],
   "source": [
    "# stampo il risultato della espressione 3+3\n",
    "print(3+3)"
   ]
  },
  {
   "cell_type": "code",
   "execution_count": 4,
   "metadata": {},
   "outputs": [
    {
     "name": "stdout",
     "output_type": "stream",
     "text": [
      "ciao\n"
     ]
    }
   ],
   "source": [
    "# stampo la stringa 'ciao'. Una stringa è una sequenza di caratteri racchiusi tra apice o virgolette\n",
    "print('ciao')"
   ]
  },
  {
   "cell_type": "code",
   "execution_count": 5,
   "metadata": {},
   "outputs": [
    {
     "name": "stdout",
     "output_type": "stream",
     "text": [
      "ciao\n"
     ]
    }
   ],
   "source": [
    "print(\"ciao\") # uso le virgolette"
   ]
  },
  {
   "cell_type": "markdown",
   "metadata": {},
   "source": [
    "Riflettete sul fatto che esistono due modi per rappresentare le stringhe:\n",
    "- usando un apice\n",
    "- usando le virgolette"
   ]
  },
  {
   "cell_type": "markdown",
   "metadata": {},
   "source": [
    "### Esercizio 1\n",
    "Usate la funzione print per stampare a schermo le frasi: \n",
    "- You can't touch me!\n",
    "- Il titolo del libro è : \"il nome della rosa\""
   ]
  },
  {
   "cell_type": "code",
   "execution_count": 6,
   "metadata": {},
   "outputs": [],
   "source": [
    "# Scrivi qui"
   ]
  },
  {
   "cell_type": "markdown",
   "metadata": {},
   "source": [
    "#### La funzione prin accetta un numero a piacere di argomenti. \n",
    "Di default li stampa uno vicino all'altro  separati da uno spazio"
   ]
  },
  {
   "cell_type": "code",
   "execution_count": 7,
   "metadata": {},
   "outputs": [
    {
     "name": "stdout",
     "output_type": "stream",
     "text": [
      "1 ciao !!\n"
     ]
    }
   ],
   "source": [
    "print(1,\"ciao\",\"!!\") "
   ]
  },
  {
   "cell_type": "code",
   "execution_count": 9,
   "metadata": {},
   "outputs": [
    {
     "name": "stdout",
     "output_type": "stream",
     "text": [
      "1_ciao_!!\n"
     ]
    }
   ],
   "source": [
    "print(1,\"ciao\",\"!!\", sep=\"_\") # specifichiamo il separatore! "
   ]
  },
  {
   "cell_type": "markdown",
   "metadata": {},
   "source": [
    "Di default `print` aggiunge il carattere `\\n` alla fine delle stringa, il risultato è il ritorno a capo!"
   ]
  },
  {
   "cell_type": "code",
   "execution_count": 11,
   "metadata": {},
   "outputs": [
    {
     "name": "stdout",
     "output_type": "stream",
     "text": [
      "1_ciao_!!\n",
      "2 ciao! ??\n"
     ]
    }
   ],
   "source": [
    "print(1,\"ciao\",\"!!\", sep=\"_\")\n",
    "print(2,\"ciao!\",\"??\")"
   ]
  },
  {
   "cell_type": "markdown",
   "metadata": {},
   "source": [
    "Se tuttavia aggiungiamo come argomento `end=\"$\"` stampiamo un dollaro alla fine del print!"
   ]
  },
  {
   "cell_type": "code",
   "execution_count": 12,
   "metadata": {},
   "outputs": [
    {
     "name": "stdout",
     "output_type": "stream",
     "text": [
      "1_ciao_!!$2 ciao! ??\n"
     ]
    }
   ],
   "source": [
    "print(1,\"ciao\",\"!!\", sep=\"_\",end=\"$\")\n",
    "print(2,\"ciao!\",\"??\")"
   ]
  },
  {
   "cell_type": "markdown",
   "metadata": {},
   "source": [
    "**Ricordate** che Python è case-sensitive e quindi `Print` e `print` sono due cose diverse!! "
   ]
  },
  {
   "cell_type": "code",
   "execution_count": 13,
   "metadata": {},
   "outputs": [
    {
     "ename": "NameError",
     "evalue": "name 'Print' is not defined",
     "output_type": "error",
     "traceback": [
      "\u001b[0;31m---------------------------------------------------------------------------\u001b[0m",
      "\u001b[0;31mNameError\u001b[0m                                 Traceback (most recent call last)",
      "\u001b[0;32m<ipython-input-13-bf60663ce537>\u001b[0m in \u001b[0;36m<module>\u001b[0;34m\u001b[0m\n\u001b[0;32m----> 1\u001b[0;31m \u001b[0mPrint\u001b[0m\u001b[0;34m(\u001b[0m\u001b[0;36m3\u001b[0m\u001b[0;34m)\u001b[0m\u001b[0;34m\u001b[0m\u001b[0;34m\u001b[0m\u001b[0m\n\u001b[0m",
      "\u001b[0;31mNameError\u001b[0m: name 'Print' is not defined"
     ]
    }
   ],
   "source": [
    "Print(3) "
   ]
  }
 ],
 "metadata": {
  "kernelspec": {
   "display_name": "Python 3",
   "language": "python",
   "name": "python3"
  },
  "language_info": {
   "codemirror_mode": {
    "name": "ipython",
    "version": 3
   },
   "file_extension": ".py",
   "mimetype": "text/x-python",
   "name": "python",
   "nbconvert_exporter": "python",
   "pygments_lexer": "ipython3",
   "version": "3.7.6"
  },
  "widgets": {
   "application/vnd.jupyter.widget-state+json": {
    "state": {},
    "version_major": 1,
    "version_minor": 0
   }
  }
 },
 "nbformat": 4,
 "nbformat_minor": 4
}
