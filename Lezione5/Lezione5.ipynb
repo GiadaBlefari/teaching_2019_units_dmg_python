{
 "cells": [
  {
   "cell_type": "markdown",
   "metadata": {},
   "source": [
    "### Esercizio su Classi e Oggetti: I numeri complessi\n",
    "definire una classe che rappresenti i numeri complessi ed implementi le seguenti operazioni:\n",
    "- somma (come overload di +)\n",
    "- moltiplicazione (come overload di *)\n",
    "- norma (come metodo)"
   ]
  },
  {
   "cell_type": "code",
   "execution_count": 38,
   "metadata": {},
   "outputs": [],
   "source": [
    "# scrivi qui"
   ]
  },
  {
   "cell_type": "markdown",
   "metadata": {},
   "source": [
    "## Espressioni codizionali\n",
    "`if`, `elif`, `else`  "
   ]
  },
  {
   "cell_type": "code",
   "execution_count": 39,
   "metadata": {},
   "outputs": [
    {
     "name": "stdout",
     "output_type": "stream",
     "text": [
      "5 è maggiore-uguale a 2\n"
     ]
    }
   ],
   "source": [
    "x = 5\n",
    "if x < 2:                                   \n",
    "    print(\"{} è minore di 2\".format(x))   # esegue questa line di codice se x<2\n",
    "else:\n",
    "    print(\"{} è maggiore-uguale a 2\".format(x)) # esegue questa linea di codice, altrimenti.\n"
   ]
  },
  {
   "cell_type": "markdown",
   "metadata": {},
   "source": [
    "posso aggiungere molteplici condizioni utilizzando `elif`"
   ]
  },
  {
   "cell_type": "code",
   "execution_count": 40,
   "metadata": {},
   "outputs": [
    {
     "name": "stdout",
     "output_type": "stream",
     "text": [
      "5 è compreso tra 2 ed 8 (escluso)\n"
     ]
    }
   ],
   "source": [
    "x = 5\n",
    "if x < 2:                                   \n",
    "    print(\"{} è minore di 2\".format(x))   # esegue questa line di codice se x<2\n",
    "elif 2 <= x < 8:\n",
    "    print(\"{} è compreso tra 2 ed 8 (escluso)\".format(x)) # esegue questa linea di codice, altrimenti.\n",
    "else:\n",
    "    print(\"{} è maggiore-uguale a 8\".format(x)) # esegue questa linea di codice, altrimenti."
   ]
  },
  {
   "cell_type": "markdown",
   "metadata": {},
   "source": [
    "### Esercizio 1\n",
    "Definire una funzione `esercizio1(n,m,s)`che prende in input due numer1 `n`, `m` ed una stringa `s`\\\n",
    "La stringa rappresenta l'operazione da fare tra n ed m, e assume valori in {_somma, prodotto, potenza_}.\\\n",
    "Se un utente passa una stringa diversa la funzione stampa a schermo una \"operazione non permessa\""
   ]
  },
  {
   "cell_type": "code",
   "execution_count": 41,
   "metadata": {},
   "outputs": [],
   "source": [
    "def esercizio1(n,m,s):\n",
    "    #scrivi qui\n",
    "    pass"
   ]
  },
  {
   "cell_type": "markdown",
   "metadata": {},
   "source": [
    "### Inciso: espressoni condizionali e funzioni\n",
    "I seguenti codici sono equivalenti"
   ]
  },
  {
   "cell_type": "code",
   "execution_count": 42,
   "metadata": {},
   "outputs": [],
   "source": [
    "def funzione1(n):\n",
    "    if(n>0):\n",
    "        a = 1\n",
    "    else:\n",
    "        a = 2\n",
    "    return a\n",
    "\n",
    "def funzione2(n):\n",
    "    if(n>0):\n",
    "        return 1\n",
    "    else:\n",
    "        return 2\n",
    "    \n",
    "def funzione3(n):\n",
    "    if(n>0):\n",
    "        return 1\n",
    "    return 2"
   ]
  },
  {
   "cell_type": "markdown",
   "metadata": {},
   "source": [
    "Notare in particolare l'equivalenza tra `funzione2` e `funzione3` e il ruolo del `return`!"
   ]
  },
  {
   "cell_type": "markdown",
   "metadata": {},
   "source": [
    "### Esercizio 2\n",
    "Definire una funzione che prende in input un numero e ritorna la stringa \"sinistra\" se il numero è più piccolo di 0, \"centro\" se è compreso tra 0 e 1 (escluso) e \"destra\" se il numero è più grande di 1 (incluso).\n",
    "Preferite l'approccio diretto con i `return` dentro i vari `if`."
   ]
  },
  {
   "cell_type": "code",
   "execution_count": 43,
   "metadata": {},
   "outputs": [],
   "source": [
    "def esercizio2(n,m,s):\n",
    "    #scrivi qui\n",
    "    pass"
   ]
  },
  {
   "cell_type": "markdown",
   "metadata": {},
   "source": [
    "### Esercizio 3\n",
    "Definire una funzione che prende in input un numero e ritorna 0 se il numero è più piccolo di 67 (incluso), 1 altrimenti. \n",
    "E' vietato usare una espressione condizionale"
   ]
  },
  {
   "cell_type": "code",
   "execution_count": 44,
   "metadata": {},
   "outputs": [],
   "source": [
    "def esercizio3(n,m,s):\n",
    "    #scrivi qui\n",
    "    pass"
   ]
  },
  {
   "cell_type": "markdown",
   "metadata": {},
   "source": [
    "## Funzioni ricorsive\n",
    "Ovvero funzioni che richiamano se stesse.\\\n",
    "Possiamo identificare tre tipi ricorsione:\n",
    "- **diretta**: quando all'interno della propria definizione compare la chiamata direttamente al metodo stesso.\n",
    "- **indiretta**: quando nella definizione di un metodo compare la chiamata ad un altro metodo il quale direttamente o indirettamente chiama il metodo iniziale\n",
    "- **multipla**: quando all'interno della propria definizione compare la chiamata direttamente al metodo stesso almeno due volte."
   ]
  },
  {
   "cell_type": "markdown",
   "metadata": {},
   "source": [
    "### Esempio ricorsione diretta: Il fattoriale\n",
    "La funzione fattoriale viene definito in modo ricorsivo.\n",
    "- `fattoriale(0) = 1`\n",
    "- `fattoriale(n) = n * fattoriale(n-1) `"
   ]
  },
  {
   "cell_type": "code",
   "execution_count": 45,
   "metadata": {},
   "outputs": [
    {
     "data": {
      "text/plain": [
       "6"
      ]
     },
     "execution_count": 45,
     "metadata": {},
     "output_type": "execute_result"
    }
   ],
   "source": [
    "def fattoriale(n):\n",
    "    if n == 0:         # condizione di uscita\n",
    "        return 1\n",
    "    return n * fattoriale(n-1)  # chiamata ricorsiva\n",
    "\n",
    "fattoriale(3)"
   ]
  },
  {
   "cell_type": "markdown",
   "metadata": {},
   "source": [
    "**Domanda 1**: cosa succede se eseguo `fattoriale(-1)`?\\\n",
    "**Domanda 2**: come posso migliorare il codice in modo che non succeda? \n",
    "\n",
    "#### Visualizziamo lo stack (in italiano pila) della chiamata ricorsiva"
   ]
  },
  {
   "cell_type": "code",
   "execution_count": 46,
   "metadata": {},
   "outputs": [],
   "source": [
    "def fattoriale(n):\n",
    "    if n == 0:         # condizione di uscita\n",
    "        print(\"fattoriale(0)=1\")\n",
    "        return 1\n",
    "    print(\"fattoriale({N})={N}*fattoriale({M})\".format(N=n,M=n-1))\n",
    "    return n * fattoriale(n-1)  # chiamata ricorsiva"
   ]
  },
  {
   "cell_type": "markdown",
   "metadata": {},
   "source": [
    "#### Quando le chiamate terminano (grazie alla condizione di uscita) la pila viene risolta."
   ]
  },
  {
   "cell_type": "code",
   "execution_count": 47,
   "metadata": {},
   "outputs": [
    {
     "name": "stdout",
     "output_type": "stream",
     "text": [
      "fattoriale(3)=3*fattoriale(2)\n",
      "fattoriale(2)=2*fattoriale(1)\n",
      "fattoriale(1)=1*fattoriale(0)\n",
      "fattoriale(0)=1\n"
     ]
    },
    {
     "data": {
      "text/plain": [
       "6"
      ]
     },
     "execution_count": 47,
     "metadata": {},
     "output_type": "execute_result"
    }
   ],
   "source": [
    "fattoriale(3)"
   ]
  },
  {
   "cell_type": "markdown",
   "metadata": {},
   "source": [
    "#### Esempio ricorsione indiretta: ping - pong"
   ]
  },
  {
   "cell_type": "code",
   "execution_count": 48,
   "metadata": {},
   "outputs": [],
   "source": [
    "def ping(n):\n",
    "    if (n < 1):\n",
    "        return 1\n",
    "    else: \n",
    "        return pong(n - 1) # chiamata di pong   \n",
    "    \n",
    "\n",
    "def pong(n):\n",
    "    if (n < 0):\n",
    "        return 0\n",
    "    else: \n",
    "        return ping(n/2); # chiamata di ping   \n",
    "    \n"
   ]
  },
  {
   "cell_type": "markdown",
   "metadata": {},
   "source": [
    "#### Esercizio ricorsione indiretta: successione di Fibonacci\n",
    "Implementare la successione di Fibonacci in modo ricorsivo\n"
   ]
  },
  {
   "cell_type": "code",
   "execution_count": 49,
   "metadata": {},
   "outputs": [],
   "source": [
    "def fibonacci(n):\n",
    "    # scrivi qui\n",
    "    pass"
   ]
  },
  {
   "cell_type": "markdown",
   "metadata": {},
   "source": [
    "#### Secondo voi la definizione ricorsiva della successioni di Fibonacci è efficiente?"
   ]
  },
  {
   "cell_type": "markdown",
   "metadata": {},
   "source": [
    "### built-in function: `in`\n",
    "#### `in` è una parola chiave con due scopi\n",
    "- controllare se un elemento appartiene a una sequenza (stringa, lista, ...)\n",
    "- nel ciclo `for` per iterare sugli elementi di una sequenza"
   ]
  },
  {
   "cell_type": "code",
   "execution_count": 50,
   "metadata": {},
   "outputs": [
    {
     "data": {
      "text/plain": [
       "True"
      ]
     },
     "execution_count": 50,
     "metadata": {},
     "output_type": "execute_result"
    }
   ],
   "source": [
    "\"s\" in \"asso\""
   ]
  },
  {
   "cell_type": "markdown",
   "metadata": {},
   "source": [
    "### Iterazioni\n",
    "### Ciclo `for`\n",
    "### Ciclo `while`"
   ]
  },
  {
   "cell_type": "code",
   "execution_count": null,
   "metadata": {},
   "outputs": [],
   "source": []
  }
 ],
 "metadata": {
  "kernelspec": {
   "display_name": "Python 3",
   "language": "python",
   "name": "python3"
  },
  "language_info": {
   "codemirror_mode": {
    "name": "ipython",
    "version": 3
   },
   "file_extension": ".py",
   "mimetype": "text/x-python",
   "name": "python",
   "nbconvert_exporter": "python",
   "pygments_lexer": "ipython3",
   "version": "3.6.9"
  }
 },
 "nbformat": 4,
 "nbformat_minor": 4
}
