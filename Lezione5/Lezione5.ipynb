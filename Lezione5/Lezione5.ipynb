{
 "cells": [
  {
   "cell_type": "markdown",
   "metadata": {},
   "source": [
    "### Esercizio su Classi e Oggetti: I numeri complessi\n",
    "definire una classe che rappresenti i numeri complessi ed implementi le seguenti operazioni:\n",
    "- somma (come overload di +)\n",
    "- moltiplicazione (come overload di *)\n",
    "- norma (come metodo)"
   ]
  },
  {
   "cell_type": "code",
   "execution_count": 18,
   "metadata": {},
   "outputs": [],
   "source": [
    "class Complex:\n",
    "    \n",
    "    def __init__(self, real, img):\n",
    "        self.real = real\n",
    "        self.img = img\n",
    "        \n",
    "    def __add__(self, other):\n",
    "        return Complex(self.real + other.real, self.img + other.img)\n",
    "    \n",
    "    def __str__(self):\n",
    "        return \"{}+{}i\".format(self.real,self.img)\n"
   ]
  },
  {
   "cell_type": "code",
   "execution_count": 19,
   "metadata": {},
   "outputs": [
    {
     "name": "stdout",
     "output_type": "stream",
     "text": [
      "3+-6i\n"
     ]
    }
   ],
   "source": [
    "a = Complex(1,3)\n",
    "b = Complex(2,-9)\n",
    "c = a +b\n",
    "print(c)"
   ]
  },
  {
   "cell_type": "code",
   "execution_count": 20,
   "metadata": {},
   "outputs": [
    {
     "name": "stdout",
     "output_type": "stream",
     "text": [
      "(1+2j)\n"
     ]
    }
   ],
   "source": [
    "a = complex(1,2)\n",
    "print(a)"
   ]
  },
  {
   "cell_type": "markdown",
   "metadata": {},
   "source": [
    "## Espressioni codizionali\n",
    "`if`, `elif`, `else` "
   ]
  },
  {
   "cell_type": "code",
   "execution_count": 39,
   "metadata": {},
   "outputs": [
    {
     "name": "stdout",
     "output_type": "stream",
     "text": [
      "5 è maggiore-uguale a 2\n"
     ]
    }
   ],
   "source": [
    "x = 5\n",
    "if x < 2:                                   \n",
    "    print(\"{} è minore di 2\".format(x))   # esegue questa line di codice se x<2\n",
    "else:\n",
    "    print(\"{} è maggiore-uguale a 2\".format(x)) # esegue questa linea di codice, altrimenti."
   ]
  },
  {
   "cell_type": "markdown",
   "metadata": {},
   "source": [
    "posso aggiungere molteplici condizioni utilizzando `elif`"
   ]
  },
  {
   "cell_type": "code",
   "execution_count": 40,
   "metadata": {},
   "outputs": [
    {
     "name": "stdout",
     "output_type": "stream",
     "text": [
      "5 è compreso tra 2 ed 8 (escluso)\n"
     ]
    }
   ],
   "source": [
    "x = 5\n",
    "if x < 2:                                   \n",
    "    print(\"{} è minore di 2\".format(x))   # esegue questa line di codice se x<2\n",
    "elif 2 <= x < 8:\n",
    "    print(\"{} è compreso tra 2 ed 8 (escluso)\".format(x)) # esegue questa linea di codice, altrimenti.\n",
    "else:\n",
    "    print(\"{} è maggiore-uguale a 8\".format(x)) # esegue questa linea di codice, altrimenti."
   ]
  },
  {
   "cell_type": "markdown",
   "metadata": {},
   "source": [
    "### Esercizio 1\n",
    "Definire una funzione `esercizio1(n,m,s)`che prende in input due numeri `n`, `m` ed una stringa `s`\\\n",
    "La stringa rappresenta l'operazione da fare tra n ed m, e assume valori in {_somma, prodotto, potenza_}.\\\n",
    "Se un utente passa una stringa diversa la funzione stampa a schermo \"operazione non permessa\""
   ]
  },
  {
   "cell_type": "code",
   "execution_count": 24,
   "metadata": {},
   "outputs": [
    {
     "name": "stdout",
     "output_type": "stream",
     "text": [
      "operazione non permessa\n"
     ]
    }
   ],
   "source": [
    "def esercizio1(n,m,s):\n",
    "    if s == \"somma\":\n",
    "        return n+m\n",
    "    elif s == \"prodotto\":\n",
    "        return n*m\n",
    "    elif s == \"potenza\":\n",
    "        return n**m\n",
    "    else:\n",
    "        print(\"operazione non permessa\")\n",
    "\n",
    "esercizio1(1,2,\"prodotto\")\n",
    "        "
   ]
  },
  {
   "cell_type": "markdown",
   "metadata": {},
   "source": [
    "### Inciso: espressoni condizionali e funzioni\n",
    "I seguenti codici sono equivalenti"
   ]
  },
  {
   "cell_type": "code",
   "execution_count": 42,
   "metadata": {},
   "outputs": [],
   "source": [
    "def funzione1(n):\n",
    "    if(n>0):\n",
    "        a = 1\n",
    "    else:\n",
    "        a = 2\n",
    "    return a\n",
    "\n",
    "def funzione2(n):\n",
    "    if(n>0):\n",
    "        return 1\n",
    "    else:\n",
    "        return 2\n",
    "    \n",
    "def funzione3(n):\n",
    "    if(n>0):\n",
    "        return 1\n",
    "    return 2"
   ]
  },
  {
   "cell_type": "markdown",
   "metadata": {},
   "source": [
    "Notare in particolare l'equivalenza tra `funzione2` e `funzione3` e il ruolo del `return`!"
   ]
  },
  {
   "cell_type": "markdown",
   "metadata": {},
   "source": [
    "### Esercizio 2\n",
    "Definire una funzione che prende in input un numero e ritorna la stringa \"sinistra\" se il numero è più piccolo di 0, \"centro\" se è compreso tra 0 e 1 (escluso) e \"destra\" se il numero è più grande di 1 (incluso).\n",
    "Preferite l'approccio diretto con i `return` dentro i vari `if`."
   ]
  },
  {
   "cell_type": "code",
   "execution_count": 43,
   "metadata": {},
   "outputs": [],
   "source": [
    "def esercizio2(n,m,s):\n",
    "    #scrivi qui\n",
    "    pass"
   ]
  },
  {
   "cell_type": "markdown",
   "metadata": {},
   "source": [
    "### Esercizio 3\n",
    "Definire una funzione che prende in input un numero e ritorna 0 se il numero è più piccolo di 67 (incluso), 1 altrimenti. \n",
    "E' vietato usare una espressione condizionale"
   ]
  },
  {
   "cell_type": "code",
   "execution_count": 28,
   "metadata": {},
   "outputs": [],
   "source": [
    "def esercizio3_easy(n):\n",
    "    if(n<=67):\n",
    "        return 0\n",
    "    return 1"
   ]
  },
  {
   "cell_type": "code",
   "execution_count": null,
   "metadata": {},
   "outputs": [],
   "source": []
  },
  {
   "cell_type": "code",
   "execution_count": 33,
   "metadata": {},
   "outputs": [
    {
     "data": {
      "text/plain": [
       "0"
      ]
     },
     "execution_count": 33,
     "metadata": {},
     "output_type": "execute_result"
    }
   ],
   "source": [
    "def esercizio3(n):\n",
    "    return int(n>67)\n",
    "\n",
    "esercizio3(20)"
   ]
  },
  {
   "cell_type": "markdown",
   "metadata": {},
   "source": [
    "## Funzioni ricorsive\n",
    "Ovvero funzioni che richiamano se stesse.\\\n",
    "Possiamo identificare tre tipi ricorsione:\n",
    "- **diretta**: quando all'interno della propria definizione compare la chiamata direttamente al metodo stesso.\n",
    "- **indiretta**: quando nella definizione di un metodo compare la chiamata ad un altro metodo il quale direttamente o indirettamente chiama il metodo iniziale\n",
    "- **multipla**: quando all'interno della propria definizione compare la chiamata direttamente al metodo stesso almeno due volte."
   ]
  },
  {
   "cell_type": "markdown",
   "metadata": {},
   "source": [
    "### Esempio ricorsione diretta: Il fattoriale\n",
    "La funzione fattoriale viene definito in modo ricorsivo.\n",
    "- `fattoriale(0) = 1`\n",
    "- `fattoriale(n) = n * fattoriale(n-1) `"
   ]
  },
  {
   "cell_type": "code",
   "execution_count": 34,
   "metadata": {},
   "outputs": [
    {
     "data": {
      "text/plain": [
       "6"
      ]
     },
     "execution_count": 34,
     "metadata": {},
     "output_type": "execute_result"
    }
   ],
   "source": [
    "def fattoriale(n):\n",
    "    if n == 0:         # condizione di uscita\n",
    "        return 1\n",
    "    return n * fattoriale(n-1)  # chiamata ricorsiva\n",
    "\n",
    "fattoriale(3)"
   ]
  },
  {
   "cell_type": "code",
   "execution_count": 36,
   "metadata": {},
   "outputs": [
    {
     "ename": "RecursionError",
     "evalue": "maximum recursion depth exceeded in comparison",
     "output_type": "error",
     "traceback": [
      "\u001b[1;31m---------------------------------------------------------------------------\u001b[0m",
      "\u001b[1;31mRecursionError\u001b[0m                            Traceback (most recent call last)",
      "\u001b[1;32m<ipython-input-36-b63ca3f0dfc8>\u001b[0m in \u001b[0;36m<module>\u001b[1;34m\u001b[0m\n\u001b[1;32m----> 1\u001b[1;33m \u001b[0mfattoriale\u001b[0m\u001b[1;33m(\u001b[0m\u001b[1;33m-\u001b[0m\u001b[1;36m1\u001b[0m\u001b[1;33m)\u001b[0m\u001b[1;33m\u001b[0m\u001b[1;33m\u001b[0m\u001b[0m\n\u001b[0m",
      "\u001b[1;32m<ipython-input-34-5b95614958a3>\u001b[0m in \u001b[0;36mfattoriale\u001b[1;34m(n)\u001b[0m\n\u001b[0;32m      2\u001b[0m     \u001b[1;32mif\u001b[0m \u001b[0mn\u001b[0m \u001b[1;33m==\u001b[0m \u001b[1;36m0\u001b[0m\u001b[1;33m:\u001b[0m         \u001b[1;31m# condizione di uscita\u001b[0m\u001b[1;33m\u001b[0m\u001b[1;33m\u001b[0m\u001b[0m\n\u001b[0;32m      3\u001b[0m         \u001b[1;32mreturn\u001b[0m \u001b[1;36m1\u001b[0m\u001b[1;33m\u001b[0m\u001b[1;33m\u001b[0m\u001b[0m\n\u001b[1;32m----> 4\u001b[1;33m     \u001b[1;32mreturn\u001b[0m \u001b[0mn\u001b[0m \u001b[1;33m*\u001b[0m \u001b[0mfattoriale\u001b[0m\u001b[1;33m(\u001b[0m\u001b[0mn\u001b[0m\u001b[1;33m-\u001b[0m\u001b[1;36m1\u001b[0m\u001b[1;33m)\u001b[0m  \u001b[1;31m# chiamata ricorsiva\u001b[0m\u001b[1;33m\u001b[0m\u001b[1;33m\u001b[0m\u001b[0m\n\u001b[0m\u001b[0;32m      5\u001b[0m \u001b[1;33m\u001b[0m\u001b[0m\n\u001b[0;32m      6\u001b[0m \u001b[0mfattoriale\u001b[0m\u001b[1;33m(\u001b[0m\u001b[1;36m3\u001b[0m\u001b[1;33m)\u001b[0m\u001b[1;33m\u001b[0m\u001b[1;33m\u001b[0m\u001b[0m\n",
      "... last 1 frames repeated, from the frame below ...\n",
      "\u001b[1;32m<ipython-input-34-5b95614958a3>\u001b[0m in \u001b[0;36mfattoriale\u001b[1;34m(n)\u001b[0m\n\u001b[0;32m      2\u001b[0m     \u001b[1;32mif\u001b[0m \u001b[0mn\u001b[0m \u001b[1;33m==\u001b[0m \u001b[1;36m0\u001b[0m\u001b[1;33m:\u001b[0m         \u001b[1;31m# condizione di uscita\u001b[0m\u001b[1;33m\u001b[0m\u001b[1;33m\u001b[0m\u001b[0m\n\u001b[0;32m      3\u001b[0m         \u001b[1;32mreturn\u001b[0m \u001b[1;36m1\u001b[0m\u001b[1;33m\u001b[0m\u001b[1;33m\u001b[0m\u001b[0m\n\u001b[1;32m----> 4\u001b[1;33m     \u001b[1;32mreturn\u001b[0m \u001b[0mn\u001b[0m \u001b[1;33m*\u001b[0m \u001b[0mfattoriale\u001b[0m\u001b[1;33m(\u001b[0m\u001b[0mn\u001b[0m\u001b[1;33m-\u001b[0m\u001b[1;36m1\u001b[0m\u001b[1;33m)\u001b[0m  \u001b[1;31m# chiamata ricorsiva\u001b[0m\u001b[1;33m\u001b[0m\u001b[1;33m\u001b[0m\u001b[0m\n\u001b[0m\u001b[0;32m      5\u001b[0m \u001b[1;33m\u001b[0m\u001b[0m\n\u001b[0;32m      6\u001b[0m \u001b[0mfattoriale\u001b[0m\u001b[1;33m(\u001b[0m\u001b[1;36m3\u001b[0m\u001b[1;33m)\u001b[0m\u001b[1;33m\u001b[0m\u001b[1;33m\u001b[0m\u001b[0m\n",
      "\u001b[1;31mRecursionError\u001b[0m: maximum recursion depth exceeded in comparison"
     ]
    }
   ],
   "source": [
    "fattoriale(-1)"
   ]
  },
  {
   "cell_type": "markdown",
   "metadata": {},
   "source": [
    "**Domanda 1**: cosa succede se eseguo `fattoriale(-1)`?\\\n",
    "**Domanda 2**: come posso migliorare il codice in modo che non succeda? \n",
    "\n",
    "#### Visualizziamo lo stack (in italiano pila) della chiamata ricorsiva"
   ]
  },
  {
   "cell_type": "code",
   "execution_count": 37,
   "metadata": {},
   "outputs": [],
   "source": [
    "def fattoriale(n):\n",
    "    if n == 0:         # condizione di uscita\n",
    "        print(\"fattoriale(0)=1\")\n",
    "        return 1\n",
    "    print(\"fattoriale({N})={N}*fattoriale({M})\".format(N=n,M=n-1))\n",
    "    return n * fattoriale(n-1)  # chiamata ricorsiva"
   ]
  },
  {
   "cell_type": "code",
   "execution_count": 38,
   "metadata": {},
   "outputs": [
    {
     "name": "stdout",
     "output_type": "stream",
     "text": [
      "fattoriale(6)=6*fattoriale(5)\n",
      "fattoriale(5)=5*fattoriale(4)\n",
      "fattoriale(4)=4*fattoriale(3)\n",
      "fattoriale(3)=3*fattoriale(2)\n",
      "fattoriale(2)=2*fattoriale(1)\n",
      "fattoriale(1)=1*fattoriale(0)\n",
      "fattoriale(0)=1\n"
     ]
    },
    {
     "data": {
      "text/plain": [
       "720"
      ]
     },
     "execution_count": 38,
     "metadata": {},
     "output_type": "execute_result"
    }
   ],
   "source": [
    "fattoriale(6)"
   ]
  },
  {
   "cell_type": "markdown",
   "metadata": {},
   "source": [
    "#### Quando le chiamate terminano (grazie alla condizione di uscita) la pila viene risolta."
   ]
  },
  {
   "cell_type": "code",
   "execution_count": 47,
   "metadata": {},
   "outputs": [
    {
     "name": "stdout",
     "output_type": "stream",
     "text": [
      "fattoriale(3)=3*fattoriale(2)\n",
      "fattoriale(2)=2*fattoriale(1)\n",
      "fattoriale(1)=1*fattoriale(0)\n",
      "fattoriale(0)=1\n"
     ]
    },
    {
     "data": {
      "text/plain": [
       "6"
      ]
     },
     "execution_count": 47,
     "metadata": {},
     "output_type": "execute_result"
    }
   ],
   "source": [
    "fattoriale(3)"
   ]
  },
  {
   "cell_type": "markdown",
   "metadata": {},
   "source": [
    "#### Esempio ricorsione indiretta: ping - pong"
   ]
  },
  {
   "cell_type": "code",
   "execution_count": 48,
   "metadata": {},
   "outputs": [],
   "source": [
    "def ping(n):\n",
    "    if (n < 1):\n",
    "        return 1\n",
    "    else: \n",
    "        return pong(n - 1) # chiamata di pong   \n",
    "    \n",
    "\n",
    "def pong(n):\n",
    "    if (n < 0):\n",
    "        return 0\n",
    "    else: \n",
    "        return ping(n/2); # chiamata di ping   \n",
    "    \n"
   ]
  },
  {
   "cell_type": "markdown",
   "metadata": {},
   "source": [
    "#### Esercizio ricorsione indiretta: successione di Fibonacci\n",
    "Implementare la successione di Fibonacci in modo ricorsivo\n"
   ]
  },
  {
   "cell_type": "markdown",
   "metadata": {},
   "source": [
    "F(0)=1, F(1) = 1, F(2) = 2, 3 5 8 13  "
   ]
  },
  {
   "cell_type": "code",
   "execution_count": 44,
   "metadata": {},
   "outputs": [
    {
     "name": "stdout",
     "output_type": "stream",
     "text": [
      "fib(6) = fib(5) + fib(4)\n",
      "fib(5) = fib(4) + fib(3)\n",
      "fib(4) = fib(3) + fib(2)\n",
      "fib(3) = fib(2) + fib(1)\n",
      "fib(2) = fib(1) + fib(0)\n",
      "fib(1) = 1\n",
      "fib(0) = 1\n",
      "fib(1) = 1\n",
      "fib(2) = fib(1) + fib(0)\n",
      "fib(1) = 1\n",
      "fib(0) = 1\n",
      "fib(3) = fib(2) + fib(1)\n",
      "fib(2) = fib(1) + fib(0)\n",
      "fib(1) = 1\n",
      "fib(0) = 1\n",
      "fib(1) = 1\n",
      "fib(4) = fib(3) + fib(2)\n",
      "fib(3) = fib(2) + fib(1)\n",
      "fib(2) = fib(1) + fib(0)\n",
      "fib(1) = 1\n",
      "fib(0) = 1\n",
      "fib(1) = 1\n",
      "fib(2) = fib(1) + fib(0)\n",
      "fib(1) = 1\n",
      "fib(0) = 1\n"
     ]
    },
    {
     "data": {
      "text/plain": [
       "13"
      ]
     },
     "execution_count": 44,
     "metadata": {},
     "output_type": "execute_result"
    }
   ],
   "source": [
    "def fib(n):\n",
    "    if n <= 1:\n",
    "        print(\"fib({}) = 1\".format(n))\n",
    "        return 1\n",
    "    print(\"fib({}) = fib({}) + fib({})\".format(n,n-1,n-2))\n",
    "    return fib(n-1) + fib(n-2)\n",
    "fib(6)"
   ]
  },
  {
   "cell_type": "markdown",
   "metadata": {},
   "source": [
    "#### Secondo voi l'implementazione ricorsiva della successione di Fibonacci è efficiente?\n",
    "La risposta è no. Molti calcoli vengono ripetuti più e più volte!\\\n",
    "Date un occhiata alla seguenti slides"
   ]
  },
  {
   "cell_type": "markdown",
   "metadata": {},
   "source": [
    "**Albero della successione di Fibonacci**\n",
    "![fibonacci1](img/fibonacci1.png \"fibonacci1\")"
   ]
  },
  {
   "cell_type": "markdown",
   "metadata": {},
   "source": [
    "**Implementazione ricorsiva della successione di Fibonacci**\n",
    "![fibonacci2](img/fibonacci2.png \"fibonacci2\")"
   ]
  },
  {
   "cell_type": "markdown",
   "metadata": {},
   "source": [
    "**(alcuni) blocchi dove il calcolo viene effettuato molteplici volte**\n",
    "![fibonacci3](img/fibonacci3.png \"fibonacci3\")"
   ]
  },
  {
   "cell_type": "markdown",
   "metadata": {},
   "source": [
    "**Implementazione \"ricorsiva\" efficiente della successione di Fibonacci**\n",
    "![fibonacci4](img/fibonacci4.png \"fibonacci4\")"
   ]
  },
  {
   "cell_type": "markdown",
   "metadata": {},
   "source": [
    "### built-in function: `in`\n",
    "#### `in` è una parola chiave con due scopi\n",
    "- controllare se un elemento appartiene a una sequenza (stringa, lista, ...)\n",
    "- nel ciclo `for` per iterare sugli elementi di una sequenza"
   ]
  },
  {
   "cell_type": "code",
   "execution_count": 45,
   "metadata": {},
   "outputs": [
    {
     "data": {
      "text/plain": [
       "True"
      ]
     },
     "execution_count": 45,
     "metadata": {},
     "output_type": "execute_result"
    }
   ],
   "source": [
    "\"s\" in \"asso\""
   ]
  },
  {
   "cell_type": "markdown",
   "metadata": {},
   "source": [
    "### Iterazioni\n",
    "### Ciclo `for`\n",
    "è una struttura di controllo iterativa che determina l'esecuzione di una porzione di programma ripetuta per un certo numero noto di volte"
   ]
  },
  {
   "cell_type": "raw",
   "metadata": {},
   "source": [
    "for <variabile> in <sequenza>:\n",
    "    codice..."
   ]
  },
  {
   "cell_type": "markdown",
   "metadata": {},
   "source": [
    "Le sequenze sono dei data type, per maggiorni informazioni: [link documentazione Python 3](https://docs.python.org/3/library/stdtypes.html#typesseq)\\\n",
    "Le stringhe sono delle sequenze!"
   ]
  },
  {
   "cell_type": "code",
   "execution_count": 46,
   "metadata": {},
   "outputs": [
    {
     "name": "stdout",
     "output_type": "stream",
     "text": [
      "c\n",
      "i\n",
      "a\n",
      "o\n"
     ]
    }
   ],
   "source": [
    "for lettera in \"ciao\":\n",
    "    print(lettera)"
   ]
  },
  {
   "cell_type": "markdown",
   "metadata": {},
   "source": [
    "#### Built-in function: `range()`\n",
    "se devo iterare in un insieme di numeri interi posso usare la funzione `range`"
   ]
  },
  {
   "cell_type": "code",
   "execution_count": 7,
   "metadata": {},
   "outputs": [
    {
     "name": "stdout",
     "output_type": "stream",
     "text": [
      "0 1 2 3 4 5 6 7 8 9 "
     ]
    }
   ],
   "source": [
    "for i in range(10):\n",
    "    print(i,end=' ')"
   ]
  },
  {
   "cell_type": "code",
   "execution_count": 8,
   "metadata": {},
   "outputs": [
    {
     "name": "stdout",
     "output_type": "stream",
     "text": [
      "1 3 5 7 9 "
     ]
    }
   ],
   "source": [
    "for i in range(1,10,2):\n",
    "    print(i,end=' ')"
   ]
  },
  {
   "cell_type": "code",
   "execution_count": 11,
   "metadata": {},
   "outputs": [
    {
     "name": "stdout",
     "output_type": "stream",
     "text": [
      "10 9 8 7 6 "
     ]
    }
   ],
   "source": [
    "for i in range(10,5,-1):\n",
    "    print(i,end=' ')"
   ]
  },
  {
   "cell_type": "markdown",
   "metadata": {},
   "source": [
    "### Esecizio 4\n",
    "Definiamo una funzione che prende in input `n` e ritorna in output la somma dei primi `n` numeri. "
   ]
  },
  {
   "cell_type": "code",
   "execution_count": 48,
   "metadata": {},
   "outputs": [
    {
     "data": {
      "text/plain": [
       "6"
      ]
     },
     "execution_count": 48,
     "metadata": {},
     "output_type": "execute_result"
    }
   ],
   "source": [
    "def somma(n):\n",
    "    s = 0\n",
    "    for i in range(1,n+1):\n",
    "        s += i\n",
    "    return s\n",
    "\n",
    "somma(3)\n",
    "    "
   ]
  },
  {
   "cell_type": "markdown",
   "metadata": {},
   "source": [
    "### Esecizio 5\n",
    "Definiamo una funzione che prende in input una stringa di numeri (es., \"156451\") e ritorna il numero più piccolo."
   ]
  },
  {
   "cell_type": "markdown",
   "metadata": {},
   "source": [
    "### Esecizio 6\n",
    "Definiamo una funzione (`esercizio6(parola)`) che prende in input una stringa di numeri (es., \"6485451\") e ritorna il primo numero più piccolo di 3 se presente, `None` altrimenti.\\\n",
    "esercizio6(\"6485451\") -> 1\\\n",
    "esercizio6(\"6425451\") -> 2\\\n",
    "esercizio6(\"64545\") -> None\n"
   ]
  },
  {
   "cell_type": "markdown",
   "metadata": {},
   "source": [
    "### Ciclo `while`\n",
    "è una struttura di controllo iterativa che determina l'esecuzione di una porzione di programma ripetuta fino a che una condizione è soddisfatta"
   ]
  },
  {
   "cell_type": "code",
   "execution_count": 15,
   "metadata": {},
   "outputs": [
    {
     "name": "stdout",
     "output_type": "stream",
     "text": [
      "0 1 2 3 4 5 6 7 8 9 "
     ]
    }
   ],
   "source": [
    "i = 0 \n",
    "while(i<10):\n",
    "    print(i,end=\" \")\n",
    "    i+=1"
   ]
  }
 ],
 "metadata": {
  "kernelspec": {
   "display_name": "Python 3",
   "language": "python",
   "name": "python3"
  },
  "language_info": {
   "codemirror_mode": {
    "name": "ipython",
    "version": 3
   },
   "file_extension": ".py",
   "mimetype": "text/x-python",
   "name": "python",
   "nbconvert_exporter": "python",
   "pygments_lexer": "ipython3",
   "version": "3.7.6"
  }
 },
 "nbformat": 4,
 "nbformat_minor": 4
}
