{
 "cells": [
  {
   "cell_type": "markdown",
   "metadata": {},
   "source": [
    "### Esercizio 1\n",
    "Definire una funzione `esercizio1(parola,operazione)` che prende in input una stringa `parola` di numeri (es., \"124578\") e una stringa `operazione` che assume valori in \\{\"min\",\"max\"\\}. Il valore di default di \\<operazione\\> è \"min\". Se l'operazione è il \"min\" ritorna il minimo dei numeri presenti in `parola` se è \"max\" ritorna il massimo. Se il valore di `operazione` è qualcos'altro ritorna `None`. \n",
    "Se la stringa è vuota ritorna `None`.\\\n",
    "Esempi:\\\n",
    "esercizio1(\"1231\",\"min\") -> 1\\\n",
    "esercizio1(\"1231\",\"max\") -> 3\\\n",
    "esercizio1(\"1231\",\"pippo\") -> None\\\n",
    "esercizio1(\"\",\"min\") -> None"
   ]
  },
  {
   "cell_type": "markdown",
   "metadata": {},
   "source": [
    "### Esercizio 2\n",
    "Implementate in modo ricorsivo le seguenti successioni:\n",
    "\n",
    "**successione 1:**\\\n",
    "a_0 = 1\\\n",
    "a_n = 3*a_{n-1}+2\n",
    "\n",
    "**successione 2:**\\\n",
    "a_0 = 1\\\n",
    "a_1 = 1\\\n",
    "a_n = 3*a_{n-1}+ a_{n-2}\n"
   ]
  },
  {
   "cell_type": "markdown",
   "metadata": {},
   "source": [
    "### Esercizio 3\n",
    "Definite una funzione ricorsiva che prende due interi `a` e `b` e ritorna il valore intero della divisione tra `a` e `b`"
   ]
  },
  {
   "cell_type": "markdown",
   "metadata": {},
   "source": [
    "### Esercizio 4\n",
    "Definite la funzione fattoriale. Utilizzatela per definire la funzione `math_sin(x,n)` che implementa lo sviluppo di Taylor fino al termine n-esimo. Provate prima utilizzando il ciclo for e poi con una funzione ricorsiva ![vv](img/sin_taylor.png)"
   ]
  },
  {
   "cell_type": "markdown",
   "metadata": {},
   "source": [
    "### Esercizio 5\n",
    "Scrivere una funzione che prende in input una stringa e ritorna `True` se è un palindromo, `False` altrimenti.\\\n",
    "Palindromo: Di frasi o parole, che letti in senso inverso risultano identici; sinonimo di bifronte."
   ]
  },
  {
   "cell_type": "markdown",
   "metadata": {},
   "source": [
    "### Esercizio 6\n",
    "Definire una funzione `fizzBuzz(n)`  che prende in input numeri interi `n` e ritorna 'Fizz' se il numero è divisibile per 3, 'Buzz' se è divisibile per 5 e 'Fizz-Buzz' se è divisibile per entrambi. Negli altri casi ritorna il numero stesso.\\\n",
    "Esempio: fizzBuzz(1)=1, fizzBuzz(5)='Buzz', fizzBuzz(30)='Fizz-Buzz', fizzBuzz(9)='Fizz'"
   ]
  },
  {
   "cell_type": "markdown",
   "metadata": {},
   "source": [
    "### Esercizio 7 \n",
    "Definire la funzione `password_idonea(password)` che prende in input una password (stringa) e ritorna `True` se password contiene almeno una lettera maiuscola, due cifre e un carattere speciale tra i seguenti: ,/()&%£. Ritorna `False` in caso contrario. "
   ]
  },
  {
   "cell_type": "markdown",
   "metadata": {},
   "source": [
    "### Esercizio 8\n",
    "Definite la funzione di Fibonacci utilizzando il ciclo for."
   ]
  }
 ],
 "metadata": {
  "kernelspec": {
   "display_name": "Python 3",
   "language": "python",
   "name": "python3"
  },
  "language_info": {
   "codemirror_mode": {
    "name": "ipython",
    "version": 3
   },
   "file_extension": ".py",
   "mimetype": "text/x-python",
   "name": "python",
   "nbconvert_exporter": "python",
   "pygments_lexer": "ipython3",
   "version": "3.7.6"
  }
 },
 "nbformat": 4,
 "nbformat_minor": 4
}
