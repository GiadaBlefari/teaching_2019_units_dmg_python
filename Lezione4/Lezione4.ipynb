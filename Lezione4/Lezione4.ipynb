{
 "cells": [
  {
   "cell_type": "markdown",
   "metadata": {},
   "source": [
    "## Lezione 4\n",
    "### Classe, Oggetto, Estensione-Ereditarietà"
   ]
  },
  {
   "cell_type": "markdown",
   "metadata": {},
   "source": [
    "**Classe** definisce le specifiche di un oggetto, ovvero il suo **stato interno** (dall'inglese internal state) e le **operazioni** (ovvero funzioni chiamate _metodi_). Una classe unisce dati e funzionalità!\n",
    "\n",
    "**Oggetto** è una istanza specifica di una classe.  "
   ]
  },
  {
   "cell_type": "markdown",
   "metadata": {},
   "source": [
    "### Visualizziamo"
   ]
  },
  {
   "cell_type": "markdown",
   "metadata": {},
   "source": [
    "<img src=\"img/biscotti.jpg\" width=\"600\" align = \"left\"/>"
   ]
  },
  {
   "cell_type": "markdown",
   "metadata": {},
   "source": [
    "<img src=\"img/macchine.png\" width=\"600\" align = \"left\"/>"
   ]
  },
  {
   "cell_type": "markdown",
   "metadata": {},
   "source": [
    "<img src=\"img/cani.jpg\" width=\"600\" align = \"left\"/>"
   ]
  },
  {
   "cell_type": "markdown",
   "metadata": {},
   "source": [
    "#### Definiamo la classe Rettangolo"
   ]
  },
  {
   "cell_type": "code",
   "execution_count": 93,
   "metadata": {},
   "outputs": [],
   "source": [
    "class Rettangolo:\n",
    "    \"\"\"Classe che definisce un rettangolo\"\"\"    # docstring\n",
    "    \n",
    "    def __init__(self, base, altezza):           # costruttore della classe!\n",
    "        self.base = base;\n",
    "        self.altezza = altezza;"
   ]
  },
  {
   "cell_type": "markdown",
   "metadata": {},
   "source": [
    "#### Definiamo un oggetto che implementi le specifiche della classe Rettangolo\n",
    "Per dirlo in modo più rapido: \"Definiamo un oggetto di **_tipo_** Rettangolo\"  \n",
    "**_tipo_** sta per: \"che implementa le specifiche della classe ...\""
   ]
  },
  {
   "cell_type": "code",
   "execution_count": 52,
   "metadata": {},
   "outputs": [],
   "source": [
    "oggetto_rettangolo = Rettangolo(1,2)      # oggetto_rettangolo è il nostro oggetto!"
   ]
  },
  {
   "cell_type": "markdown",
   "metadata": {},
   "source": [
    "#### Accedere allo stato interno di un oggetto"
   ]
  },
  {
   "cell_type": "code",
   "execution_count": 112,
   "metadata": {},
   "outputs": [
    {
     "name": "stdout",
     "output_type": "stream",
     "text": [
      "1 2\n"
     ]
    }
   ],
   "source": [
    "print(oggetto_rettangolo.base, oggetto_rettangolo.altezza)"
   ]
  },
  {
   "cell_type": "code",
   "execution_count": 49,
   "metadata": {},
   "outputs": [
    {
     "name": "stdout",
     "output_type": "stream",
     "text": [
      "1 2\n",
      "Help on class Rettangolo in module __main__:\n",
      "\n",
      "class Rettangolo(builtins.object)\n",
      " |  Rettangolo(base, altezza)\n",
      " |  \n",
      " |  Definisce un rettangolo\n",
      " |  \n",
      " |  Methods defined here:\n",
      " |  \n",
      " |  __init__(self, base, altezza)\n",
      " |      Initialize self.  See help(type(self)) for accurate signature.\n",
      " |  \n",
      " |  ----------------------------------------------------------------------\n",
      " |  Data descriptors defined here:\n",
      " |  \n",
      " |  __dict__\n",
      " |      dictionary for instance variables (if defined)\n",
      " |  \n",
      " |  __weakref__\n",
      " |      list of weak references to the object (if defined)\n",
      "\n"
     ]
    }
   ],
   "source": [
    "help(Rettangolo)"
   ]
  },
  {
   "cell_type": "markdown",
   "metadata": {},
   "source": [
    "#### Aggiungiamo dei metodi alla classe Rettangolo"
   ]
  },
  {
   "cell_type": "code",
   "execution_count": 31,
   "metadata": {},
   "outputs": [],
   "source": [
    "class Rettangolo:\n",
    "    \"\"\" Classe che definisce un rettangolo\"\"\"    # docstring\n",
    "                                                 # riga vuota!\n",
    "    def __init__(self, base, altezza):           # costruttire della classe!\n",
    "        self.base = base;\n",
    "        self.altezza = altezza;\n",
    "                                                 # riga vuota!\n",
    "    def perimetro(self):\n",
    "        return 2 * (self.altezza + self.base)\n",
    "    \n",
    "    def area(self):\n",
    "        return self.altezza * self.base"
   ]
  },
  {
   "cell_type": "code",
   "execution_count": 32,
   "metadata": {},
   "outputs": [
    {
     "name": "stdout",
     "output_type": "stream",
     "text": [
      "Area =  6\n",
      "Perimetro =  10\n"
     ]
    }
   ],
   "source": [
    "rettangolo = Rettangolo(2,3)\n",
    "print(\"Area = \", rettangolo.area())\n",
    "print(\"Perimetro = \", rettangolo.perimetro())"
   ]
  },
  {
   "cell_type": "markdown",
   "metadata": {},
   "source": [
    "### Inciso: perché `self`?\n",
    "`rettangolo.area()` corrisponde a  `Rettangolo.area(oggetto)` \n"
   ]
  },
  {
   "cell_type": "code",
   "execution_count": 50,
   "metadata": {},
   "outputs": [
    {
     "data": {
      "text/plain": [
       "6"
      ]
     },
     "execution_count": 50,
     "metadata": {},
     "output_type": "execute_result"
    }
   ],
   "source": [
    "rettangolo = Rettangolo(2,3)\n",
    "Rettangolo.area(rettangolo)"
   ]
  },
  {
   "cell_type": "markdown",
   "metadata": {},
   "source": [
    "#### Quiz\n",
    "La funzione `print()` applicata su una istanza di Rettangolo (i.e., un oggetto di tipo Rettangolo) cosa fa? "
   ]
  },
  {
   "cell_type": "code",
   "execution_count": 51,
   "metadata": {},
   "outputs": [
    {
     "name": "stdout",
     "output_type": "stream",
     "text": [
      "<__main__.Rettangolo object at 0x0000012C67DA4D88>\n"
     ]
    }
   ],
   "source": [
    "rettangolo = Rettangolo(2,3)\n",
    "print(rettangolo)"
   ]
  },
  {
   "cell_type": "markdown",
   "metadata": {},
   "source": [
    "Chiede all'oggetto di restituire una stringa che lo rappresenti e la stampa a schermo!\\\n",
    "Invova quindi la funzione \\_\\_str\\_\\_() sull'oggetto e stampa a schermo il suo valore!"
   ]
  },
  {
   "cell_type": "markdown",
   "metadata": {},
   "source": [
    "#### Definiamo il metodo \\_\\_str\\_\\_()"
   ]
  },
  {
   "cell_type": "code",
   "execution_count": 91,
   "metadata": {},
   "outputs": [],
   "source": [
    "class Rettangolo:\n",
    "    \"\"\" Classe che definisce un rettangolo\"\"\"    # docstring\n",
    "                                                 # riga vuota!\n",
    "    def __init__(self, base, altezza):           # costruttire della classe!\n",
    "        self.base = base;\n",
    "        self.altezza = altezza;\n",
    "                                                 # riga vuota!\n",
    "    def perimetro(self):\n",
    "        return 2 * (self.altezza + self.base)\n",
    "    \n",
    "    def area(self):\n",
    "        return self.altezza * self.base\n",
    "    \n",
    "    def __str__(self):\n",
    "        return \"Rettangolo: {} x {}\".format(self.base,self.altezza)        "
   ]
  },
  {
   "cell_type": "code",
   "execution_count": 92,
   "metadata": {},
   "outputs": [
    {
     "name": "stdout",
     "output_type": "stream",
     "text": [
      "Rettangolo: 2 x 3\n"
     ]
    }
   ],
   "source": [
    "rettangolo = Rettangolo(2,3)\n",
    "print(rettangolo)"
   ]
  },
  {
   "cell_type": "code",
   "execution_count": 52,
   "metadata": {},
   "outputs": [
    {
     "data": {
      "text/plain": [
       "4"
      ]
     },
     "execution_count": 52,
     "metadata": {},
     "output_type": "execute_result"
    }
   ],
   "source": [
    "len(\"ciao\")"
   ]
  },
  {
   "cell_type": "markdown",
   "metadata": {},
   "source": [
    "#### Definiamo il metodo \\_\\_len\\_\\_()\n",
    "La built-in-function `len()` se invocata su un oggetto _ogg_ esegue il metodo _ogg_.\\_\\_len\\_\\_() !!"
   ]
  },
  {
   "cell_type": "code",
   "execution_count": 54,
   "metadata": {},
   "outputs": [],
   "source": [
    "class Rettangolo:\n",
    "    \"\"\" Classe che definisce un rettangolo\"\"\"    # docstring\n",
    "                                                 # riga vuota!\n",
    "    def __init__(self, base, altezza):           # costruttire della classe!\n",
    "        self.base = base;\n",
    "        self.altezza = altezza;\n",
    "                                                 # riga vuota!\n",
    "    def perimetro(self):\n",
    "        return 2 * (self.altezza + self.base)\n",
    "    \n",
    "    def area(self):\n",
    "        return self.altezza * self.base\n",
    "    \n",
    "    def __str__(self):\n",
    "        return \"Rettangolo: {} x {}\".format(self.base,self.altezza)\n",
    "    \n",
    "    def __len__(self):  #deve ritornare un intero!!  \n",
    "        return self.perimetro()"
   ]
  },
  {
   "cell_type": "code",
   "execution_count": 55,
   "metadata": {},
   "outputs": [
    {
     "name": "stdout",
     "output_type": "stream",
     "text": [
      "10\n"
     ]
    }
   ],
   "source": [
    "rettangolo = Rettangolo(2,3)\n",
    "print(len(rettangolo))"
   ]
  },
  {
   "cell_type": "markdown",
   "metadata": {},
   "source": [
    "Non ha molto senso definire la lunghezza di un rettangolo in questo modo!\\\n",
    "La definizione è anche sbagliata perchè non ritorna sempre un intero..."
   ]
  },
  {
   "cell_type": "code",
   "execution_count": 56,
   "metadata": {},
   "outputs": [
    {
     "ename": "TypeError",
     "evalue": "'float' object cannot be interpreted as an integer",
     "output_type": "error",
     "traceback": [
      "\u001b[1;31m---------------------------------------------------------------------------\u001b[0m",
      "\u001b[1;31mTypeError\u001b[0m                                 Traceback (most recent call last)",
      "\u001b[1;32m<ipython-input-56-240a9845776a>\u001b[0m in \u001b[0;36m<module>\u001b[1;34m\u001b[0m\n\u001b[0;32m      1\u001b[0m \u001b[0mrettangolo\u001b[0m \u001b[1;33m=\u001b[0m \u001b[0mRettangolo\u001b[0m\u001b[1;33m(\u001b[0m\u001b[1;36m2.3\u001b[0m\u001b[1;33m,\u001b[0m\u001b[1;36m3\u001b[0m\u001b[1;33m)\u001b[0m\u001b[1;33m\u001b[0m\u001b[1;33m\u001b[0m\u001b[0m\n\u001b[1;32m----> 2\u001b[1;33m \u001b[0mprint\u001b[0m\u001b[1;33m(\u001b[0m\u001b[0mlen\u001b[0m\u001b[1;33m(\u001b[0m\u001b[0mrettangolo\u001b[0m\u001b[1;33m)\u001b[0m\u001b[1;33m)\u001b[0m\u001b[1;33m\u001b[0m\u001b[1;33m\u001b[0m\u001b[0m\n\u001b[0m",
      "\u001b[1;31mTypeError\u001b[0m: 'float' object cannot be interpreted as an integer"
     ]
    }
   ],
   "source": [
    "rettangolo = Rettangolo(2.3,3)\n",
    "print(len(rettangolo))"
   ]
  },
  {
   "cell_type": "markdown",
   "metadata": {},
   "source": [
    "#### Overloading degli operatori\n",
    "Possiamo definire il comportamento degli operatori implementando il metodo corrispondente!\n"
   ]
  },
  {
   "cell_type": "markdown",
   "metadata": {},
   "source": [
    "#### Operatori Binari:\n",
    "<img src=\"img/binary.png\" width=\"600\" align = \"left\"/>"
   ]
  },
  {
   "cell_type": "markdown",
   "metadata": {},
   "source": [
    "#### Operatori di Comparazione:\n",
    "<img src=\"img/comparison.png\" width=\"600\" align = \"left\"/>"
   ]
  },
  {
   "cell_type": "code",
   "execution_count": 58,
   "metadata": {},
   "outputs": [],
   "source": [
    "class Rettangolo:\n",
    "    \"\"\" Classe che definisce un rettangolo\"\"\"    # docstring\n",
    "                                                 # riga vuota!\n",
    "    def __init__(self, base, altezza):           # costruttire della classe!\n",
    "        self.base = base;\n",
    "        self.altezza = altezza;\n",
    "                                                 # riga vuota!\n",
    "    def perimetro(self):\n",
    "        return 2 * (self.altezza + self.base)\n",
    "    \n",
    "    def area(self):\n",
    "        return self.altezza * self.base\n",
    "    \n",
    "    def __str__(self):\n",
    "        return \"Rettangolo: {} x {}\".format(self.base,self.altezza)\n",
    "    \n",
    "    def __len__(self):  #deve ritornare un intero!!  \n",
    "        return self.perimetro()\n",
    "    \n",
    "    def __lt__(self, other):\n",
    "        return self.altezza < other.altezza and self.base < other.base\n",
    "    \n",
    "    def __le__(self, other):\n",
    "        return self.altezza <= other.altezza and self.base <= other.base\n",
    "    \n",
    "    def __gt__(self, other):\n",
    "        return self.altezza > other.altezza and self.base > other.base\n",
    "    \n",
    "    def __ge__(self, other):\n",
    "        return self.altezza >= other.altezza and self.base >= other.base\n",
    "    \n",
    "    def __eq__(self, other):\n",
    "        return self.altezza == other.altezza and self.base == other.base\n",
    "    \n",
    "    def __ne__(self, other):\n",
    "        return self.altezza != other.altezza or self.base != other.base"
   ]
  },
  {
   "cell_type": "code",
   "execution_count": 59,
   "metadata": {},
   "outputs": [
    {
     "name": "stdout",
     "output_type": "stream",
     "text": [
      "True\n",
      "False\n",
      "True\n"
     ]
    }
   ],
   "source": [
    "rettangolo1 = Rettangolo(1,2)\n",
    "rettangolo2 =  Rettangolo(0.5,1)\n",
    "\n",
    "# usiamo gli operatori appena definiti!\n",
    "print(rettangolo1 >= rettangolo2)\n",
    "print(rettangolo1 == rettangolo2)\n",
    "print(rettangolo1 > rettangolo2)"
   ]
  },
  {
   "cell_type": "markdown",
   "metadata": {},
   "source": [
    "### Estensione (Bonus)\n",
    "E' possibile definire delle sotto-classi, ovvero delle classi che ereditano funzionalità e dati dalla classe padre. "
   ]
  },
  {
   "cell_type": "code",
   "execution_count": 61,
   "metadata": {},
   "outputs": [],
   "source": [
    "class Quadrato(Rettangolo):\n",
    "    \n",
    "    def __init__(self,lato):\n",
    "        super().__init__(lato,lato)\n",
    "        \n",
    "    def get_quad_diagonale(self):\n",
    "        return 2*self.base**2\n",
    "    "
   ]
  },
  {
   "cell_type": "code",
   "execution_count": 67,
   "metadata": {},
   "outputs": [
    {
     "ename": "AttributeError",
     "evalue": "'Rettangolo' object has no attribute 'get_quad_diagonale'",
     "output_type": "error",
     "traceback": [
      "\u001b[1;31m---------------------------------------------------------------------------\u001b[0m",
      "\u001b[1;31mAttributeError\u001b[0m                            Traceback (most recent call last)",
      "\u001b[1;32m<ipython-input-67-863dcf447a73>\u001b[0m in \u001b[0;36m<module>\u001b[1;34m\u001b[0m\n\u001b[0;32m      2\u001b[0m \u001b[0mrettangolo1\u001b[0m \u001b[1;33m=\u001b[0m \u001b[0mRettangolo\u001b[0m\u001b[1;33m(\u001b[0m\u001b[1;36m5\u001b[0m\u001b[1;33m,\u001b[0m\u001b[1;36m4\u001b[0m\u001b[1;33m)\u001b[0m\u001b[1;33m\u001b[0m\u001b[1;33m\u001b[0m\u001b[0m\n\u001b[0;32m      3\u001b[0m \u001b[1;33m\u001b[0m\u001b[0m\n\u001b[1;32m----> 4\u001b[1;33m \u001b[0mrettangolo1\u001b[0m\u001b[1;33m.\u001b[0m\u001b[0mget_quad_diagonale\u001b[0m\u001b[1;33m(\u001b[0m\u001b[1;33m)\u001b[0m\u001b[1;33m\u001b[0m\u001b[1;33m\u001b[0m\u001b[0m\n\u001b[0m",
      "\u001b[1;31mAttributeError\u001b[0m: 'Rettangolo' object has no attribute 'get_quad_diagonale'"
     ]
    }
   ],
   "source": [
    "quadrato1 = Quadrato(3)\n",
    "rettangolo1 = Rettangolo(5,4)"
   ]
  },
  {
   "cell_type": "code",
   "execution_count": 36,
   "metadata": {},
   "outputs": [],
   "source": [
    "a = Quadrato(3)\n",
    "b = Rettangolo(2,7)"
   ]
  },
  {
   "cell_type": "code",
   "execution_count": 29,
   "metadata": {},
   "outputs": [
    {
     "name": "stdout",
     "output_type": "stream",
     "text": [
      "False\n"
     ]
    }
   ],
   "source": [
    "print(a<b)"
   ]
  },
  {
   "cell_type": "markdown",
   "metadata": {},
   "source": [
    "### Esempio: Contatore"
   ]
  },
  {
   "cell_type": "code",
   "execution_count": 70,
   "metadata": {},
   "outputs": [
    {
     "name": "stdout",
     "output_type": "stream",
     "text": [
      "3\n",
      "[Anonymous](4)\n"
     ]
    }
   ],
   "source": [
    "class Contatore:\n",
    "    \n",
    "    def __init__(self,value=0, name=\"Anonymous\"):\n",
    "        self.value = value\n",
    "        self.name = name\n",
    "        \n",
    "    def increment(self,value_increment=1):\n",
    "        self.value += value_increment\n",
    "    \n",
    "    def get_value(self):\n",
    "        return self.value\n",
    "    \n",
    "    def __str__(self):\n",
    "        return \"[{}]({})\".format(self.name,self.value)\n",
    "    \n",
    "a = Contatore(3)\n",
    "print(a.get_value())\n",
    "a.increment()\n",
    "print(a)"
   ]
  },
  {
   "cell_type": "code",
   "execution_count": null,
   "metadata": {},
   "outputs": [],
   "source": []
  }
 ],
 "metadata": {
  "kernelspec": {
   "display_name": "Python 3",
   "language": "python",
   "name": "python3"
  },
  "language_info": {
   "codemirror_mode": {
    "name": "ipython",
    "version": 3
   },
   "file_extension": ".py",
   "mimetype": "text/x-python",
   "name": "python",
   "nbconvert_exporter": "python",
   "pygments_lexer": "ipython3",
   "version": "3.6.9"
  }
 },
 "nbformat": 4,
 "nbformat_minor": 4
}
