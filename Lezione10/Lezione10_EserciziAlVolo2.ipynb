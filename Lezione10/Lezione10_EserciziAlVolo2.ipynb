{
 "cells": [
  {
   "cell_type": "markdown",
   "metadata": {},
   "source": [
    "### Esercizi al volo"
   ]
  },
  {
   "cell_type": "markdown",
   "metadata": {},
   "source": [
    "####  Esercizio 1 \n",
    "Scrivere un programma che identifichi tutti i numeri divisibilie per 7 e per 5 tra 1500 e 2700 incluso\n"
   ]
  },
  {
   "cell_type": "markdown",
   "metadata": {},
   "source": [
    "####  Esercizio 2 \n",
    "Scrivere una funzione che prende i input una lista di numeri interi e ritorni in autput una tupla con il numero di elementi pari e dispari presenti nella lista. \\\n",
    "Esempio: \\\n",
    "esercizio2([1,4,5,6]) -> (2,2)\n"
   ]
  },
  {
   "cell_type": "markdown",
   "metadata": {},
   "source": [
    "#### Esercizio 3 \n",
    "Scrivere una funzione che prende in input una lista di oggetti e ritorna in output una lista di coppie formate dagli oggetti e il loro tipo. \\\n",
    "Esempio: \\\n",
    "esercizio3([\"2\",45,(1,3,4)]) -> [(\"2\", string), (45, int), ((1,3,4),tuple)]"
   ]
  },
  {
   "cell_type": "markdown",
   "metadata": {},
   "source": [
    "#### Esercizio 4\n",
    "Definite una funzione che converte un numero decimale in numero binario "
   ]
  },
  {
   "cell_type": "markdown",
   "metadata": {},
   "source": [
    "#### Esercizio 5\n",
    "Scrivere un programma Python che identifica tutti i numeri tra 100 e 400 che hanno solo cifre dispari. "
   ]
  },
  {
   "cell_type": "markdown",
   "metadata": {},
   "source": [
    "#### Esercizio 6\n",
    "Scrivere un funzione che prende in input un carattere e rintorna True se è una consonante, False altrimenti"
   ]
  },
  {
   "cell_type": "markdown",
   "metadata": {},
   "source": [
    "#### Esercizio 7\n",
    "Scrivere un funzione che prende in input una numero intero per esempio 9 e stampa a schermo il seguente pattern: "
   ]
  },
  {
   "cell_type": "raw",
   "metadata": {},
   "source": [
    "1\n",
    "22\n",
    "333\n",
    "4444\n",
    "55555\n",
    "666666\n",
    "7777777\n",
    "88888888\n",
    "999999999"
   ]
  },
  {
   "cell_type": "markdown",
   "metadata": {},
   "source": [
    "#### Esercizio 8\n",
    "Scrivere un funzione che prende in input un numero e lo moltiplica per un numero a caso compreso tra 30 a 58"
   ]
  },
  {
   "cell_type": "markdown",
   "metadata": {},
   "source": [
    "#### Esercizio 9\n",
    "Scrivere una funzione che prende in input due liste di numer interi e ritorna in output la lista dei numeri comuni"
   ]
  },
  {
   "cell_type": "markdown",
   "metadata": {},
   "source": [
    "#### Esercizio 10\n",
    "Scrivere una funzione Che prende in input un numero intero e ritorna True se è un numero primo, False altrimenti."
   ]
  },
  {
   "cell_type": "markdown",
   "metadata": {},
   "source": [
    "#### Esercizio 11\n",
    "Definire una funzione che prende in input una lista di parole e un carattere e conta quante sono le parole di lunghezza maggiore di 3 e che terminano con quel carattere"
   ]
  },
  {
   "cell_type": "markdown",
   "metadata": {},
   "source": [
    "#### Esercizio 12 \n",
    "Definire una funzione che prende in input una lista di caratterei e ritorna la stringa con quei caratteri\\\n",
    "Esempio: \\\n",
    "Esercizio12([\"1\",\"p\",\"a\"]) -> \"1pa\""
   ]
  },
  {
   "cell_type": "markdown",
   "metadata": {},
   "source": [
    "#### Esercizio 13\n",
    "Definire una funzione che prende in input una stringa e ritorna un elemento a caso. "
   ]
  },
  {
   "cell_type": "markdown",
   "metadata": {},
   "source": [
    "#### Esercizio 13 \n",
    "Scrivere un funzione che prende in input due dizionari con le stesse chiavi ma avori diversi e ritorna un dizionario con le stesse chiavi e la somma dei valori.\\\n",
    "d1 = {'a': 100, 'b': 200, 'c':300}\\\n",
    "d2 = {'a': 300, 'b': 200, 'd':400}\\\n",
    "esercizio13(d1,d2) -> ({'a': 400, 'b': 400, 'd': 400, 'c': 300})"
   ]
  },
  {
   "cell_type": "markdown",
   "metadata": {},
   "source": [
    "#### Esercizio 14 \n",
    "Definire una funzione che prende in input una parola per esempio \"pippo\" e ritorna il dizionario con chiavi le lettere della parola e valore il numero di occorrenze di quelle lettere. In questo caso ritornerebbe {\"p\":3,\"i\":1,\"o\":1}"
   ]
  }
 ],
 "metadata": {
  "kernelspec": {
   "display_name": "Python 3",
   "language": "python",
   "name": "python3"
  },
  "language_info": {
   "codemirror_mode": {
    "name": "ipython",
    "version": 3
   },
   "file_extension": ".py",
   "mimetype": "text/x-python",
   "name": "python",
   "nbconvert_exporter": "python",
   "pygments_lexer": "ipython3",
   "version": "3.6.9"
  }
 },
 "nbformat": 4,
 "nbformat_minor": 4
}
