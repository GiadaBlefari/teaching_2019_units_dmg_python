{
 "cells": [
  {
   "cell_type": "markdown",
   "metadata": {},
   "source": [
    "### Esercizi al volo"
   ]
  },
  {
   "cell_type": "markdown",
   "metadata": {},
   "source": [
    "####  Esercizio 1 \n",
    "Scrivere un programma che identifichi tutti i numeri divisibili per 7 e per 5 tra 1500 e 2700 incluso\n"
   ]
  },
  {
   "cell_type": "code",
   "execution_count": null,
   "metadata": {},
   "outputs": [],
   "source": [
    "esercizio1 = [n for n in range(1500,2701) if n%7 == 0 and n%5 == 0]\n",
    "print(esercizio1)"
   ]
  },
  {
   "cell_type": "markdown",
   "metadata": {},
   "source": [
    "####  Esercizio 2 \n",
    "Scrivere una funzione che prende in input una lista di numeri interi e ritorni in output una tupla con il numero di elementi pari e dispari presenti nella lista. \\\n",
    "Esempio: \\\n",
    "esercizio2([1,4,5,6]) -> (2,2)\n"
   ]
  },
  {
   "cell_type": "code",
   "execution_count": null,
   "metadata": {},
   "outputs": [],
   "source": [
    "def esercizio2(lista):\n",
    "    n_pari = len([l for l in lista if l%2==0])\n",
    "    n_dispari = len(lista) - n_pari\n",
    "    return (n_pari,n_dispari)\n",
    "\n",
    "esercizio2([1,4,5,6])"
   ]
  },
  {
   "cell_type": "code",
   "execution_count": null,
   "metadata": {},
   "outputs": [],
   "source": [
    "def esercizio2_bis(lista): \n",
    "    n_pari = 0\n",
    "    n_dispari = 0\n",
    "    for numero in lista: \n",
    "        if numero%2==0:\n",
    "            n_pari+=1\n",
    "        else:\n",
    "            n_dispari+=1\n",
    "    return (n_pari,n_dispari)\n",
    "\n",
    "esercizio2_bis([1,4,5,6])"
   ]
  },
  {
   "cell_type": "markdown",
   "metadata": {},
   "source": [
    "#### Esercizio 3 \n",
    "Scrivere una funzione che prende in input una lista di oggetti e ritorna in output una lista di coppie formate dagli oggetti e il loro tipo. \\\n",
    "Esempio: \\\n",
    "esercizio3([\"2\",45,(1,3,4)]) -> [(\"2\", str), (45, int), ((1,3,4),tuple)]"
   ]
  },
  {
   "cell_type": "code",
   "execution_count": null,
   "metadata": {},
   "outputs": [],
   "source": [
    "def esercizio3(lista):\n",
    "    return [(l, type(l)) for l in lista]\n",
    "\n",
    "esercizio3([\"2\",45,(1,3,4)])"
   ]
  },
  {
   "cell_type": "markdown",
   "metadata": {},
   "source": [
    "#### Esercizio 4\n",
    "Definite una funzione che converte un numero intero in numero binario "
   ]
  },
  {
   "cell_type": "markdown",
   "metadata": {},
   "source": [
    "#### Esercizio 5\n",
    "Scrivere un programma Python che identifica tutti i numeri tra 100 e 400 che hanno solo cifre dispari. "
   ]
  },
  {
   "cell_type": "code",
   "execution_count": null,
   "metadata": {},
   "outputs": [],
   "source": [
    "def all_dispari(lista):\n",
    "    for l in lista:\n",
    "        if( l%2==0):\n",
    "            return False\n",
    "    return True\n",
    "\n",
    "def cifre_dispari(numero):\n",
    "    str_numero = str(numero)\n",
    "    lista_cifre = [int(l) for l in str_numero]\n",
    "    return all_dispari(lista_cifre)\n",
    "\n",
    "esercizio5 = [n for n in range(100,401) if cifre_dispari(n)]\n",
    "print(esercizio5)\n",
    "    "
   ]
  },
  {
   "cell_type": "markdown",
   "metadata": {},
   "source": [
    "#### Esercizio 6\n",
    "Scrivere un funzione che prende in input un carattere e rintorna True se è una consonante, False altrimenti"
   ]
  },
  {
   "cell_type": "code",
   "execution_count": null,
   "metadata": {},
   "outputs": [],
   "source": [
    "def esercizio6(carattere):\n",
    "    return carattere not in [\"a\",\"e\",\"i\",\"o\",\"u\"]\n",
    "\n",
    "esercizio6(\"a\")"
   ]
  },
  {
   "cell_type": "markdown",
   "metadata": {},
   "source": [
    "#### Esercizio 7\n",
    "Scrivere un funzione che prende in input una numero intero per esempio 9 e stampa a schermo il seguente pattern: "
   ]
  },
  {
   "cell_type": "raw",
   "metadata": {},
   "source": [
    "1\n",
    "22\n",
    "333\n",
    "4444\n",
    "55555\n",
    "666666\n",
    "7777777\n",
    "88888888\n",
    "999999999"
   ]
  },
  {
   "cell_type": "code",
   "execution_count": null,
   "metadata": {},
   "outputs": [],
   "source": [
    "def stampa_numero(n):\n",
    "    return str(n)*n\n",
    "\n",
    "def esercizio7(n):\n",
    "    for i in range(1,n+1):\n",
    "        print(stampa_numero(i))\n",
    "\n",
    "esercizio7(9)  "
   ]
  },
  {
   "cell_type": "markdown",
   "metadata": {},
   "source": [
    "#### Esercizio 8\n",
    "Scrivere un funzione che prende in input un numero e lo moltiplica per un numero a caso compreso tra 30 a 58 (incluso)"
   ]
  },
  {
   "cell_type": "code",
   "execution_count": null,
   "metadata": {},
   "outputs": [],
   "source": [
    "import random \n",
    "def esercizio8(n):\n",
    "    return n * random.randint(30,58)\n",
    "esercizio8(3)"
   ]
  },
  {
   "cell_type": "markdown",
   "metadata": {},
   "source": [
    "#### Esercizio 9\n",
    "Scrivere una funzione che prende in input due liste di numer interi e ritorna in output la lista dei numeri comuni"
   ]
  },
  {
   "cell_type": "code",
   "execution_count": null,
   "metadata": {},
   "outputs": [],
   "source": [
    "def esercizio9(lista1, lista2):\n",
    "    result = []\n",
    "    for l in lista1:\n",
    "        if l in lista2:\n",
    "            result.append(l)\n",
    "    return result\n",
    "\n",
    "esercizio9([1,2,3],[2,7,3,4])            "
   ]
  },
  {
   "cell_type": "code",
   "execution_count": null,
   "metadata": {},
   "outputs": [],
   "source": [
    "def esercizio9_bis(lista1, lista2):\n",
    "    return [l for l in lista1 if l in lista2]\n",
    "esercizio9_bis([1,2,3],[2,7,3,4])  "
   ]
  },
  {
   "cell_type": "markdown",
   "metadata": {},
   "source": [
    "#### Esercizio 10\n",
    "Scrivere una funzione che prende in input un numero intero e ritorna True se è un numero primo, False altrimenti."
   ]
  },
  {
   "cell_type": "code",
   "execution_count": null,
   "metadata": {},
   "outputs": [],
   "source": [
    "import math\n",
    "def esercizio10(n):\n",
    "    for i in range(2,int(math.sqrt(n))+1):\n",
    "        if(n%i==0):\n",
    "            return False\n",
    "    return True\n",
    "\n",
    "print([ i for i in range(100) if esercizio10(i)])\n",
    "\n"
   ]
  },
  {
   "cell_type": "markdown",
   "metadata": {},
   "source": [
    "#### Esercizio 11\n",
    "Definire una funzione che prende in input una lista di parole e un carattere e conta quante sono le parole di lunghezza maggiore di 3 e che terminano con quel carattere"
   ]
  },
  {
   "cell_type": "code",
   "execution_count": null,
   "metadata": {},
   "outputs": [],
   "source": [
    "def esercizio11(lista,c):\n",
    "    return len([l for l in lista if len(l)>3 and l[-1]==c])\n",
    "\n",
    "esercizio11([\"awe\",\"edwae\",\"sdsase\"],\"e\")"
   ]
  },
  {
   "cell_type": "markdown",
   "metadata": {},
   "source": [
    "#### Esercizio 12 \n",
    "Definire una funzione che prende in input una lista di caratterei e ritorna la stringa con quei caratteri\\\n",
    "Esempio: \\\n",
    "Esercizio12([\"1\",\"p\",\"a\"]) -> \"1pa\""
   ]
  },
  {
   "cell_type": "code",
   "execution_count": null,
   "metadata": {},
   "outputs": [],
   "source": [
    "def esercizio12(lista):\n",
    "    result = \"\"\n",
    "    for l in lista: \n",
    "        result+=l\n",
    "    return result\n",
    "\n",
    "esercizio12([\"2\",\"5\",\"1\"])"
   ]
  },
  {
   "cell_type": "markdown",
   "metadata": {},
   "source": [
    "#### Esercizio 13\n",
    "Definire una funzione che prende in input una stringa e ritorna un elemento a caso. "
   ]
  },
  {
   "cell_type": "code",
   "execution_count": null,
   "metadata": {},
   "outputs": [],
   "source": [
    "from random import choice\n",
    "\n",
    "def esercizio13(parola):\n",
    "    return choice(parola)\n",
    "\n",
    "esercizio13(\"sdsasdaaaaaaaaaaaaaaaaaaaaaaaa\")"
   ]
  },
  {
   "cell_type": "code",
   "execution_count": null,
   "metadata": {},
   "outputs": [],
   "source": [
    "from random import randint\n",
    "\n",
    "def esercizio13_bis(parola):\n",
    "    i = randint(0,len(parola)-1)\n",
    "    return parola[i]"
   ]
  },
  {
   "cell_type": "code",
   "execution_count": null,
   "metadata": {},
   "outputs": [],
   "source": [
    "esercizio13_bis(\"sdsasdaaaaaaaaaaaaaaaaaaaaaaaa\")"
   ]
  }
 ],
 "metadata": {
  "kernelspec": {
   "display_name": "Python 3",
   "language": "python",
   "name": "python3"
  },
  "language_info": {
   "codemirror_mode": {
    "name": "ipython",
    "version": 3
   },
   "file_extension": ".py",
   "mimetype": "text/x-python",
   "name": "python",
   "nbconvert_exporter": "python",
   "pygments_lexer": "ipython3",
   "version": "3.6.9"
  }
 },
 "nbformat": 4,
 "nbformat_minor": 4
}
