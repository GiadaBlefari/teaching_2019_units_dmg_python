{
 "cells": [
  {
   "cell_type": "markdown",
   "metadata": {},
   "source": [
    "# Esercizi"
   ]
  },
  {
   "cell_type": "markdown",
   "metadata": {},
   "source": [
    "### Esercizio 1\n",
    "Scrivere una funzione che prende in input una lista di coppie (tuple di due elementi), per esempio `[(1,2),(4,5),(8,1)]`, e ritorna la lista delle coppie ordinate rispetto al valore crescente del loro ultimo elemento, ovvero `[(8,1),(1,2),(4,5)]`"
   ]
  },
  {
   "cell_type": "markdown",
   "metadata": {},
   "source": [
    "### Esercizio 2\n",
    "Scrivere una funzione che prende in input un lista di parole, per esempio `[\"ciccio\",\"bello\",\"amico\",\"mio\"]` e un numero `n`, per esempio `4`, e ritorna una nuova lista contente solo le parole di lunghezza maggiore-uguale a `n`, ovvero `[\"ciccio\",\"bello\",\"amico\"]`"
   ]
  },
  {
   "cell_type": "markdown",
   "metadata": {},
   "source": [
    "### Esercizio 3\n",
    "Scrivere una funzione che prende in input una lista di elementi, per esempio `[\"ciao\",4,5.6,(1,4)]` e ritorna una tupla con i medesimi elementi, ovvero `(\"ciao\",4,5.6,(1,4))`"
   ]
  },
  {
   "cell_type": "markdown",
   "metadata": {},
   "source": [
    "### Esercizio 4\n",
    "Una tupla annidata è una tupla che ha degli elementi che sono delle tuple, per esempio `((1,2),3,(4,(5,6)))` è una tupla annidata perché ha come elementi `(1,2)` e `(4,(5,6))`. A sua volta `(4,(5,6))` è una tupla annidata.\n",
    "Definite una funzione che prende in input una tupla e ritorni se è annidata. Cercate su google e poi nella documentazione di Python se esiste un modo per determinare se un oggetto è di un certo tipo. A voi serve capire se un oggetto è una tupla!"
   ]
  },
  {
   "cell_type": "markdown",
   "metadata": {},
   "source": [
    "### Esercizio 5\n",
    "Scrivere una funzione che prende in input due liste e ritorna `True` se le due liste hanno almeno un elemento in comune"
   ]
  },
  {
   "cell_type": "markdown",
   "metadata": {},
   "source": [
    "### Esercizio 6\n",
    "Scrivere una funzione ricorsiva che prende in input una lista di numeri interi (ordinati in modo crescente) e una numero intero, e ritorna True se quel numero è contenuto nella lista.\n",
    "Non dovete usare `in`"
   ]
  },
  {
   "cell_type": "markdown",
   "metadata": {},
   "source": [
    "### Esercizio 7\n",
    "Scrivere una funzione che prende in input una lista di elementi generici e ritorna la lista degli elementi unici. Per esempio `[1,1,\"pippo\",\"paperino\",\"pippo\"]` diventa\n",
    "`[1,\"pippo\",\"paperino\"]`"
   ]
  },
  {
   "cell_type": "markdown",
   "metadata": {},
   "source": [
    "### Esercizio 8\n",
    "Considerate l'esercizio 4. Definiamo il grado di annidamento come il numero massimo di annidamenti multipli contenuti nella tupla. Per esempio `((1,2),3,(4,(5,6)))` ha un grado di annidamento pari a 2 perché contiene una tupla annidata `(4,(5,6))` che ha a sua volta un tupla al suo intero, ovvero `(5,6)`. La tuple `(1,2)` ha grado di annidamento pari a 0 perchè non ha tuple annidate al suo interno, invece `(4,(5,6))` ha grado di annidamento pari a 1 percè contiene `(5,6)`.  \n",
    "Scrivete una funzione ricorsiva che calcoli il grado di annidamento di una tupla."
   ]
  }
 ],
 "metadata": {
  "kernelspec": {
   "display_name": "Python 3",
   "language": "python",
   "name": "python3"
  },
  "language_info": {
   "codemirror_mode": {
    "name": "ipython",
    "version": 3
   },
   "file_extension": ".py",
   "mimetype": "text/x-python",
   "name": "python",
   "nbconvert_exporter": "python",
   "pygments_lexer": "ipython3",
   "version": "3.6.9"
  }
 },
 "nbformat": 4,
 "nbformat_minor": 4
}
