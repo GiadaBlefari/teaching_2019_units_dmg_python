{
 "cells": [
  {
   "cell_type": "markdown",
   "metadata": {},
   "source": [
    "### Correzione Esercizi"
   ]
  },
  {
   "cell_type": "markdown",
   "metadata": {},
   "source": [
    "### Esercizio 1\n",
    "Definire una funzione `esercizio1(parola,operazione)` che prende in input una stringa `parola` di numeri (es., \"124578\") e una stringa `operazione` che assume valori in \\{\"min\",\"max\"\\}. Il valore di default di \\<operazione\\> è \"min\". Se l'operazione è il \"min\" ritorna il minimo dei numeri presenti in `parola` se è \"max\" ritorna il massimo. Se il valore di `operazione` è qualcos'altro ritorna `None`. \n",
    "Se la stringa è vuota ritorna `None`.\\\n",
    "Esempi:\\\n",
    "esercizio1(\"1231\",\"min\") -> 1\\\n",
    "esercizio1(\"1231\",\"max\") -> 3\\\n",
    "esercizio1(\"1231\",\"pippo\") -> None\\\n",
    "esercizio1(\"\",\"min\") -> None"
   ]
  },
  {
   "cell_type": "code",
   "execution_count": null,
   "metadata": {},
   "outputs": [],
   "source": [
    "def take_the_Max(A):\n",
    "    Max_index = 0\n",
    "    for i in range(0,len(A)):\n",
    "        if  A[Max_index] < A[i]:\n",
    "            Max_index = i\n",
    "    return A[Max_index]\n",
    "\n",
    "def take_the_min(A):\n",
    "    min_index = 0\n",
    "    for i in range(0,len(A)):\n",
    "        if  A[min_index] > A[i]:\n",
    "            min_index = i\n",
    "    return A[min_index]\n",
    "\n",
    "def esercizio1(parola,operazione = take_the_min):\n",
    "    if operazione != take_the_min and operazione != take_the_Max:\n",
    "        print(None)\n",
    "        return None\n",
    "    elif len(parola) == 0:\n",
    "        print(None)\n",
    "        return None\n",
    "    else:\n",
    "        return operazione(parola)"
   ]
  },
  {
   "cell_type": "code",
   "execution_count": null,
   "metadata": {},
   "outputs": [],
   "source": [
    "def esercizio1(parola, operazione):\n",
    "    operazione == {\"min\",\"max\"}\n",
    "    if operazione is \"min\":\n",
    "        return min(parola)\n",
    "    elif operazione is \"max\":\n",
    "        return max(parola)\n",
    "    else:\n",
    "        return \"None\"\n",
    "\n",
    "esercizio1(\"13471\", \"min\")"
   ]
  },
  {
   "cell_type": "code",
   "execution_count": null,
   "metadata": {},
   "outputs": [],
   "source": [
    "#soluzione:\n",
    "def esercizio1(parola, operazione):\n",
    "  parola = str(parola)\n",
    "  return operazione(parola)"
   ]
  },
  {
   "cell_type": "markdown",
   "metadata": {},
   "source": [
    "### Esercizio 2\n",
    "Implementate in modo ricorsivo le seguenti successioni:\n",
    "\n",
    "**successione 1:**\\\n",
    "a_0 = 1\\\n",
    "a_n = 3*a_{n-1}+2\n",
    "\n",
    "**successione 2:**\\\n",
    "a_0 = 1\\\n",
    "a_1 = 1\\\n",
    "a_n = 3*a_{n-1}+ a_{n-2}"
   ]
  },
  {
   "cell_type": "code",
   "execution_count": null,
   "metadata": {},
   "outputs": [],
   "source": [
    "#Successione 1\n",
    "def S1(n):\n",
    "    if n == 1:\n",
    "        return 1\n",
    "    elif n - int(n) != 0 or n < 0:\n",
    "        print('Si scelga un input naturale non nullo')\n",
    "        return None\n",
    "    else:\n",
    "        return 3*S1(n-1) + 2\n",
    "\n",
    "# Successione 2\n",
    "def S2(n):\n",
    "    if n == 1 or n == 0:\n",
    "        return 1\n",
    "    elif n - int(n) != 0 or n < 0:\n",
    "        print('Si scelga un input naturale non nullo')\n",
    "        return None\n",
    "    else:\n",
    "        return 3*S2(n-1) + S2(n-2)"
   ]
  },
  {
   "cell_type": "code",
   "execution_count": null,
   "metadata": {},
   "outputs": [],
   "source": [
    "#successione1:\n",
    "def a(n):\n",
    "\n",
    "  if n == 0:\n",
    "    return 1\n",
    "  if n != 0:\n",
    "    return 3*(a(n-1))+2"
   ]
  },
  {
   "cell_type": "markdown",
   "metadata": {},
   "source": [
    "### Esercizio 3\n",
    "Definite una funzione ricorsiva che prende due interi `a` e `b` e ritorna il valore intero della divisione tra `a` e `b`"
   ]
  },
  {
   "cell_type": "code",
   "execution_count": null,
   "metadata": {},
   "outputs": [],
   "source": [
    "def Resto_div(a,b):\n",
    "    if a < b:\n",
    "        return a\n",
    "    else:\n",
    "        return Resto_div(a-b,b)\n",
    "\n",
    "def Dividi(a,b):\n",
    "    a = a - Resto_div(a,b)\n",
    "    if a == b:\n",
    "        return 1\n",
    "    else:\n",
    "        return 1 + Dividi(a-b,b)\n",
    "\n",
    "def Divisione_Intera(a,b):\n",
    "    frase = '{} diviso {} dà {} col resto di {}'\n",
    "    print(frase.format(a,b,Dividi(a,b),Resto_div(a,b)))"
   ]
  },
  {
   "cell_type": "code",
   "execution_count": null,
   "metadata": {},
   "outputs": [],
   "source": [
    "#soluzione\n",
    "def f(a,b):\n",
    "  return a//b"
   ]
  },
  {
   "cell_type": "markdown",
   "metadata": {},
   "source": [
    "### Esercizio 5\n",
    "Scrivere una funzione che prende in input una stringa e ritorna `True` se è un palindromo, `False` altrimenti.\\\n",
    "Palindromo: Di frasi o parole, che letti in senso inverso risultano identici; sinonimo di bifronte."
   ]
  },
  {
   "cell_type": "code",
   "execution_count": null,
   "metadata": {},
   "outputs": [],
   "source": [
    "def Pal_check(A):\n",
    "    n = len(A)\n",
    "    a = 0\n",
    "    mediana = n//2\n",
    "    for i in range(0,mediana):\n",
    "        if A[i] == A[n-i-1]:\n",
    "            a += 1\n",
    "        else:\n",
    "            return False\n",
    "    if a == mediana:\n",
    "        return True"
   ]
  },
  {
   "cell_type": "code",
   "execution_count": null,
   "metadata": {},
   "outputs": [],
   "source": [
    "def palindromo(parola):\n",
    "    if parola[::1] == parola[::-1]:\n",
    "        print(True)\n",
    "    else:\n",
    "        print(False)\n",
    "        \n",
    "palindromo(\"ottetto\")  "
   ]
  },
  {
   "cell_type": "markdown",
   "metadata": {},
   "source": [
    "### Esercizio 7 \n",
    "Definire la funzione `password_idonea(password)` che prende in input una password (stringa) e ritorna `True` se password contiene almeno una lettera maiuscola, due cifre e un carattere speciale tra i seguenti: ,/()&%£. Ritorna `False` in caso contrario. "
   ]
  },
  {
   "cell_type": "code",
   "execution_count": null,
   "metadata": {},
   "outputs": [],
   "source": [
    "maiuscole = \"ABCDEFGHIJKLMNOPQRSTUVWXYZ\"\n",
    "cifre = \"0123456789\"\n",
    "speciale = \",/()&%£\"\n",
    "def password_idonea(password):\n",
    "    maiuscole_counter = 0 \n",
    "    cifre_counter = 0 \n",
    "    speciale_counter = 0\n",
    "    for x in password: \n",
    "        if x in maiuscole:\n",
    "            maiuscole_counter = maiuscole_counter + 1\n",
    "        elif x in cifre:\n",
    "            cifre_counter = cifre_counter + 1\n",
    "        elif x in speciale:\n",
    "            speciale_counter = speciale_counter + 1\n",
    "    return speciale_counter >= 1 and maiuscole_counter >= 1 and cifre_counter >= 2\n",
    "print(password_idonea(\"fpepew033AA\"))"
   ]
  },
  {
   "cell_type": "markdown",
   "metadata": {},
   "source": [
    "### Esercizio 8\n",
    "Definite la funzione di Fibonacci utilizzando il ciclo for."
   ]
  },
  {
   "cell_type": "code",
   "execution_count": 94,
   "metadata": {},
   "outputs": [
    {
     "name": "stdout",
     "output_type": "stream",
     "text": [
      "2\n"
     ]
    }
   ],
   "source": [
    "def fib(n):\n",
    "    a = 1\n",
    "    a_1 = 1\n",
    "    if n == 0 or n == 1:\n",
    "        return 1\n",
    "    else:\n",
    "        for i in range(0,n-1):\n",
    "            a_2 = a_1 + a\n",
    "            a = a_1\n",
    "            a_1 = a_2\n",
    "        return a_2\n",
    "            \n",
    "print(fib(2))"
   ]
  },
  {
   "cell_type": "code",
   "execution_count": 92,
   "metadata": {},
   "outputs": [
    {
     "data": {
      "text/plain": [
       "2"
      ]
     },
     "execution_count": 92,
     "metadata": {},
     "output_type": "execute_result"
    }
   ],
   "source": []
  },
  {
   "cell_type": "markdown",
   "metadata": {},
   "source": [
    "### Ciclo `while`\n",
    "è una struttura di controllo iterativa che determina l'esecuzione di una porzione di programma ripetuta fino a che una condizione è soddisfatta"
   ]
  },
  {
   "cell_type": "code",
   "execution_count": 36,
   "metadata": {},
   "outputs": [
    {
     "name": "stdout",
     "output_type": "stream",
     "text": [
      "0 1 2 3 4 5 6 7 8 9 "
     ]
    }
   ],
   "source": [
    "i = 0 \n",
    "while(i<10):  # condizione \n",
    "    print(i,end=\" \")\n",
    "    i+=1"
   ]
  },
  {
   "cell_type": "markdown",
   "metadata": {},
   "source": [
    "#### `break` interrompere cicli iterativi\n",
    "per in terrompere cicli `for` o `while` possiamo usare il comando `break`"
   ]
  },
  {
   "cell_type": "code",
   "execution_count": 37,
   "metadata": {},
   "outputs": [
    {
     "name": "stdout",
     "output_type": "stream",
     "text": [
      "0 1 2 3 4 5 6 7 8 9 10 11 12 13 14 15 16 17 18 19 20 21 22 23 24 25 26 27 28 29 30 31 32 33 34 35 36 37 38 39 40 41 42 43 44 45 46 "
     ]
    }
   ],
   "source": [
    "for i in range(256):\n",
    "    print(i,end=\" \")\n",
    "    if(i>45):\n",
    "        break"
   ]
  },
  {
   "cell_type": "code",
   "execution_count": 38,
   "metadata": {},
   "outputs": [
    {
     "name": "stdout",
     "output_type": "stream",
     "text": [
      "0 1 2 3 4 5 6 7 "
     ]
    }
   ],
   "source": [
    "i = 0 \n",
    "while(i<10):  # condizione \n",
    "    print(i,end=\" \")\n",
    "    i+=1\n",
    "    if(i>7):\n",
    "        break"
   ]
  },
  {
   "cell_type": "markdown",
   "metadata": {},
   "source": [
    "### Recap: lambda expressions"
   ]
  },
  {
   "cell_type": "code",
   "execution_count": 45,
   "metadata": {},
   "outputs": [],
   "source": [
    "def somma1(x,y):\n",
    "    return x + y\n",
    "\n",
    "somma2 = lambda x,y : x + y"
   ]
  },
  {
   "cell_type": "code",
   "execution_count": 48,
   "metadata": {},
   "outputs": [],
   "source": [
    "def somma_differenza(x,y):\n",
    "    if x > y:\n",
    "        return x + y\n",
    "    else:\n",
    "        return x - y\n",
    "    \n",
    "somma_differenza = lambda x, y: x + y if x > y else x - y "
   ]
  },
  {
   "cell_type": "markdown",
   "metadata": {},
   "source": [
    "### Esercizio\n",
    "Definire la funzione `modulo` e la funzione `valore_assoluto` usando le lambda expressions "
   ]
  },
  {
   "cell_type": "markdown",
   "metadata": {},
   "source": [
    "### Esercizio\n",
    "Definire la funzione `integrale(f,a,b)` che prende in input: una funzione `f` e gli estremi di un intervallo `[a,b]`e  calcola l'integrale inferiore di `f` in `[a,b]`"
   ]
  },
  {
   "cell_type": "markdown",
   "metadata": {},
   "source": [
    "### Esercizio\n",
    "Definire la funzione `zero(f,a,b,acc)` che prende in input: una funzione continua a una variabile, gli estremi di un intervallo `[a,b]` e un valore di accuratezza (i.e, `acc`) e determina una soluzione di f in `[a,b]` con accuratezza data. \n"
   ]
  },
  {
   "cell_type": "markdown",
   "metadata": {},
   "source": [
    "### [Python Standard Library](https://docs.python.org/3/library/index.html)\n",
    "Libreria di funzioni e metodi utili. \n",
    " - math — Mathematical functions\n",
    " - random — Generate pseudo-random numbers\n",
    " - statistics — Mathematical statistics functions"
   ]
  },
  {
   "cell_type": "markdown",
   "metadata": {},
   "source": [
    "### Importare moduli esterni: import/from/as\n",
    "possiamo importare dei moduli esterni con il comando import\\\n",
    "`import random` importa nel nostro programma il modulo `random` "
   ]
  },
  {
   "cell_type": "code",
   "execution_count": 56,
   "metadata": {},
   "outputs": [
    {
     "data": {
      "text/plain": [
       "13"
      ]
     },
     "execution_count": 56,
     "metadata": {},
     "output_type": "execute_result"
    }
   ],
   "source": [
    "import random         # importiamo tutto il modulo ed accediamo alle funzioni tramite il .\n",
    "random.randint(0, 34)"
   ]
  },
  {
   "cell_type": "code",
   "execution_count": 57,
   "metadata": {},
   "outputs": [
    {
     "data": {
      "text/plain": [
       "29"
      ]
     },
     "execution_count": 57,
     "metadata": {},
     "output_type": "execute_result"
    }
   ],
   "source": [
    "from random import randint # importiamo solo la funzione randint \n",
    "randint(0, 34)"
   ]
  },
  {
   "cell_type": "code",
   "execution_count": 60,
   "metadata": {},
   "outputs": [
    {
     "data": {
      "text/plain": [
       "17"
      ]
     },
     "execution_count": 60,
     "metadata": {},
     "output_type": "execute_result"
    }
   ],
   "source": [
    "from random import randint as ciccio # importiamo solo la funzione randint e rinominiamola in ciccio\n",
    "ciccio(0, 34)"
   ]
  },
  {
   "cell_type": "markdown",
   "metadata": {},
   "source": [
    "### Esercizio\n",
    "Dare un'occhiata alla libreria math"
   ]
  },
  {
   "cell_type": "markdown",
   "metadata": {},
   "source": [
    "### Esercizio\n",
    "Definire una funzione `sequenza(n)` che prende in input un numero e ritorna una stringa di numeri interi randomici dove n appare solo come numero finale. "
   ]
  },
  {
   "cell_type": "markdown",
   "metadata": {},
   "source": [
    "### Esercizio\n",
    "Determinare numericamente il valore atteso della lunghezza delle stringhe definite nell esercizio precedente. "
   ]
  },
  {
   "cell_type": "markdown",
   "metadata": {},
   "source": [
    "### Tuple\n",
    "sequenza immutabile di oggetti (eterogenei)"
   ]
  },
  {
   "cell_type": "code",
   "execution_count": 81,
   "metadata": {},
   "outputs": [
    {
     "data": {
      "text/plain": [
       "tuple"
      ]
     },
     "execution_count": 81,
     "metadata": {},
     "output_type": "execute_result"
    }
   ],
   "source": [
    "a = (\"primo\", \"secondo\")\n",
    "type(a)"
   ]
  },
  {
   "cell_type": "code",
   "execution_count": 79,
   "metadata": {},
   "outputs": [],
   "source": [
    "a = (1, 3, \"d\")   # può contenere oggetti eterogenei!!\n",
    "a = 1, 3, 4\n",
    "a = tuple((2,3))\n",
    "b = tuple(\"sss\")\n",
    "a = 1, "
   ]
  },
  {
   "cell_type": "markdown",
   "metadata": {},
   "source": [
    "valgono i metodi classici delle sequenze: slicing, concatenazione, len"
   ]
  },
  {
   "cell_type": "code",
   "execution_count": 115,
   "metadata": {},
   "outputs": [
    {
     "data": {
      "text/plain": [
       "5"
      ]
     },
     "execution_count": 115,
     "metadata": {},
     "output_type": "execute_result"
    }
   ],
   "source": [
    "# slicing\n",
    "a = (1,2,3,\"ciccio\",(1,2))\n",
    "a[2:]"
   ]
  },
  {
   "cell_type": "code",
   "execution_count": 101,
   "metadata": {},
   "outputs": [
    {
     "data": {
      "text/plain": [
       "(1, 2, 3, 'ciccio', (1, 2), 1, 2, 3, 'ciccio', (1, 2))"
      ]
     },
     "execution_count": 101,
     "metadata": {},
     "output_type": "execute_result"
    }
   ],
   "source": [
    "# concatenazione\n",
    "a+a"
   ]
  },
  {
   "cell_type": "markdown",
   "metadata": {},
   "source": [
    "### Unpacking: modo alternativo per accede agli elementi"
   ]
  },
  {
   "cell_type": "code",
   "execution_count": 104,
   "metadata": {},
   "outputs": [
    {
     "name": "stdout",
     "output_type": "stream",
     "text": [
      "1\n",
      "2\n",
      "pippo\n"
     ]
    }
   ],
   "source": [
    "t = (1, 2, \"pippo\")\n",
    "a, b, c = t         # unpacking\n",
    "print(a)\n",
    "print(b)\n",
    "print(c)"
   ]
  },
  {
   "cell_type": "markdown",
   "metadata": {},
   "source": [
    "#### Esercizio\n",
    "Definire un codice che scambia il valore tra due variabili. "
   ]
  },
  {
   "cell_type": "code",
   "execution_count": 107,
   "metadata": {},
   "outputs": [
    {
     "name": "stdout",
     "output_type": "stream",
     "text": [
      "x = 1\n",
      "y = 2\n"
     ]
    }
   ],
   "source": [
    "x = 1 \n",
    "y = 2 \n",
    "\n",
    "# swap \n",
    "\n",
    "print(\"x =\",x)\n",
    "print(\"y =\",y)"
   ]
  },
  {
   "cell_type": "markdown",
   "metadata": {},
   "source": [
    "#### `.count()` "
   ]
  },
  {
   "cell_type": "code",
   "execution_count": 117,
   "metadata": {},
   "outputs": [
    {
     "ename": "AttributeError",
     "evalue": "'tuple' object has no attribute 'reverse'",
     "output_type": "error",
     "traceback": [
      "\u001b[1;31m---------------------------------------------------------------------------\u001b[0m",
      "\u001b[1;31mAttributeError\u001b[0m                            Traceback (most recent call last)",
      "\u001b[1;32m<ipython-input-117-b05872c9b047>\u001b[0m in \u001b[0;36m<module>\u001b[1;34m\u001b[0m\n\u001b[0;32m      1\u001b[0m \u001b[0mt\u001b[0m \u001b[1;33m=\u001b[0m \u001b[1;36m1\u001b[0m\u001b[1;33m,\u001b[0m\u001b[1;36m2\u001b[0m\u001b[1;33m,\u001b[0m\u001b[1;36m3\u001b[0m\u001b[1;33m\u001b[0m\u001b[1;33m\u001b[0m\u001b[0m\n\u001b[0;32m      2\u001b[0m \u001b[0mt\u001b[0m\u001b[1;33m.\u001b[0m\u001b[0mcount\u001b[0m\u001b[1;33m(\u001b[0m\u001b[1;36m2\u001b[0m\u001b[1;33m)\u001b[0m\u001b[1;33m\u001b[0m\u001b[1;33m\u001b[0m\u001b[0m\n\u001b[1;32m----> 3\u001b[1;33m \u001b[0mt\u001b[0m\u001b[1;33m.\u001b[0m\u001b[0mreverse\u001b[0m\u001b[1;33m(\u001b[0m\u001b[1;33m)\u001b[0m\u001b[1;33m\u001b[0m\u001b[1;33m\u001b[0m\u001b[0m\n\u001b[0m",
      "\u001b[1;31mAttributeError\u001b[0m: 'tuple' object has no attribute 'reverse'"
     ]
    }
   ],
   "source": [
    "t = 1,2,3\n",
    "t.count(2)"
   ]
  },
  {
   "cell_type": "code",
   "execution_count": null,
   "metadata": {},
   "outputs": [],
   "source": []
  }
 ],
 "metadata": {
  "kernelspec": {
   "display_name": "Python 3",
   "language": "python",
   "name": "python3"
  },
  "language_info": {
   "codemirror_mode": {
    "name": "ipython",
    "version": 3
   },
   "file_extension": ".py",
   "mimetype": "text/x-python",
   "name": "python",
   "nbconvert_exporter": "python",
   "pygments_lexer": "ipython3",
   "version": "3.7.6"
  }
 },
 "nbformat": 4,
 "nbformat_minor": 4
}
