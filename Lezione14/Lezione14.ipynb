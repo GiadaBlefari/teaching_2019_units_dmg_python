{
 "cells": [
  {
   "cell_type": "markdown",
   "metadata": {},
   "source": [
    "### Esame 22/06/2020 - dalle 16:00 alle 18:00 \n",
    "- Iscrizioni fino al 19/06/2020 \n",
    "- Esame Microsoft Teams\n",
    "- Hardware necessario: pc + webcam + microfono + Jupyter lab pronto all'uso.\n",
    "- Documenti: carta identità. \n",
    "- Luogo: stanza isolata, senza altri strumenti elettronici accesi oltre il pc/webcam/microfono, possibilmente una parete alle spalle.\n",
    "- Sorveglianza: telecamera esterna (in progress)\n",
    "- Studenti con disabilità certificata (mi contattino per email)\n",
    "- Esame svolto a step\n",
    "- Accesso all'esame verrà garantito solo a chi ha svolto tutti gli esercizi assegnati"
   ]
  },
  {
   "cell_type": "markdown",
   "metadata": {},
   "source": [
    "### Canale Youtube: [The Minimalist Scientist](https://www.youtube.com/channel/UCivR-JW3HiNRrfpGmHQClDg)"
   ]
  },
  {
   "cell_type": "markdown",
   "metadata": {},
   "source": [
    "### Esercizi"
   ]
  },
  {
   "cell_type": "code",
   "execution_count": 9,
   "metadata": {},
   "outputs": [
    {
     "data": {
      "text/plain": [
       "9"
      ]
     },
     "execution_count": 9,
     "metadata": {},
     "output_type": "execute_result"
    }
   ],
   "source": [
    "# Esercizio 1 \n",
    "# Definire una funzione che prende in input una lista e calcola il massimo.\n",
    "\n",
    "def esercizio1(lista):\n",
    "    return max(lista)\n",
    "\n",
    "def esercizio1_bis(lista):\n",
    "    if(len(lista)==0):\n",
    "        return\n",
    "    massimo = lista[0]\n",
    "    for l in lista[1:]:\n",
    "        if(l>massimo):\n",
    "            massimo=l\n",
    "    return massimo\n",
    "\n",
    "def esercizio1_bis(lista):\n",
    "    if(len(lista)==0):\n",
    "        return\n",
    "    if(len(lista)==1):\n",
    "        return lista[0]\n",
    "    else:\n",
    "        if(lista[0]<lista[1]):\n",
    "            return esercizio1_bis(lista[1:])\n",
    "        else:\n",
    "            lista_append = lista[2:]\n",
    "            lista_append.append(lista[0])\n",
    "            return esercizio1_bis(lista_append)\n",
    "        \n",
    "def esercizio1_bis_bis(lista):\n",
    "    if(len(lista)==0):\n",
    "        return\n",
    "    if(len(lista)==1):\n",
    "        return lista[0]\n",
    "    else:\n",
    "        return max(lista[0],esercizio1_bis(lista[1:]))\n",
    "\n",
    "        \n",
    "esercizio1_bis_bis([1,4,2,9,2])"
   ]
  },
  {
   "cell_type": "code",
   "execution_count": 11,
   "metadata": {},
   "outputs": [
    {
     "name": "stdout",
     "output_type": "stream",
     "text": [
      "[1, 3, 7, 9, 11, 13, 17, 19, 21, 23]\n"
     ]
    }
   ],
   "source": [
    "# Esercizio 2\n",
    "# Definiamo un generatore di numeri dispari non divisibili per 5.\n",
    "# Utilizziamo il generatore per creare una lista con i primi 10 numeri di questo tipo.\n",
    "\n",
    "def generatore_dispari():\n",
    "    i = 1\n",
    "    while(True):\n",
    "        if(i%5!=0):\n",
    "            yield i\n",
    "        i+=2\n",
    "                \n",
    "g = generatore_dispari()\n",
    "\n",
    "lista = [next(g) for i in range(10)]\n",
    "\n",
    "print(lista)"
   ]
  },
  {
   "cell_type": "code",
   "execution_count": 17,
   "metadata": {},
   "outputs": [
    {
     "data": {
      "text/plain": [
       "'amojekxfxwbp'"
      ]
     },
     "execution_count": 17,
     "metadata": {},
     "output_type": "execute_result"
    }
   ],
   "source": [
    "# Esercizio 3 \n",
    "# Definiamo un generatore randomico di passoword di lettere minuscoli.\n",
    "from random import randint as rint\n",
    "def esercizio3(n):\n",
    "    s = \"abcdefghilmnop\"\n",
    "    passwd = \"\"\n",
    "    for i in range(n):\n",
    "        passwd+=s[rint(0,len(s)-1)]\n",
    "    return passwd\n",
    "\n",
    "def esercizio3_bis(n):\n",
    "    passwd = \"\"\n",
    "    for i in range(n):\n",
    "        passwd+=chr(rint(97,122))\n",
    "    return passwd\n",
    "\n",
    "esercizio3_bis(12)"
   ]
  },
  {
   "cell_type": "code",
   "execution_count": 18,
   "metadata": {
    "collapsed": true,
    "jupyter": {
     "outputs_hidden": true
    }
   },
   "outputs": [
    {
     "name": "stdout",
     "output_type": "stream",
     "text": [
      "1 False : False\n",
      "2 False : False\n",
      "3 False : False\n",
      "4 False : False\n",
      "5 False : False\n",
      "6 False : False\n",
      "7 True : True\n",
      "8 False : False\n",
      "9 False : False\n",
      "10 False : False\n",
      "11 False : False\n",
      "12 False : False\n",
      "13 False : False\n",
      "14 True : True\n",
      "15 False : False\n",
      "16 False : False\n",
      "17 False : False\n",
      "18 False : False\n",
      "19 False : False\n",
      "20 False : False\n",
      "21 True : True\n",
      "22 False : False\n",
      "23 False : False\n",
      "24 False : False\n",
      "25 False : False\n",
      "26 False : False\n",
      "27 False : False\n",
      "28 True : True\n",
      "29 False : False\n",
      "30 False : False\n",
      "31 False : False\n",
      "32 False : False\n",
      "33 False : False\n",
      "34 False : False\n",
      "35 True : True\n",
      "36 False : False\n",
      "37 False : False\n",
      "38 False : False\n",
      "39 False : False\n",
      "40 False : False\n",
      "41 False : False\n",
      "42 True : True\n",
      "43 False : False\n",
      "44 False : False\n",
      "45 False : False\n",
      "46 False : False\n",
      "47 False : False\n",
      "48 False : False\n",
      "49 True : True\n",
      "50 False : False\n",
      "51 False : False\n",
      "52 False : False\n",
      "53 False : False\n",
      "54 False : False\n",
      "55 False : False\n",
      "56 True : True\n",
      "57 False : False\n",
      "58 False : False\n",
      "59 False : False\n",
      "60 False : False\n",
      "61 False : False\n",
      "62 False : False\n",
      "63 True : True\n",
      "64 False : False\n",
      "65 False : False\n",
      "66 False : False\n",
      "67 False : False\n",
      "68 False : False\n",
      "69 False : False\n",
      "70 True : True\n",
      "71 False : False\n",
      "72 False : False\n",
      "73 False : False\n",
      "74 False : False\n",
      "75 False : False\n",
      "76 False : False\n",
      "77 True : True\n",
      "78 False : False\n",
      "79 False : False\n",
      "80 False : False\n",
      "81 False : False\n",
      "82 False : False\n",
      "83 False : False\n",
      "84 True : True\n",
      "85 False : False\n",
      "86 False : False\n",
      "87 False : False\n",
      "88 False : False\n",
      "89 False : False\n",
      "90 False : False\n",
      "91 True : True\n",
      "92 False : False\n",
      "93 False : False\n",
      "94 False : False\n",
      "95 False : False\n",
      "96 False : False\n",
      "97 False : False\n",
      "98 True : True\n",
      "99 False : False\n"
     ]
    }
   ],
   "source": [
    "# Esercizio 4 (Foglio di Esercizi13)\n",
    "# Definire una funzione che implementi il \"Test di divisione per 7\" riportato di sequito.\n",
    "\n",
    "# Divisibilità per 7\n",
    "# Primo criterio (separazione dell'ultima cifra, quella delle unità):\n",
    "# Un numero è divisibile per 7 se la somma tra il numero ottenuto escludendo la cifra delle unità (prenumero) \n",
    "# e il quintuplo della cifra delle unità (coda numerica) è 7 o un multiplo di 7.\n",
    "\n",
    "# Esempio: 68089; calcoliamo 6808 + 9×5 = 6853; non sapendo se 6853 sia divisibile per 7 basta ripetere la procedura. 685 + 3×5 = 700,\n",
    "# che è evidentemente un multiplo di sette. Pertanto 68089 è multiplo di 7.\n",
    "\n",
    "# (DIFFICOLTA' AGGIUNTIVA) Provate a non usare il resto della divisione per 7 in Python... sapete solo che 7 è divisibile per 7...\n",
    "\n",
    "def div7r(n):\n",
    "    n_str=str(n)\n",
    "    if(n_str==\"49\"):\n",
    "        return True\n",
    "    if(len(n_str)==1):\n",
    "        return n_str==\"7\"\n",
    "    return div7r(int(n_str[:-1])+5*int(n_str[-1]))\n",
    "\n",
    "for i in range(1,100):\n",
    "    print(i,div7r(i),\":\",i%7==0)\n",
    "    "
   ]
  },
  {
   "cell_type": "code",
   "execution_count": 20,
   "metadata": {},
   "outputs": [],
   "source": [
    "# Esercizio 5\n",
    "# Definire una funzione che prende in input una lista di numeri e l'indirizzo di un file, elimini i doppioni e scriva i numeri su righe consecutive nel file\n",
    "\n",
    "def elimina_doppioni(lista):\n",
    "    unici = []\n",
    "    for i in range(len(lista)):\n",
    "        if( lista[i] not in unici):\n",
    "            unici.append(lista[i])\n",
    "    return unici\n",
    "\n",
    "\n",
    "def esercizio5(indirizzo,lista):\n",
    "    unici = elimina_doppioni(lista)\n",
    "    with open(indirizzo,\"wt\") as file:\n",
    "        for numero in unici:\n",
    "            file.write(str(numero)+\"\\n\")\n",
    "\n",
    "esercizio5(\"pippo.txt\",[1,1,1,2,3,2,5,6,5,4])"
   ]
  },
  {
   "cell_type": "code",
   "execution_count": 21,
   "metadata": {},
   "outputs": [],
   "source": [
    "# Esercizio 6\n",
    "# Definire una funzione che prende in input una lista di chiavi (univoche) e una lista di valori e costruisce il dizionario \"corrispondente\".\n",
    "\n",
    "chiavi = [\"a\",\"b\",\"c\"]\n",
    "valori = [1,2,3]\n",
    "#diz = {\"a\":1,\"b\":2,\"c\":3}\n",
    "\n",
    "def esercizio6(chiavi, valori):\n",
    "    return {a:b for a,b in zip(chiavi,valori)}\n",
    "\n",
    "def esercizio6(chiavi, valori):\n",
    "    return dict(zip(chiavi,valori))\n",
    "\n",
    "\n",
    "def esercizio6(chiavi,valori):\n",
    "    diz = {}\n",
    "    for i in range(len(chiavi)):\n",
    "        diz[chiavi[i]]=valori[i]\n",
    "    return diz"
   ]
  }
 ],
 "metadata": {
  "kernelspec": {
   "display_name": "Python 3",
   "language": "python",
   "name": "python3"
  },
  "language_info": {
   "codemirror_mode": {
    "name": "ipython",
    "version": 3
   },
   "file_extension": ".py",
   "mimetype": "text/x-python",
   "name": "python",
   "nbconvert_exporter": "python",
   "pygments_lexer": "ipython3",
   "version": "3.6.9"
  }
 },
 "nbformat": 4,
 "nbformat_minor": 4
}
