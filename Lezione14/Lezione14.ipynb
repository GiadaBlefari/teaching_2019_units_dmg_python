{
 "cells": [
  {
   "cell_type": "markdown",
   "metadata": {},
   "source": [
    "### Esame 22/06/2020 - dalle 16:00 alle 18:00 \n",
    "- Iscrizioni fino al 19/06/2020 \n",
    "- Esame Microsoft Teams\n",
    "- Hardware necessario: pc + webcam + microfono + Jupyter lab pronto all'uso.\n",
    "- Documenti: carta identità. \n",
    "- Luogo: stanza isolata, senza altri strumenti elettronici accesi oltre il pc/webcam/microfono, possibilmente una parete alle spalle.\n",
    "- Sorveglianza: telecamera esterna (in progress)\n",
    "- Studenti con disabilità certificata (mi contattino per email)\n",
    "- Esame svolto a step\n",
    "- Accesso all'esame verrà garantito solo a chi ha svolto tutti gli esercizi assegnati"
   ]
  },
  {
   "cell_type": "markdown",
   "metadata": {},
   "source": [
    "### Canale Youtube: [The Minimalist Scientist](https://www.youtube.com/channel/UCivR-JW3HiNRrfpGmHQClDg)"
   ]
  },
  {
   "cell_type": "markdown",
   "metadata": {},
   "source": [
    "### Esercizi"
   ]
  },
  {
   "cell_type": "code",
   "execution_count": null,
   "metadata": {},
   "outputs": [],
   "source": [
    "# Esercizio 1 \n",
    "# Definire una funzione che prende in input una lista e calcola il massimo."
   ]
  },
  {
   "cell_type": "code",
   "execution_count": null,
   "metadata": {},
   "outputs": [],
   "source": [
    "# Esercizio 2\n",
    "# Definiamo un generatore di numeri dispari non divisibili per 5.\n",
    "# Utilizziamo il generatore per creare una lista con i primi 10 numeri di questo tipo."
   ]
  },
  {
   "cell_type": "code",
   "execution_count": null,
   "metadata": {},
   "outputs": [],
   "source": [
    "# Esercizio 3 \n",
    "# Definiamo un generatore randomico di passoword di caratteri minuscoli."
   ]
  },
  {
   "cell_type": "code",
   "execution_count": null,
   "metadata": {},
   "outputs": [],
   "source": [
    "# Esercizio 4 (Foglio di Esercizi13)\n",
    "# Definire una funzione che implementi il \"Test di divisione per 7\" riportato di sequito.\n",
    "\n",
    "# Divisibilità per 7\n",
    "# Primo criterio (separazione dell'ultima cifra, quella delle unità):\n",
    "# Un numero è divisibile per 7 se la somma tra il numero ottenuto escludendo la cifra delle unità (prenumero) \n",
    "# e il quintuplo della cifra delle unità (coda numerica) è 7 o un multiplo di 7.\n",
    "\n",
    "# Esempio: 68089; calcoliamo 6808 + 9×5 = 6853; non sapendo se 6853 sia divisibile per 7 basta ripetere la procedura. 685 + 3×5 = 700,\n",
    "# che è evidentemente un multiplo di sette. Pertanto 68089 è multiplo di 7.\n",
    "\n",
    "# (DIFFICOLTA' AGGIUNTIVA) Provate a non usare il resto della divisione per 7 in Python... sapete solo che 7 è divisibile per 7..."
   ]
  },
  {
   "cell_type": "code",
   "execution_count": null,
   "metadata": {},
   "outputs": [],
   "source": [
    "# Esercizio 5\n",
    "# Definire una funzione che prende in input una lista di numeri e l'indirizzo di un file, elimini i doppioni e scriva i numeri su righe consecutive nel file "
   ]
  },
  {
   "cell_type": "code",
   "execution_count": null,
   "metadata": {},
   "outputs": [],
   "source": [
    "# Esercizio 6\n",
    "# Definire una funzione che prende in input una lista di chiavi (univoche) e una lista di valori e costruisce il dizionario \"corrispondente\""
   ]
  }
 ],
 "metadata": {
  "kernelspec": {
   "display_name": "Python 3",
   "language": "python",
   "name": "python3"
  },
  "language_info": {
   "codemirror_mode": {
    "name": "ipython",
    "version": 3
   },
   "file_extension": ".py",
   "mimetype": "text/x-python",
   "name": "python",
   "nbconvert_exporter": "python",
   "pygments_lexer": "ipython3",
   "version": "3.6.9"
  }
 },
 "nbformat": 4,
 "nbformat_minor": 4
}
