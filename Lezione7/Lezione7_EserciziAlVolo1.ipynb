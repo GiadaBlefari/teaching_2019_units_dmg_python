{
 "cells": [
  {
   "cell_type": "markdown",
   "metadata": {},
   "source": [
    "## [Gruppo di Esercizi n°1](https://www.programmareinpython.it/esercizi-python/)"
   ]
  },
  {
   "cell_type": "markdown",
   "metadata": {},
   "source": [
    "### Esercizio 003: Sei una Vocale?\n",
    "Scrivi una funzione a cui viene passato un carattere come parametro, e che ci dice se il carattere è o meno una vocale."
   ]
  },
  {
   "cell_type": "code",
   "execution_count": 18,
   "metadata": {},
   "outputs": [
    {
     "data": {
      "text/plain": [
       "True"
      ]
     },
     "execution_count": 18,
     "metadata": {},
     "output_type": "execute_result"
    }
   ],
   "source": [
    "def vocale(lettera):\n",
    "    return lettera in [\"a\",\"e\",\"i\",\"o\",\"u\"]\n",
    "\n",
    "def vocale_for(lettera):\n",
    "    for x in [\"a\",\"e\",\"i\",\"o\",\"u\"]:\n",
    "        if (x == lettera): \n",
    "            return True\n",
    "    return False\n",
    "\n",
    "def vocale_for_index(lettera):\n",
    "    vocali = [\"a\",\"e\",\"i\",\"o\",\"u\"]\n",
    "    for index in range(len(vocali)):\n",
    "        if (lettera == vocali[index]): \n",
    "            return True\n",
    "    return False\n",
    "        \n",
    "vocale_for_index(\"i\")"
   ]
  },
  {
   "cell_type": "markdown",
   "metadata": {},
   "source": [
    "### Esercizio 004: Sommatrice Inarrestabile\n",
    "Scrivi una funzione \"sommatrice\" che somma tra loro tutti gli elementi di una lista di numeri."
   ]
  },
  {
   "cell_type": "code",
   "execution_count": 27,
   "metadata": {},
   "outputs": [
    {
     "data": {
      "text/plain": [
       "7"
      ]
     },
     "execution_count": 27,
     "metadata": {},
     "output_type": "execute_result"
    }
   ],
   "source": [
    "def somma(lista):\n",
    "    somma = 0\n",
    "    for valore in lista:\n",
    "        somma+=valore\n",
    "    return somma\n",
    "somma([1,2,3])\n",
    "\n",
    "def somma_ricorsiva(lista):\n",
    "    if len(lista) == 0:\n",
    "        return 0\n",
    "    return lista[0] + somma_ricorsiva(lista[1:])\n",
    "\n",
    "def funzione_ricorsiva(fun_binaria, lista):\n",
    "    if len(lista) == 2:\n",
    "        return fun_binaria(lista[0],lista[1])\n",
    "    return fun_binaria(lista[0],funzione_ricorsiva(fun_binaria,lista[1:]))\n",
    "\n",
    "funzione_ricorsiva(lambda x,y: x+y,[2,2,3])\n",
    "    "
   ]
  },
  {
   "cell_type": "code",
   "execution_count": null,
   "metadata": {},
   "outputs": [],
   "source": [
    "[1,2,3,4] = f(1,f(2,f(3,f(4)))"
   ]
  },
  {
   "cell_type": "markdown",
   "metadata": {},
   "source": [
    "### Esercizio 005: Moltiplicatore Inarrestabile\n",
    "Scrivi una funzione \"moltiplicatrice\" che moltiplica tra loro tutti gli elementi di una lista di numeri."
   ]
  },
  {
   "cell_type": "markdown",
   "metadata": {},
   "source": []
  },
  {
   "cell_type": "markdown",
   "metadata": {},
   "source": [
    "### Esercizio 009: Generatore di Istogrammi\n",
    "Scrivi una funzione che, data una lista di numeri, fornisce in output un istogramma basato su questi numeri, usando asterischi per disegnarlo. Ad esempio, data la lista [3,7, 5, 9] deve produrre questo grafico:"
   ]
  },
  {
   "cell_type": "raw",
   "metadata": {},
   "source": [
    "***\n",
    "\n",
    "*******\n",
    "\n",
    "*********\n",
    "\n",
    "*****"
   ]
  },
  {
   "cell_type": "code",
   "execution_count": 29,
   "metadata": {},
   "outputs": [
    {
     "name": "stdout",
     "output_type": "stream",
     "text": [
      "*\n",
      "*******\n",
      "***\n"
     ]
    }
   ],
   "source": [
    "def istogramma(lista):\n",
    "    for valore in lista:\n",
    "        print(\"*\"*valore)\n",
    "istogramma([1,7,3])"
   ]
  },
  {
   "cell_type": "code",
   "execution_count": 36,
   "metadata": {},
   "outputs": [
    {
     "data": {
      "text/plain": [
       "9"
      ]
     },
     "execution_count": 36,
     "metadata": {},
     "output_type": "execute_result"
    }
   ],
   "source": [
    "lista= [1,9,2,3,4]\n",
    "\n",
    "def min_max(lista):\n",
    "    if(len(lista)==0):\n",
    "        return\n",
    "    minimo = lista[0]\n",
    "    massimo = lista[0]\n",
    "    for valore in lista[1:]:\n",
    "        if(minimo>valore):\n",
    "            minimo = valore\n",
    "        elif(massimo<valore):\n",
    "            massimo = valore\n",
    "    return (minimo, massimo)\n",
    "\n",
    "\n",
    "massimo = lambda x, y : x if x > y else y\n",
    "\n",
    "def max_rec(lista):\n",
    "    if(len(lista)==2):\n",
    "        return massimo(lista[0],lista[1])\n",
    "    else:\n",
    "        return massimo(lista[0],max_rec(lista[1:]))\n",
    "    \n",
    "max_rec([1,9,2,3,4])"
   ]
  },
  {
   "cell_type": "code",
   "execution_count": null,
   "metadata": {},
   "outputs": [],
   "source": []
  }
 ],
 "metadata": {
  "kernelspec": {
   "display_name": "Python 3",
   "language": "python",
   "name": "python3"
  },
  "language_info": {
   "codemirror_mode": {
    "name": "ipython",
    "version": 3
   },
   "file_extension": ".py",
   "mimetype": "text/x-python",
   "name": "python",
   "nbconvert_exporter": "python",
   "pygments_lexer": "ipython3",
   "version": "3.6.9"
  }
 },
 "nbformat": 4,
 "nbformat_minor": 4
}
